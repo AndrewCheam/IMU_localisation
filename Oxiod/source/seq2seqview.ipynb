{
 "cells": [
  {
   "cell_type": "code",
   "execution_count": 1,
   "id": "44069f39-0cc4-4a89-9507-05839628d907",
   "metadata": {
    "tags": []
   },
   "outputs": [],
   "source": [
    "from os import path as osp\n",
    "import sys\n",
    "\n",
    "import pandas as pd\n",
    "import numpy as np\n",
    "import quaternion\n",
    "import random\n",
    "\n",
    "from data_utils import CompiledSequence\n",
    "from scipy.ndimage import gaussian_filter1d\n",
    "from torch.utils.data import Dataset\n",
    "import matplotlib.pyplot as plt"
   ]
  },
  {
   "cell_type": "code",
   "execution_count": 2,
   "id": "fdac921e-3176-450e-a272-6ead1741cd52",
   "metadata": {
    "tags": []
   },
   "outputs": [],
   "source": [
    "class OxfordGlobSpeedSequence(CompiledSequence):\n",
    "    \"\"\"\n",
    "    Dataset :- Oxford (can be downloaded from https://drive.google.com/file/d/1UCHY3ENCybcBNyiC2wx1gQEWSLqzJag0/view)\n",
    "    Features :- raw angular rate and acceleration (includes gravity).\n",
    "    \"\"\"\n",
    "    feature_dim = 6\n",
    "    target_dim = 2\n",
    "    aux_dim = 8\n",
    "\n",
    "    def __init__(self, data_path=None, **kwargs):\n",
    "        super().__init__(**kwargs)\n",
    "        self.ts, self.features, self.targets, self.orientations, self.gt_pos = None, None, None, None, None\n",
    "\n",
    "        self.w = kwargs.get('interval', 1) #default interval will be one, if 'interval' is not given\n",
    "        if data_path is not None:\n",
    "            self.load(data_path)\n",
    "\n",
    "    def load(self, data_path):\n",
    "        if data_path[-1] == '/':\n",
    "            data_path = data_path[:-1]\n",
    "        \n",
    "        \n",
    "        data = pd.read_csv(data_path).dropna()\n",
    "        data = self.clean_Data(data)\n",
    "\n",
    "        column_names = ['rotation_rate_x(radians/s)', 'rotation_rate_y(radians/s)','rotation_rate_z(radians/s)', 'user_acc_x(G)', 'user_acc_y(G)',\n",
    "                        'user_acc_z(G)', 'translation.x', 'translation.y', 'translation.z', 'rotation.x', 'rotation.y', 'rotation.z', 'rotation.w']\n",
    "\n",
    "        data.columns = column_names\n",
    "        # Print the modified DataFrame\n",
    "        #display(data)\n",
    "        \n",
    "        \n",
    "        gyro = data[['rotation_rate_x(radians/s)', 'rotation_rate_y(radians/s)', 'rotation_rate_z(radians/s)']].values\n",
    "        #convert acceleration into metre per second square instead of in terms of gravity\n",
    "        data[['user_acc_x(m/s2)', 'user_acc_y(m/s2)', 'user_acc_z(m/s2)']] = data[['user_acc_x(G)', 'user_acc_y(G)', 'user_acc_z(G)']] * 9.81\n",
    "        acce = data[['user_acc_x(m/s2)', 'user_acc_y(m/s2)', 'user_acc_z(m/s2)']].values\n",
    "        \n",
    "        #Add in the time data. The time data will be an estimate based on the fact that the frequency of IMU sampling (100Hz)\n",
    "        time_arr = np.linspace(0, len(data)*0.01, num = len(data))\n",
    "        data['Time(s)'] = time_arr\n",
    "        ts = time_arr\n",
    "        gt_pos = data[['translation.x', 'translation.y', 'translation.z']].values\n",
    "\n",
    "        dt = (ts[self.w:] - ts[:-self.w])[:, None]\n",
    "        glob_v = (gt_pos[self.w:] - gt_pos[:-self.w]) / dt #global velocity that takes displacement divide by time\n",
    "        \n",
    "        #change velocity values that are greater than 8m/s to be the average of the surrounding values\n",
    "        outlier_index = np.argwhere(np.logical_or(glob_v >= 5, glob_v <= -5))\n",
    "        for index in outlier_index:\n",
    "            idx = index[0]\n",
    "            glob_v_slice = glob_v[idx:idx + 5, index[1]]\n",
    "            avg_slice = (np.average(glob_v_slice) + np.average(glob_v[idx - 5:idx, index[1]])) / 2\n",
    "            glob_v[idx, index[1]] = avg_slice\n",
    "        \n",
    "        \n",
    "\n",
    "        \n",
    "        # Right now, ori_q is using the ground truth rotation quaternion\n",
    "        ori = data[['rotation.x', 'rotation.y', 'rotation.z', 'rotation.w']]\n",
    "        ori_q = quaternion.from_float_array(ori)\n",
    "        \n",
    "        #convert to quaternion in order to do quaternion operation, through padding of zeroes. The new quaternion will then have the pads removed \n",
    "        gyro_q = quaternion.from_float_array(np.concatenate([np.zeros([gyro.shape[0], 1]), gyro], axis=1))\n",
    "        acce_q = quaternion.from_float_array(np.concatenate([np.zeros([acce.shape[0], 1]), acce], axis=1))\n",
    "        glob_gyro = quaternion.as_float_array(ori_q * gyro_q * ori_q.conj())[1:, 1:]\n",
    "        glob_acce = quaternion.as_float_array(ori_q * acce_q * ori_q.conj())[1:, 1:]\n",
    "\n",
    "        start_frame = 0\n",
    "        self.ts = ts[start_frame:]\n",
    "        self.features = np.concatenate([glob_gyro, glob_acce], axis=1)[start_frame:]\n",
    "        self.targets = glob_v[start_frame:, :2]\n",
    "        self.orientations = quaternion.as_float_array(ori_q)[start_frame:]\n",
    "        self.gt_pos = gt_pos[start_frame:]\n",
    "\n",
    "    def clean_Data(self, data):\n",
    "        def split_consecutive_numbers(lst):\n",
    "            sublists = []\n",
    "            sublist = []\n",
    "\n",
    "            for i in range(len(lst)):\n",
    "                if not sublist or lst[i] == sublist[-1] + 1:\n",
    "                    sublist.append(lst[i])\n",
    "                else:\n",
    "                    sublists.append(sublist)\n",
    "                    sublist = [lst[i]]\n",
    "\n",
    "            if sublist:\n",
    "                sublists.append(sublist)\n",
    "\n",
    "            return sublists\n",
    "        #remove values that were not recorded properly, namely those that are at position (0,0,0) even after two seconds\n",
    "        indexes = data[(data['translation.x'] == 0) & (data['translation.y'] == 0) & (data.index >= 200)].index\n",
    "        sublists = split_consecutive_numbers(indexes)\n",
    "        for sublist in sublists:\n",
    "            first_index = sublist[0]\n",
    "            last_index = sublist[-1]\n",
    "            data['translation.x'].iloc[sublist] = np.linspace(data['translation.x'][first_index-1], data['translation.x'][last_index+1], len(sublist))\n",
    "            data['translation.y'].iloc[sublist] = np.linspace(data['translation.y'][first_index-1], data['translation.y'][last_index+1], len(sublist))\n",
    "        return data\n",
    "    \n",
    "    def get_feature(self):\n",
    "        return self.features\n",
    "\n",
    "    def get_target(self):\n",
    "        return self.targets\n",
    "\n",
    "    def get_aux(self):\n",
    "        aux = np.concatenate([self.ts[:, None], self.orientations, self.gt_pos], axis=1)\n",
    "        return aux\n",
    "\n",
    "    # def get_meta(self):\n",
    "    #     return '{}: device: {}, ori_error ({}): {:.3f}'.format(\n",
    "    #         self.info['path'], self.info['device'], self.info['ori_source'], self.info['source_ori_error'])\n",
    "    "
   ]
  },
  {
   "cell_type": "code",
   "execution_count": 25,
   "id": "eb3d88b0-188a-461a-9ab6-b9e9a0d71a0e",
   "metadata": {
    "tags": []
   },
   "outputs": [],
   "source": [
    "class SequenceToSequenceDataset(Dataset):\n",
    "    def __init__(self, seq_type, root_dir, data_list, cache_path=None, step_size=10, window_size=200, random_shift=0, transform=None, **kwargs):\n",
    "        super(SequenceToSequenceDataset, self).__init__()\n",
    "        self.feature_dim = seq_type.feature_dim\n",
    "        self.target_dim = seq_type.target_dim\n",
    "        self.aux_dim = seq_type.aux_dim\n",
    "        self.window_size = window_size\n",
    "        self.step_size = step_size\n",
    "        self.random_shift = random_shift\n",
    "        self.transform = transform\n",
    "\n",
    "        self.data_path = [osp.join(root_dir, data) for data in data_list]\n",
    "        self.index_map = []\n",
    "        self.ts, self.orientations, self.gt_pos = [], [], []\n",
    "        self.features, self.targets, aux = [], [], []\n",
    "        \n",
    "  \n",
    "        for i in range(len(data_list)):\n",
    "            seq = seq_type(osp.join(root_dir, data_list[i]), **kwargs)\n",
    "            self.features.append(seq.get_feature())\n",
    "            self.targets.append(seq.get_target())\n",
    "            aux.append(seq.get_aux())\n",
    "        \n",
    "        #CAN ADD SMOOTHING HERE\n",
    "        \n",
    "        for i in range(len(data_list)):            \n",
    "            self.features[i] = self.features[i][:-1] \n",
    "            self.targets[i] = self.targets[i]\n",
    "            self.ts.append(aux[i][:-1, :1])\n",
    "            self.orientations.append(aux[i][:-1, 1:5])\n",
    "            self.gt_pos.append(aux[i][:-1, -3:])\n",
    "            \n",
    "            max_norm = kwargs.get('max_velocity_norm', 3.0)\n",
    "            velocity = np.linalg.norm(self.targets[i], axis=1)  # Remove outlier ground truth data\n",
    "            bad_data = velocity > max_norm\n",
    "            for j in range(window_size + random_shift, self.targets[i].shape[0], step_size):\n",
    "                if not bad_data[j - window_size - random_shift:j + random_shift].any():\n",
    "                    self.index_map.append([i, j])\n",
    "\n",
    "        if kwargs.get('shuffle', True):\n",
    "            random.shuffle(self.index_map)\n",
    "            \n",
    "        \n",
    "    def __getitem__(self, item):\n",
    "        \n",
    "        seq_id, frame_id = self.index_map[item][0], self.index_map[item][1]\n",
    "        \n",
    "        if self.random_shift > 0:\n",
    "            frame_id += random.randrange(-self.random_shift, self.random_shift)\n",
    "            frame_id = max(self.window_size, min(frame_id, self.targets[seq_id].shape[0] - 1))\n",
    "\n",
    "        #frame_id = min(frame_id, self.targets[seq_id].shape[0] - self.window_size)\n",
    "        feat = np.copy(self.features[seq_id][frame_id - self.window_size:frame_id])\n",
    "        targ = np.copy(self.targets[seq_id][frame_id - self.window_size:frame_id])\n",
    "\n",
    "        if self.transform is not None:\n",
    "            feat, targ = self.transform(feat, targ)\n",
    "\n",
    "        return feat.astype(np.float32), targ.astype(np.float32), seq_id, frame_id\n",
    "\n",
    "    def __len__(self):\n",
    "        return len(self.index_map)\n",
    "    \n",
    "    def get_test_seq(self, i):\n",
    "        return self.features[i].astype(np.float32)[np.newaxis,], self.targets[i].astype(np.float32)"
   ]
  },
  {
   "cell_type": "code",
   "execution_count": 28,
   "id": "d12c6401-e232-48df-883c-ccc47f578564",
   "metadata": {
    "tags": []
   },
   "outputs": [],
   "source": [
    "from transformations import *\n",
    "def get_dataset(root_dir, data_list, **kwargs):\n",
    "    input_format, output_format = [0, 3, 6], [0, 2]\n",
    "    mode = kwargs.get('mode', 'train')\n",
    "\n",
    "    random_shift, shuffle, transforms, grv_only = 0, False, [], False\n",
    "\n",
    "    if mode == 'train':\n",
    "        random_shift = step_size // 2\n",
    "        shuffle = True\n",
    "        transforms.append(RandomHoriRotateSeq(input_format, output_format))\n",
    "    elif mode == 'val':\n",
    "        shuffle = True\n",
    "    elif mode == 'test':\n",
    "        shuffle = False\n",
    "        grv_only = True\n",
    "    transforms = ComposeTransform(transforms)\n",
    "\n",
    "    seq_type = OxfordGlobSpeedSequence\n",
    "    dataset = SequenceToSequenceDataset(seq_type, root_dir, data_list, None, step_size = step_size, window_size = window_size,\n",
    "                                        random_shift=random_shift, transform=transforms, shuffle=shuffle,\n",
    "                                        grv_only=grv_only)\n",
    "\n",
    "    return dataset\n",
    "\n",
    "\n",
    "def get_dataset_from_list(root_dir, list_path, **kwargs):\n",
    "    with open(list_path) as f:\n",
    "        data_list = [s.strip().split(',')[0] for s in f.readlines() if len(s) > 0 and s[0] != '#']\n",
    "    return get_dataset(root_dir, data_list, **kwargs)\n"
   ]
  },
  {
   "cell_type": "code",
   "execution_count": 38,
   "id": "f4e9dd3b-fd45-4523-ac7b-7d7947107e4a",
   "metadata": {
    "tags": []
   },
   "outputs": [],
   "source": [
    "from torch.utils.data import DataLoader\n",
    "step_size = 10\n",
    "window_size = 200\n",
    "train_dataset = get_dataset('/home/jovyan/localisation_datasets/Oxford Inertial Odometry Dataset/large scale', ['floor4/combined3.csv'], mode='test', step_size = step_size, window_size = 200)\n",
    "train_loader = DataLoader(train_dataset, batch_size=128, shuffle=False, drop_last = True)"
   ]
  },
  {
   "cell_type": "code",
   "execution_count": 39,
   "id": "5438fba9-f8a1-4b71-a7db-a1a3c99604e2",
   "metadata": {
    "tags": []
   },
   "outputs": [
    {
     "data": {
      "text/plain": [
       "(16201, 6)"
      ]
     },
     "execution_count": 39,
     "metadata": {},
     "output_type": "execute_result"
    }
   ],
   "source": [
    "train_dataset.features[0].shape"
   ]
  },
  {
   "cell_type": "code",
   "execution_count": 40,
   "id": "97247837-5277-47ec-bd0e-5f356dcb59da",
   "metadata": {
    "tags": []
   },
   "outputs": [
    {
     "name": "stdout",
     "output_type": "stream",
     "text": [
      "torch.Size([128, 200, 6])\n",
      "torch.Size([128, 200, 6])\n",
      "torch.Size([128, 200, 6])\n",
      "torch.Size([128, 200, 6])\n",
      "torch.Size([128, 200, 6])\n",
      "torch.Size([128, 200, 6])\n",
      "torch.Size([128, 200, 6])\n",
      "torch.Size([128, 200, 6])\n",
      "torch.Size([128, 200, 6])\n"
     ]
    }
   ],
   "source": [
    "targ_all = []\n",
    "for bid, (feat, targ, _, _) in enumerate(train_loader):\n",
    "    print(feat.shape)\n"
   ]
  },
  {
   "cell_type": "code",
   "execution_count": 407,
   "id": "ec107dac-3bb8-4b7f-9ce7-f10a28fc20ee",
   "metadata": {
    "tags": []
   },
   "outputs": [
    {
     "data": {
      "text/plain": [
       "(1536, 2)"
      ]
     },
     "execution_count": 407,
     "metadata": {},
     "output_type": "execute_result"
    }
   ],
   "source": [
    "targ_all.shape"
   ]
  },
  {
   "cell_type": "code",
   "execution_count": 408,
   "id": "a117f85b-b55b-4502-82ee-a46619608cb3",
   "metadata": {
    "tags": []
   },
   "outputs": [
    {
     "data": {
      "text/plain": [
       "4.8097034"
      ]
     },
     "execution_count": 408,
     "metadata": {},
     "output_type": "execute_result"
    }
   ],
   "source": [
    "np.max(targ_all)"
   ]
  },
  {
   "cell_type": "code",
   "execution_count": 400,
   "id": "93b5c8d7-1408-470f-a71a-7ea238968c92",
   "metadata": {
    "tags": []
   },
   "outputs": [
    {
     "name": "stdout",
     "output_type": "stream",
     "text": [
      "[[329   0]\n",
      " [341   0]]\n",
      "-2.6998334\n"
     ]
    }
   ],
   "source": [
    "index = np.argwhere(targ_all == np.min(targ_all))\n",
    "print(index)\n",
    "print(np.min(targ_all))"
   ]
  },
  {
   "cell_type": "code",
   "execution_count": 401,
   "id": "a0572bd2-3ef8-4296-8001-0ae5b31efecf",
   "metadata": {
    "tags": []
   },
   "outputs": [
    {
     "ename": "ValueError",
     "evalue": "x and y must have same first dimension, but have shapes (43640,) and (16215,)",
     "output_type": "error",
     "traceback": [
      "\u001b[0;31m---------------------------------------------------------------------------\u001b[0m",
      "\u001b[0;31mValueError\u001b[0m                                Traceback (most recent call last)",
      "Cell \u001b[0;32mIn[401], line 2\u001b[0m\n\u001b[1;32m      1\u001b[0m \u001b[38;5;28;01mimport\u001b[39;00m \u001b[38;5;21;01mmatplotlib\u001b[39;00m\u001b[38;5;21;01m.\u001b[39;00m\u001b[38;5;21;01mpyplot\u001b[39;00m \u001b[38;5;28;01mas\u001b[39;00m \u001b[38;5;21;01mplt\u001b[39;00m\n\u001b[0;32m----> 2\u001b[0m \u001b[43mplt\u001b[49m\u001b[38;5;241;43m.\u001b[39;49m\u001b[43mplot\u001b[49m\u001b[43m(\u001b[49m\u001b[43mnp\u001b[49m\u001b[38;5;241;43m.\u001b[39;49m\u001b[43mlinspace\u001b[49m\u001b[43m(\u001b[49m\u001b[38;5;241;43m0\u001b[39;49m\u001b[43m,\u001b[49m\u001b[43m \u001b[49m\u001b[38;5;241;43m43640\u001b[39;49m\u001b[43m,\u001b[49m\u001b[38;5;241;43m43640\u001b[39;49m\u001b[43m)\u001b[49m\u001b[43m,\u001b[49m\u001b[43m \u001b[49m\u001b[43mglob_v\u001b[49m\u001b[43m[\u001b[49m\u001b[43m:\u001b[49m\u001b[43m,\u001b[49m\u001b[38;5;241;43m0\u001b[39;49m\u001b[43m]\u001b[49m\u001b[43m)\u001b[49m\n",
      "File \u001b[0;32m/usr/local/lib/python3.8/dist-packages/matplotlib/pyplot.py:2812\u001b[0m, in \u001b[0;36mplot\u001b[0;34m(scalex, scaley, data, *args, **kwargs)\u001b[0m\n\u001b[1;32m   2810\u001b[0m \u001b[38;5;129m@_copy_docstring_and_deprecators\u001b[39m(Axes\u001b[38;5;241m.\u001b[39mplot)\n\u001b[1;32m   2811\u001b[0m \u001b[38;5;28;01mdef\u001b[39;00m \u001b[38;5;21mplot\u001b[39m(\u001b[38;5;241m*\u001b[39margs, scalex\u001b[38;5;241m=\u001b[39m\u001b[38;5;28;01mTrue\u001b[39;00m, scaley\u001b[38;5;241m=\u001b[39m\u001b[38;5;28;01mTrue\u001b[39;00m, data\u001b[38;5;241m=\u001b[39m\u001b[38;5;28;01mNone\u001b[39;00m, \u001b[38;5;241m*\u001b[39m\u001b[38;5;241m*\u001b[39mkwargs):\n\u001b[0;32m-> 2812\u001b[0m     \u001b[38;5;28;01mreturn\u001b[39;00m \u001b[43mgca\u001b[49m\u001b[43m(\u001b[49m\u001b[43m)\u001b[49m\u001b[38;5;241;43m.\u001b[39;49m\u001b[43mplot\u001b[49m\u001b[43m(\u001b[49m\n\u001b[1;32m   2813\u001b[0m \u001b[43m        \u001b[49m\u001b[38;5;241;43m*\u001b[39;49m\u001b[43margs\u001b[49m\u001b[43m,\u001b[49m\u001b[43m \u001b[49m\u001b[43mscalex\u001b[49m\u001b[38;5;241;43m=\u001b[39;49m\u001b[43mscalex\u001b[49m\u001b[43m,\u001b[49m\u001b[43m \u001b[49m\u001b[43mscaley\u001b[49m\u001b[38;5;241;43m=\u001b[39;49m\u001b[43mscaley\u001b[49m\u001b[43m,\u001b[49m\n\u001b[1;32m   2814\u001b[0m \u001b[43m        \u001b[49m\u001b[38;5;241;43m*\u001b[39;49m\u001b[38;5;241;43m*\u001b[39;49m\u001b[43m(\u001b[49m\u001b[43m{\u001b[49m\u001b[38;5;124;43m\"\u001b[39;49m\u001b[38;5;124;43mdata\u001b[39;49m\u001b[38;5;124;43m\"\u001b[39;49m\u001b[43m:\u001b[49m\u001b[43m \u001b[49m\u001b[43mdata\u001b[49m\u001b[43m}\u001b[49m\u001b[43m \u001b[49m\u001b[38;5;28;43;01mif\u001b[39;49;00m\u001b[43m \u001b[49m\u001b[43mdata\u001b[49m\u001b[43m \u001b[49m\u001b[38;5;129;43;01mis\u001b[39;49;00m\u001b[43m \u001b[49m\u001b[38;5;129;43;01mnot\u001b[39;49;00m\u001b[43m \u001b[49m\u001b[38;5;28;43;01mNone\u001b[39;49;00m\u001b[43m \u001b[49m\u001b[38;5;28;43;01melse\u001b[39;49;00m\u001b[43m \u001b[49m\u001b[43m{\u001b[49m\u001b[43m}\u001b[49m\u001b[43m)\u001b[49m\u001b[43m,\u001b[49m\u001b[43m \u001b[49m\u001b[38;5;241;43m*\u001b[39;49m\u001b[38;5;241;43m*\u001b[39;49m\u001b[43mkwargs\u001b[49m\u001b[43m)\u001b[49m\n",
      "File \u001b[0;32m/usr/local/lib/python3.8/dist-packages/matplotlib/axes/_axes.py:1688\u001b[0m, in \u001b[0;36mAxes.plot\u001b[0;34m(self, scalex, scaley, data, *args, **kwargs)\u001b[0m\n\u001b[1;32m   1445\u001b[0m \u001b[38;5;250m\u001b[39m\u001b[38;5;124;03m\"\"\"\u001b[39;00m\n\u001b[1;32m   1446\u001b[0m \u001b[38;5;124;03mPlot y versus x as lines and/or markers.\u001b[39;00m\n\u001b[1;32m   1447\u001b[0m \n\u001b[0;32m   (...)\u001b[0m\n\u001b[1;32m   1685\u001b[0m \u001b[38;5;124;03m(``'green'``) or hex strings (``'#008000'``).\u001b[39;00m\n\u001b[1;32m   1686\u001b[0m \u001b[38;5;124;03m\"\"\"\u001b[39;00m\n\u001b[1;32m   1687\u001b[0m kwargs \u001b[38;5;241m=\u001b[39m cbook\u001b[38;5;241m.\u001b[39mnormalize_kwargs(kwargs, mlines\u001b[38;5;241m.\u001b[39mLine2D)\n\u001b[0;32m-> 1688\u001b[0m lines \u001b[38;5;241m=\u001b[39m [\u001b[38;5;241m*\u001b[39m\u001b[38;5;28mself\u001b[39m\u001b[38;5;241m.\u001b[39m_get_lines(\u001b[38;5;241m*\u001b[39margs, data\u001b[38;5;241m=\u001b[39mdata, \u001b[38;5;241m*\u001b[39m\u001b[38;5;241m*\u001b[39mkwargs)]\n\u001b[1;32m   1689\u001b[0m \u001b[38;5;28;01mfor\u001b[39;00m line \u001b[38;5;129;01min\u001b[39;00m lines:\n\u001b[1;32m   1690\u001b[0m     \u001b[38;5;28mself\u001b[39m\u001b[38;5;241m.\u001b[39madd_line(line)\n",
      "File \u001b[0;32m/usr/local/lib/python3.8/dist-packages/matplotlib/axes/_base.py:311\u001b[0m, in \u001b[0;36m_process_plot_var_args.__call__\u001b[0;34m(self, data, *args, **kwargs)\u001b[0m\n\u001b[1;32m    309\u001b[0m     this \u001b[38;5;241m+\u001b[39m\u001b[38;5;241m=\u001b[39m args[\u001b[38;5;241m0\u001b[39m],\n\u001b[1;32m    310\u001b[0m     args \u001b[38;5;241m=\u001b[39m args[\u001b[38;5;241m1\u001b[39m:]\n\u001b[0;32m--> 311\u001b[0m \u001b[38;5;28;01myield from\u001b[39;00m \u001b[38;5;28;43mself\u001b[39;49m\u001b[38;5;241;43m.\u001b[39;49m\u001b[43m_plot_args\u001b[49m\u001b[43m(\u001b[49m\n\u001b[1;32m    312\u001b[0m \u001b[43m    \u001b[49m\u001b[43mthis\u001b[49m\u001b[43m,\u001b[49m\u001b[43m \u001b[49m\u001b[43mkwargs\u001b[49m\u001b[43m,\u001b[49m\u001b[43m \u001b[49m\u001b[43mambiguous_fmt_datakey\u001b[49m\u001b[38;5;241;43m=\u001b[39;49m\u001b[43mambiguous_fmt_datakey\u001b[49m\u001b[43m)\u001b[49m\n",
      "File \u001b[0;32m/usr/local/lib/python3.8/dist-packages/matplotlib/axes/_base.py:504\u001b[0m, in \u001b[0;36m_process_plot_var_args._plot_args\u001b[0;34m(self, tup, kwargs, return_kwargs, ambiguous_fmt_datakey)\u001b[0m\n\u001b[1;32m    501\u001b[0m     \u001b[38;5;28mself\u001b[39m\u001b[38;5;241m.\u001b[39maxes\u001b[38;5;241m.\u001b[39myaxis\u001b[38;5;241m.\u001b[39mupdate_units(y)\n\u001b[1;32m    503\u001b[0m \u001b[38;5;28;01mif\u001b[39;00m x\u001b[38;5;241m.\u001b[39mshape[\u001b[38;5;241m0\u001b[39m] \u001b[38;5;241m!=\u001b[39m y\u001b[38;5;241m.\u001b[39mshape[\u001b[38;5;241m0\u001b[39m]:\n\u001b[0;32m--> 504\u001b[0m     \u001b[38;5;28;01mraise\u001b[39;00m \u001b[38;5;167;01mValueError\u001b[39;00m(\u001b[38;5;124mf\u001b[39m\u001b[38;5;124m\"\u001b[39m\u001b[38;5;124mx and y must have same first dimension, but \u001b[39m\u001b[38;5;124m\"\u001b[39m\n\u001b[1;32m    505\u001b[0m                      \u001b[38;5;124mf\u001b[39m\u001b[38;5;124m\"\u001b[39m\u001b[38;5;124mhave shapes \u001b[39m\u001b[38;5;132;01m{\u001b[39;00mx\u001b[38;5;241m.\u001b[39mshape\u001b[38;5;132;01m}\u001b[39;00m\u001b[38;5;124m and \u001b[39m\u001b[38;5;132;01m{\u001b[39;00my\u001b[38;5;241m.\u001b[39mshape\u001b[38;5;132;01m}\u001b[39;00m\u001b[38;5;124m\"\u001b[39m)\n\u001b[1;32m    506\u001b[0m \u001b[38;5;28;01mif\u001b[39;00m x\u001b[38;5;241m.\u001b[39mndim \u001b[38;5;241m>\u001b[39m \u001b[38;5;241m2\u001b[39m \u001b[38;5;129;01mor\u001b[39;00m y\u001b[38;5;241m.\u001b[39mndim \u001b[38;5;241m>\u001b[39m \u001b[38;5;241m2\u001b[39m:\n\u001b[1;32m    507\u001b[0m     \u001b[38;5;28;01mraise\u001b[39;00m \u001b[38;5;167;01mValueError\u001b[39;00m(\u001b[38;5;124mf\u001b[39m\u001b[38;5;124m\"\u001b[39m\u001b[38;5;124mx and y can be no greater than 2D, but have \u001b[39m\u001b[38;5;124m\"\u001b[39m\n\u001b[1;32m    508\u001b[0m                      \u001b[38;5;124mf\u001b[39m\u001b[38;5;124m\"\u001b[39m\u001b[38;5;124mshapes \u001b[39m\u001b[38;5;132;01m{\u001b[39;00mx\u001b[38;5;241m.\u001b[39mshape\u001b[38;5;132;01m}\u001b[39;00m\u001b[38;5;124m and \u001b[39m\u001b[38;5;132;01m{\u001b[39;00my\u001b[38;5;241m.\u001b[39mshape\u001b[38;5;132;01m}\u001b[39;00m\u001b[38;5;124m\"\u001b[39m)\n",
      "\u001b[0;31mValueError\u001b[0m: x and y must have same first dimension, but have shapes (43640,) and (16215,)"
     ]
    },
    {
     "data": {
      "image/png": "[encoded data removed]",
      "text/plain": [
       "<Figure size 640x480 with 1 Axes>"
      ]
     },
     "metadata": {},
     "output_type": "display_data"
    }
   ],
   "source": [
    "import matplotlib.pyplot as plt\n",
    "plt.plot(np.linspace(0, 43640,43640), glob_v[:,0])"
   ]
  },
  {
   "cell_type": "code",
   "execution_count": 325,
   "id": "869e525a-368e-447d-b48e-1684825a1ece",
   "metadata": {
    "tags": []
   },
   "outputs": [],
   "source": [
    "from scipy.interpolate import interp1d\n",
    "pos_pred = recon_traj_with_preds(train_dataset, np.array(targ_all))[:, :2]\n",
    "pos_gt = train_dataset.gt_pos[0][:, :2]"
   ]
  },
  {
   "cell_type": "code",
   "execution_count": 326,
   "id": "7bcb6b60-9895-411b-bba8-14a1939c26f2",
   "metadata": {},
   "outputs": [
    {
     "data": {
      "text/plain": [
       "array([[ 0.039513  , -0.0094998 ],\n",
       "       [ 0.03934401, -0.009437  ],\n",
       "       [ 0.03922602, -0.00931671],\n",
       "       ...,\n",
       "       [ 0.33765406,  1.02660786],\n",
       "       [ 0.33735407,  1.01510857],\n",
       "       [ 0.33735407,  1.01510857]])"
      ]
     },
     "execution_count": 326,
     "metadata": {},
     "output_type": "execute_result"
    }
   ],
   "source": [
    "pos_pred"
   ]
  },
  {
   "cell_type": "code",
   "execution_count": 328,
   "id": "d31da1a5-40d9-479a-a785-0537a785b4aa",
   "metadata": {
    "tags": []
   },
   "outputs": [
    {
     "data": {
      "text/plain": [
       "array([[ 0.039513 , -0.0094998],\n",
       "       [ 0.039344 , -0.009437 ],\n",
       "       [ 0.039179 , -0.0093787],\n",
       "       ...,\n",
       "       [-1.8997   ,  0.30475  ],\n",
       "       [-1.8997   ,  0.30475  ],\n",
       "       [-1.8997   ,  0.30464  ]])"
      ]
     },
     "execution_count": 328,
     "metadata": {},
     "output_type": "execute_result"
    }
   ],
   "source": [
    "pos_gt"
   ]
  },
  {
   "cell_type": "code",
   "execution_count": 332,
   "id": "95cc94d3-b184-4fdc-8966-84c5aac56d22",
   "metadata": {
    "tags": []
   },
   "outputs": [
    {
     "data": {
      "text/plain": [
       "<matplotlib.legend.Legend at 0x7f3f18704eb0>"
      ]
     },
     "execution_count": 332,
     "metadata": {},
     "output_type": "execute_result"
    },
    {
     "data": {
      "image/png": "[encoded data removed]",
      "text/plain": [
       "<Figure size 1600x900 with 1 Axes>"
      ]
     },
     "metadata": {},
     "output_type": "display_data"
    }
   ],
   "source": [
    "import matplotlib.pyplot as plt\n",
    "kp = 2\n",
    "plt.figure('{}'.format('Test'), figsize=(16, 9))\n",
    "plt.subplot2grid((kp, 2), (0, 0), rowspan=kp - 1)\n",
    "plt.scatter(pos_pred[:, 0], pos_pred[:, 1], s=0.1)\n",
    "plt.scatter(pos_gt[:, 0], pos_gt[:, 1], s = 0.01)\n",
    "plt.title('test')\n",
    "plt.axis('equal')\n",
    "plt.legend(['Predicted', 'Ground truth'])"
   ]
  },
  {
   "cell_type": "code",
   "execution_count": 330,
   "id": "527002ee-e993-41a1-b38f-5ccd9e760304",
   "metadata": {},
   "outputs": [
    {
     "data": {
      "text/plain": [
       "<matplotlib.legend.Legend at 0x7f3f18859760>"
      ]
     },
     "execution_count": 330,
     "metadata": {},
     "output_type": "execute_result"
    },
    {
     "data": {
      "image/png": "[encoded data removed]",
      "text/plain": [
       "<Figure size 1600x900 with 1 Axes>"
      ]
     },
     "metadata": {},
     "output_type": "display_data"
    }
   ],
   "source": [
    "import matplotlib.pyplot as plt\n",
    "kp = 2\n",
    "plt.figure('{}'.format('Test'), figsize=(16, 9))\n",
    "plt.subplot2grid((kp, 2), (0, 0), rowspan=kp - 1)\n",
    "plt.scatter(pos_pred[:, 0], pos_pred[:, 1], s=0.01)\n",
    "#plt.scatter(pos_gt[:, 0], pos_gt[:, 1], s = 0.1)\n",
    "plt.title('test')\n",
    "plt.axis('equal')\n",
    "plt.legend(['Predicted', 'Ground truth'])"
   ]
  },
  {
   "cell_type": "code",
   "execution_count": null,
   "id": "f5b47337-78fa-4c98-9a14-abb413ce18cc",
   "metadata": {},
   "outputs": [],
   "source": []
  }
 ],
 "metadata": {
  "kernelspec": {
   "display_name": "Python 3 (ipykernel)",
   "language": "python",
   "name": "python3"
  },
  "language_info": {
   "codemirror_mode": {
    "name": "ipython",
    "version": 3
   },
   "file_extension": ".py",
   "mimetype": "text/x-python",
   "name": "python",
   "nbconvert_exporter": "python",
   "pygments_lexer": "ipython3",
   "version": "3.8.10"
  }
 },
 "nbformat": 4,
 "nbformat_minor": 5
}
