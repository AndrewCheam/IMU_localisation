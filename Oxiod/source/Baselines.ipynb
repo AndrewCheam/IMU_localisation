{
 "cells": [
  {
   "cell_type": "markdown",
   "id": "5de46a68-2da7-4c61-bdca-d3daf264949e",
   "metadata": {
    "tags": []
   },
   "source": [
    "# Baselines"
   ]
  },
  {
   "cell_type": "markdown",
   "id": "13e70dac-3e3e-4b50-aaf3-470ddc933fbd",
   "metadata": {
    "tags": []
   },
   "source": [
    "## Import Dependencies"
   ]
  },
  {
   "cell_type": "code",
   "execution_count": 1,
   "id": "1a40759b-8045-44e1-8814-32e18739fb5d",
   "metadata": {
    "tags": []
   },
   "outputs": [
    {
     "name": "stdout",
     "output_type": "stream",
     "text": [
      "Looking in indexes: http://192.168.16.2:8080/root/pypi/+simple/, https://pypi.ngc.nvidia.com\n",
      "Requirement already satisfied: tensorboardX in /usr/local/lib/python3.8/dist-packages (2.6)\n",
      "Requirement already satisfied: protobuf<4,>=3.8.0 in /usr/local/lib/python3.8/dist-packages (from tensorboardX) (3.20.3)\n",
      "Requirement already satisfied: packaging in /usr/local/lib/python3.8/dist-packages (from tensorboardX) (23.0)\n",
      "Requirement already satisfied: numpy in /usr/local/lib/python3.8/dist-packages (from tensorboardX) (1.22.2)\n",
      "\u001b[33mWARNING: Running pip as the 'root' user can result in broken permissions and conflicting behaviour with the system package manager. It is recommended to use a virtual environment instead: https://pip.pypa.io/warnings/venv\u001b[0m\n",
      "\u001b[33mWARNING: You are using pip version 21.2.4; however, version 23.1.2 is available.\n",
      "You should consider upgrading via the '/usr/bin/python -m pip install --upgrade pip' command.\u001b[0m\n",
      "Looking in indexes: http://192.168.16.2:8080/root/pypi/+simple/, https://pypi.ngc.nvidia.com\n",
      "Requirement already satisfied: numpy-quaternion in /usr/local/lib/python3.8/dist-packages (2022.4.3)\n",
      "Requirement already satisfied: numpy>=1.13 in /usr/local/lib/python3.8/dist-packages (from numpy-quaternion) (1.22.2)\n",
      "\u001b[33mWARNING: Running pip as the 'root' user can result in broken permissions and conflicting behaviour with the system package manager. It is recommended to use a virtual environment instead: https://pip.pypa.io/warnings/venv\u001b[0m\n",
      "\u001b[33mWARNING: You are using pip version 21.2.4; however, version 23.1.2 is available.\n",
      "You should consider upgrading via the '/usr/bin/python -m pip install --upgrade pip' command.\u001b[0m\n"
     ]
    }
   ],
   "source": [
    "#import dependencies\n",
    "! pip install tensorboardX\n",
    "! pip install numpy-quaternion"
   ]
  },
  {
   "cell_type": "code",
   "execution_count": 2,
   "id": "1974ba72-51c3-4537-a72f-4eb3c4dcb7c2",
   "metadata": {
    "tags": []
   },
   "outputs": [
    {
     "ename": "ModuleNotFoundError",
     "evalue": "No module named 'torch'",
     "output_type": "error",
     "traceback": [
      "\u001b[0;31m---------------------------------------------------------------------------\u001b[0m",
      "\u001b[0;31mModuleNotFoundError\u001b[0m                       Traceback (most recent call last)",
      "Cell \u001b[0;32mIn[2], line 6\u001b[0m\n\u001b[1;32m      3\u001b[0m \u001b[38;5;28;01mfrom\u001b[39;00m \u001b[38;5;21;01mos\u001b[39;00m \u001b[38;5;28;01mimport\u001b[39;00m path \u001b[38;5;28;01mas\u001b[39;00m osp\n\u001b[1;32m      5\u001b[0m \u001b[38;5;28;01mimport\u001b[39;00m \u001b[38;5;21;01mnumpy\u001b[39;00m \u001b[38;5;28;01mas\u001b[39;00m \u001b[38;5;21;01mnp\u001b[39;00m\n\u001b[0;32m----> 6\u001b[0m \u001b[38;5;28;01mimport\u001b[39;00m \u001b[38;5;21;01mtorch\u001b[39;00m\n\u001b[1;32m      7\u001b[0m \u001b[38;5;28;01mimport\u001b[39;00m \u001b[38;5;21;01mjson\u001b[39;00m\n\u001b[1;32m      8\u001b[0m \u001b[38;5;28;01mimport\u001b[39;00m \u001b[38;5;21;01mmath\u001b[39;00m\n",
      "\u001b[0;31mModuleNotFoundError\u001b[0m: No module named 'torch'"
     ]
    }
   ],
   "source": [
    "import os\n",
    "import time\n",
    "from os import path as osp\n",
    "\n",
    "import numpy as np\n",
    "import torch\n",
    "import json\n",
    "import math\n",
    "import xgboost as xg\n",
    "\n",
    "\n",
    "import matplotlib.pyplot as plt\n",
    "import matplotlib.animation as animation\n",
    "from scipy.interpolate import interp1d\n",
    "from tensorboardX import SummaryWriter\n",
    "from torch.utils.data import DataLoader\n",
    "\n",
    "from data_Oxiod import *\n",
    "from transformations import *\n",
    "from metric import compute_ate_rte\n",
    "from model_resnet1d import *"
   ]
  },
  {
   "cell_type": "markdown",
   "id": "bf9a12c0-7561-41fb-8da9-702b6d9c78e5",
   "metadata": {},
   "source": [
    "## Extended Kalman Filter"
   ]
  },
  {
   "cell_type": "code",
   "execution_count": 24,
   "id": "3909e43b-1979-4202-9344-6e7d72421c30",
   "metadata": {
    "tags": []
   },
   "outputs": [],
   "source": [
    "import pandas as pd\n",
    "data = pd.read_csv('/home/jovyan/localisation_datasets/Oxford Inertial Odometry Dataset/handbag/data1/combined1.csv')"
   ]
  },
  {
   "cell_type": "code",
   "execution_count": 25,
   "id": "df3e84e3-4290-4701-945c-b64d04ecf5fc",
   "metadata": {
    "tags": []
   },
   "outputs": [
    {
     "data": {
      "text/html": [
       "<div>\n",
       "<style scoped>\n",
       "    .dataframe tbody tr th:only-of-type {\n",
       "        vertical-align: middle;\n",
       "    }\n",
       "\n",
       "    .dataframe tbody tr th {\n",
       "        vertical-align: top;\n",
       "    }\n",
       "\n",
       "    .dataframe thead th {\n",
       "        text-align: right;\n",
       "    }\n",
       "</style>\n",
       "<table border=\"1\" class=\"dataframe\">\n",
       "  <thead>\n",
       "    <tr style=\"text-align: right;\">\n",
       "      <th></th>\n",
       "      <th>rotation_rate_x(radians/s)</th>\n",
       "      <th>rotation_rate_y(radians/s)</th>\n",
       "      <th>rotation_rate_z(radians/s)</th>\n",
       "      <th>user_acc_x(G)</th>\n",
       "      <th>user_acc_y(G)</th>\n",
       "      <th>user_acc_z(G)</th>\n",
       "      <th>translation.x</th>\n",
       "      <th>translation.y</th>\n",
       "      <th>translation.z</th>\n",
       "      <th>rotation.x</th>\n",
       "      <th>rotation.y</th>\n",
       "      <th>rotation.z</th>\n",
       "      <th>rotation.w</th>\n",
       "    </tr>\n",
       "  </thead>\n",
       "  <tbody>\n",
       "    <tr>\n",
       "      <th>0</th>\n",
       "      <td>0.011675</td>\n",
       "      <td>-0.044659</td>\n",
       "      <td>0.004123</td>\n",
       "      <td>-0.006020</td>\n",
       "      <td>-0.007752</td>\n",
       "      <td>-0.019776</td>\n",
       "      <td>-0.35230</td>\n",
       "      <td>1.936300</td>\n",
       "      <td>0.64004</td>\n",
       "      <td>-0.60368</td>\n",
       "      <td>0.35567</td>\n",
       "      <td>-0.34964</td>\n",
       "      <td>0.62194</td>\n",
       "    </tr>\n",
       "    <tr>\n",
       "      <th>1</th>\n",
       "      <td>0.017045</td>\n",
       "      <td>-0.039372</td>\n",
       "      <td>0.004127</td>\n",
       "      <td>-0.000972</td>\n",
       "      <td>0.003804</td>\n",
       "      <td>-0.022116</td>\n",
       "      <td>-0.35226</td>\n",
       "      <td>1.936300</td>\n",
       "      <td>0.64003</td>\n",
       "      <td>-0.60368</td>\n",
       "      <td>0.35591</td>\n",
       "      <td>-0.34973</td>\n",
       "      <td>0.62176</td>\n",
       "    </tr>\n",
       "    <tr>\n",
       "      <th>2</th>\n",
       "      <td>0.016019</td>\n",
       "      <td>-0.034032</td>\n",
       "      <td>0.003053</td>\n",
       "      <td>-0.003001</td>\n",
       "      <td>0.001363</td>\n",
       "      <td>-0.020956</td>\n",
       "      <td>-0.35219</td>\n",
       "      <td>1.936300</td>\n",
       "      <td>0.64004</td>\n",
       "      <td>-0.60382</td>\n",
       "      <td>0.35603</td>\n",
       "      <td>-0.34971</td>\n",
       "      <td>0.62157</td>\n",
       "    </tr>\n",
       "    <tr>\n",
       "      <th>3</th>\n",
       "      <td>0.007559</td>\n",
       "      <td>-0.026496</td>\n",
       "      <td>-0.001240</td>\n",
       "      <td>-0.002679</td>\n",
       "      <td>-0.000947</td>\n",
       "      <td>-0.019943</td>\n",
       "      <td>-0.35216</td>\n",
       "      <td>1.936200</td>\n",
       "      <td>0.64003</td>\n",
       "      <td>-0.60381</td>\n",
       "      <td>0.35607</td>\n",
       "      <td>-0.34976</td>\n",
       "      <td>0.62153</td>\n",
       "    </tr>\n",
       "    <tr>\n",
       "      <th>4</th>\n",
       "      <td>0.001269</td>\n",
       "      <td>-0.015779</td>\n",
       "      <td>-0.007669</td>\n",
       "      <td>-0.004189</td>\n",
       "      <td>-0.007488</td>\n",
       "      <td>-0.019378</td>\n",
       "      <td>-0.35209</td>\n",
       "      <td>1.936200</td>\n",
       "      <td>0.64007</td>\n",
       "      <td>-0.60406</td>\n",
       "      <td>0.35617</td>\n",
       "      <td>-0.34967</td>\n",
       "      <td>0.62127</td>\n",
       "    </tr>\n",
       "    <tr>\n",
       "      <th>...</th>\n",
       "      <td>...</td>\n",
       "      <td>...</td>\n",
       "      <td>...</td>\n",
       "      <td>...</td>\n",
       "      <td>...</td>\n",
       "      <td>...</td>\n",
       "      <td>...</td>\n",
       "      <td>...</td>\n",
       "      <td>...</td>\n",
       "      <td>...</td>\n",
       "      <td>...</td>\n",
       "      <td>...</td>\n",
       "      <td>...</td>\n",
       "    </tr>\n",
       "    <tr>\n",
       "      <th>57494</th>\n",
       "      <td>-0.031251</td>\n",
       "      <td>-0.222120</td>\n",
       "      <td>-0.122810</td>\n",
       "      <td>-0.019891</td>\n",
       "      <td>-0.164330</td>\n",
       "      <td>0.060818</td>\n",
       "      <td>-0.68697</td>\n",
       "      <td>0.065166</td>\n",
       "      <td>0.58907</td>\n",
       "      <td>-0.65617</td>\n",
       "      <td>-0.27365</td>\n",
       "      <td>0.25544</td>\n",
       "      <td>0.65521</td>\n",
       "    </tr>\n",
       "    <tr>\n",
       "      <th>57495</th>\n",
       "      <td>-0.035393</td>\n",
       "      <td>-0.189080</td>\n",
       "      <td>-0.095123</td>\n",
       "      <td>-0.018112</td>\n",
       "      <td>-0.182130</td>\n",
       "      <td>0.064257</td>\n",
       "      <td>-0.68005</td>\n",
       "      <td>0.071336</td>\n",
       "      <td>0.58913</td>\n",
       "      <td>-0.65639</td>\n",
       "      <td>-0.27289</td>\n",
       "      <td>0.25493</td>\n",
       "      <td>0.65551</td>\n",
       "    </tr>\n",
       "    <tr>\n",
       "      <th>57496</th>\n",
       "      <td>-0.051204</td>\n",
       "      <td>-0.146360</td>\n",
       "      <td>-0.065339</td>\n",
       "      <td>-0.015627</td>\n",
       "      <td>-0.184370</td>\n",
       "      <td>0.067860</td>\n",
       "      <td>-0.67321</td>\n",
       "      <td>0.077152</td>\n",
       "      <td>0.59001</td>\n",
       "      <td>-0.65617</td>\n",
       "      <td>-0.27206</td>\n",
       "      <td>0.25411</td>\n",
       "      <td>0.65639</td>\n",
       "    </tr>\n",
       "    <tr>\n",
       "      <th>57497</th>\n",
       "      <td>-0.073430</td>\n",
       "      <td>-0.104650</td>\n",
       "      <td>-0.034496</td>\n",
       "      <td>-0.013299</td>\n",
       "      <td>-0.173480</td>\n",
       "      <td>0.073141</td>\n",
       "      <td>-0.66572</td>\n",
       "      <td>0.083231</td>\n",
       "      <td>0.58989</td>\n",
       "      <td>-0.65703</td>\n",
       "      <td>-0.27228</td>\n",
       "      <td>0.25329</td>\n",
       "      <td>0.65575</td>\n",
       "    </tr>\n",
       "    <tr>\n",
       "      <th>57498</th>\n",
       "      <td>-0.089189</td>\n",
       "      <td>-0.058726</td>\n",
       "      <td>-0.010054</td>\n",
       "      <td>-0.011483</td>\n",
       "      <td>-0.156880</td>\n",
       "      <td>0.077020</td>\n",
       "      <td>-0.65845</td>\n",
       "      <td>0.089162</td>\n",
       "      <td>0.59051</td>\n",
       "      <td>-0.65509</td>\n",
       "      <td>-0.27235</td>\n",
       "      <td>0.25294</td>\n",
       "      <td>0.65781</td>\n",
       "    </tr>\n",
       "  </tbody>\n",
       "</table>\n",
       "<p>57499 rows × 13 columns</p>\n",
       "</div>"
      ],
      "text/plain": [
       "       rotation_rate_x(radians/s)  rotation_rate_y(radians/s)  \\\n",
       "0                        0.011675                   -0.044659   \n",
       "1                        0.017045                   -0.039372   \n",
       "2                        0.016019                   -0.034032   \n",
       "3                        0.007559                   -0.026496   \n",
       "4                        0.001269                   -0.015779   \n",
       "...                           ...                         ...   \n",
       "57494                   -0.031251                   -0.222120   \n",
       "57495                   -0.035393                   -0.189080   \n",
       "57496                   -0.051204                   -0.146360   \n",
       "57497                   -0.073430                   -0.104650   \n",
       "57498                   -0.089189                   -0.058726   \n",
       "\n",
       "       rotation_rate_z(radians/s)  user_acc_x(G)  user_acc_y(G)  \\\n",
       "0                        0.004123      -0.006020      -0.007752   \n",
       "1                        0.004127      -0.000972       0.003804   \n",
       "2                        0.003053      -0.003001       0.001363   \n",
       "3                       -0.001240      -0.002679      -0.000947   \n",
       "4                       -0.007669      -0.004189      -0.007488   \n",
       "...                           ...            ...            ...   \n",
       "57494                   -0.122810      -0.019891      -0.164330   \n",
       "57495                   -0.095123      -0.018112      -0.182130   \n",
       "57496                   -0.065339      -0.015627      -0.184370   \n",
       "57497                   -0.034496      -0.013299      -0.173480   \n",
       "57498                   -0.010054      -0.011483      -0.156880   \n",
       "\n",
       "       user_acc_z(G)  translation.x  translation.y  translation.z  rotation.x  \\\n",
       "0          -0.019776       -0.35230       1.936300        0.64004    -0.60368   \n",
       "1          -0.022116       -0.35226       1.936300        0.64003    -0.60368   \n",
       "2          -0.020956       -0.35219       1.936300        0.64004    -0.60382   \n",
       "3          -0.019943       -0.35216       1.936200        0.64003    -0.60381   \n",
       "4          -0.019378       -0.35209       1.936200        0.64007    -0.60406   \n",
       "...              ...            ...            ...            ...         ...   \n",
       "57494       0.060818       -0.68697       0.065166        0.58907    -0.65617   \n",
       "57495       0.064257       -0.68005       0.071336        0.58913    -0.65639   \n",
       "57496       0.067860       -0.67321       0.077152        0.59001    -0.65617   \n",
       "57497       0.073141       -0.66572       0.083231        0.58989    -0.65703   \n",
       "57498       0.077020       -0.65845       0.089162        0.59051    -0.65509   \n",
       "\n",
       "       rotation.y  rotation.z  rotation.w  \n",
       "0         0.35567    -0.34964     0.62194  \n",
       "1         0.35591    -0.34973     0.62176  \n",
       "2         0.35603    -0.34971     0.62157  \n",
       "3         0.35607    -0.34976     0.62153  \n",
       "4         0.35617    -0.34967     0.62127  \n",
       "...           ...         ...         ...  \n",
       "57494    -0.27365     0.25544     0.65521  \n",
       "57495    -0.27289     0.25493     0.65551  \n",
       "57496    -0.27206     0.25411     0.65639  \n",
       "57497    -0.27228     0.25329     0.65575  \n",
       "57498    -0.27235     0.25294     0.65781  \n",
       "\n",
       "[57499 rows x 13 columns]"
      ]
     },
     "execution_count": 25,
     "metadata": {},
     "output_type": "execute_result"
    }
   ],
   "source": [
    "data"
   ]
  },
  {
   "cell_type": "markdown",
   "id": "7029f838-4494-4c11-bcd9-b6cefa417403",
   "metadata": {},
   "source": [
    "### Preprocessing\n",
    "- Convert quaternion data into euler orientation (ground truth data)\n",
    "- Convert acceleration (G) to acceleration (m/s^2)"
   ]
  },
  {
   "cell_type": "code",
   "execution_count": 21,
   "id": "1b755910-08a4-41ea-adff-5b60cdd2571f",
   "metadata": {
    "tags": []
   },
   "outputs": [
    {
     "name": "stdout",
     "output_type": "stream",
     "text": [
      "(33016, 4)\n",
      "[[ 0.39250605 -0.12061707 -1.64737255]\n",
      " [ 0.39698531 -0.1241574  -1.64241244]\n",
      " [ 0.3966826  -0.12408793 -1.64263756]\n",
      " ...\n",
      " [-2.4097472  -0.09723274 -0.38935567]\n",
      " [-2.41069797 -0.0947308  -0.38841608]\n",
      " [-2.41190174 -0.09305428 -0.38702691]]\n"
     ]
    }
   ],
   "source": [
    "from scipy.spatial.transform import Rotation\n",
    "\n",
    "quaternion = data[['rotation.w', 'rotation.x', 'rotation.y', 'rotation.z']].values\n",
    "\n",
    "print(quaternion.shape)\n",
    "\n",
    "# Create a rotation object from the quaternion\n",
    "rotation = Rotation.from_quat(quaternion)\n",
    "\n",
    "# Convert the quaternion to Euler angles\n",
    "euler_orientations = rotation.as_euler('xyz', degrees= False)\n",
    "\n",
    "# Print the Euler angles\n",
    "print(euler_orientations)"
   ]
  },
  {
   "cell_type": "code",
   "execution_count": 22,
   "id": "e503e171-e6fc-4f90-8b5e-d0e6b1590338",
   "metadata": {
    "tags": []
   },
   "outputs": [
    {
     "name": "stdout",
     "output_type": "stream",
     "text": [
      "acceleration:  [[-8.1629010e-02 -8.3090700e-03 -2.1091500e-03]\n",
      " [-6.0105870e-02  2.4917400e-03  1.0712520e-02]\n",
      " [-4.2006420e-02  1.7658000e-04  1.3449510e-02]\n",
      " ...\n",
      " [-2.2708188e-01 -6.7907763e-01 -4.4803251e-01]\n",
      " [-2.4238548e-01 -6.9911946e-01 -4.3702569e-01]\n",
      " [-8.5621680e-02 -7.6408128e-01 -3.3044985e-01]]\n",
      "[[-8.1629010e-02 -8.3090700e-03 -2.1091500e-03]\n",
      " [-6.0105870e-02  2.4917400e-03  1.0712520e-02]\n",
      " [-4.2006420e-02  1.7658000e-04  1.3449510e-02]\n",
      " ...\n",
      " [-2.2708188e-01 -6.7907763e-01 -4.4803251e-01]\n",
      " [-2.4238548e-01 -6.9911946e-01 -4.3702569e-01]\n",
      " [-8.5621680e-02 -7.6408128e-01 -3.3044985e-01]]\n"
     ]
    }
   ],
   "source": [
    "acc = data[['user_acc_x(G)', 'user_acc_y(G)', 'user_acc_z(G)']].values\n",
    "acc = acc * 9.81\n",
    "print('acceleration: ', acc)\n",
    "print(acc)"
   ]
  },
  {
   "cell_type": "code",
   "execution_count": null,
   "id": "045c3e89-f22d-44f9-8dbc-f7a8c14e46ff",
   "metadata": {},
   "outputs": [],
   "source": [
    "import numpy as np\n",
    "from scipy.spatial.transform import Rotation\n",
    "\n",
    "\n",
    "class ExtendedKalmanFilter:\n",
    "    \"\"\"Extended Kalman Filter for tracking a human with IMU measurements\"\"\"\n",
    "\n",
    "    def __init__(self, x, P):\n",
    "        \"\"\"Initialize the Kalman Filter\n",
    "\n",
    "        Args:\n",
    "            x (numpy.array): Initial state estimate\n",
    "            P (numpy.array): Initial error covariance matrix\n",
    "        \"\"\"\n",
    "        self.x = x  # State estimate\n",
    "        self.P = P  # Error covariance matrix\n",
    "\n",
    "    def update(self, z, R):\n",
    "        \"\"\"Update the state estimate based on sensor measurements\n",
    "\n",
    "        Args:\n",
    "            z (numpy.array): Measurement vector - this includes noisy orientation and noisy ground truth positions. Proxy for GPS data\n",
    "            R (numpy.array): Measurement noise covariance matrix\n",
    "        \"\"\"\n",
    "        # Compute Kalman gain\n",
    "        H = np.eye(6)  # Jacobian of observation function\n",
    "\n",
    "        K = self.P @ H.T @ np.linalg.inv(H @ self.P @ H.T + R)\n",
    "\n",
    "        # Update state estimate\n",
    "        self.x = self.x + K @ (z - self.x)\n",
    "\n",
    "        # Update error covariance matrix\n",
    "        self.P = self.P - K @ H @ self.P\n",
    "\n",
    "    def propagate(self, u, dt, Q):\n",
    "        \"\"\"Propagate the state estimate based on the motion model\n",
    "\n",
    "        Args:\n",
    "            u (numpy.array): Control input vector - This includes rotation_rate_x, y, z (radians/s); lin_acc_x, y, z (havent taken out gravity yet)\n",
    "            dt (float): Time interval in seconds\n",
    "            Q (numpy.array): Process noise covariance matrix\n",
    "        \"\"\"\n",
    "        # Propagate state estimate\n",
    "        v, roll, pitch, yaw, x, y = self.x\n",
    "\n",
    "        # Update roll, pitch, and yaw angles\n",
    "        rotation = Rotation.from_euler('xyz', [roll, pitch, yaw], degrees=False)\n",
    "        rotation = rotation * Rotation.from_euler('xyz', u[3:], degrees=False)\n",
    "        roll, pitch, yaw = rotation.as_euler('xyz')\n",
    "\n",
    "        # Update velocity\n",
    "        self.x[0] = v + u[0] * dt\n",
    "\n",
    "        # Update position\n",
    "        displacement = np.array([u[0] * np.cos(yaw) * dt, u[0] * np.sin(yaw) * dt])\n",
    "        displacement = np.dot(rotation.as_matrix()[:2, :2], displacement)\n",
    "        self.x[4:] = self.x[4:] + displacement\n",
    "\n",
    "        # Propagate error covariance matrix\n",
    "        G = np.eye(6)  # Jacobian of state transition function\n",
    "\n",
    "        G[0, 0] += dt\n",
    "        G[1, 1] += dt\n",
    "        G[2, 2] += dt\n",
    "        G[3, 3] += dt\n",
    "\n",
    "        self.P = G @ self.P @ G.T + Q\n"
   ]
  },
  {
   "cell_type": "code",
   "execution_count": null,
   "id": "b0edfc42-5ff8-4803-8368-cb95b8424318",
   "metadata": {},
   "outputs": [],
   "source": [
    "import numpy as np\n",
    "from scipy.spatial.transform import Rotation\n",
    "\n",
    "\n",
    "class ExtendedKalmanFilter:\n",
    "    \"\"\"Extended Kalman Filter for tracking a human with IMU measurements\"\"\"\n",
    "\n",
    "    def __init__(self, x, P):\n",
    "        \"\"\"Initialize the Kalman Filter\n",
    "\n",
    "        Args:\n",
    "            x (numpy.array): Initial state estimate\n",
    "            P (numpy.array): Initial error covariance matrix\n",
    "        \"\"\"\n",
    "        self.x = x  # State estimate\n",
    "        self.P = P  # Error covariance matrix\n",
    "\n",
    "    def update(self, z, R):\n",
    "        \"\"\"Update the state estimate based on sensor measurements\n",
    "\n",
    "        Args:\n",
    "            z (numpy.array): Measurement vector - [position_x, position_y, roll, pitch, yaw]\n",
    "            R (numpy.array): Measurement noise covariance matrix\n",
    "        \"\"\"\n",
    "        # Compute Kalman gain\n",
    "        H = np.eye(5)  # Jacobian of observation function\n",
    "\n",
    "        K = self.P @ H.T @ np.linalg.inv(H @ self.P @ H.T + R)\n",
    "\n",
    "        # Update state estimate\n",
    "        self.x = self.x + K @ (z - self.x)\n",
    "\n",
    "        # Update error covariance matrix\n",
    "        self.P = self.P - K @ H @ self.P\n",
    "\n",
    "    def propagate(self, u, dt, Q):\n",
    "        \"\"\"Propagate the state estimate based on the motion model\n",
    "\n",
    "        Args:\n",
    "            u (numpy.array): Control input vector - [accel_x, accel_y, accel_z, roll_rate, pitch_rate, yaw_rate]\n",
    "            dt (float): Time interval in seconds\n",
    "            Q (numpy.array): Process noise covariance matrix\n",
    "        \"\"\"\n",
    "        # Propagate state estimate\n",
    "        position_x, position_y, roll, pitch, yaw = self.x\n",
    "\n",
    "        # Update position\n",
    "        displacement = np.array([u[0] * np.cos(yaw) * dt, u[0] * np.sin(yaw) * dt])\n",
    "        self.x[:2] = self.x[:2] + displacement\n",
    "\n",
    "        # Update roll, pitch, and yaw angles\n",
    "        rotation = Rotation.from_euler('xyz', [roll, pitch, yaw], degrees=False)\n",
    "        rotation = rotation * Rotation.from_euler('xyz', [u[3]*dt, u[4]*dt, u[5]*dt], degrees=False)\n",
    "        roll, pitch, yaw = rotation.as_euler('xyz')\n",
    "\n",
    "        # Propagate error covariance matrix\n",
    "        G = np.eye(5)  # Jacobian of state transition function\n",
    "\n",
    "        G[:2, :2] += np.array([[np.cos(yaw)*dt, -u[0]*np.sin(yaw)*dt], [np.sin(yaw)*dt, u[0]*np.cos(yaw)*dt]])\n",
    "        G[2:5, 2:5] += np.eye(3) * dt\n",
    "\n",
    "        self.P = G @ self.P @ G.T + Q\n"
   ]
  },
  {
   "cell_type": "code",
   "execution_count": 46,
   "id": "99aea52b-32e4-4939-ac6c-9cf639683532",
   "metadata": {
    "tags": []
   },
   "outputs": [
    {
     "ename": "NameError",
     "evalue": "name 'osp' is not defined",
     "output_type": "error",
     "traceback": [
      "\u001b[0;31m---------------------------------------------------------------------------\u001b[0m",
      "\u001b[0;31mNameError\u001b[0m                                 Traceback (most recent call last)",
      "Cell \u001b[0;32mIn[46], line 6\u001b[0m\n\u001b[1;32m      4\u001b[0m \u001b[38;5;66;03m#Paths to different files\u001b[39;00m\n\u001b[1;32m      5\u001b[0m args\u001b[38;5;241m.\u001b[39mroot_dir \u001b[38;5;241m=\u001b[39m \u001b[38;5;124m'\u001b[39m\u001b[38;5;124m/home/jovyan/localisation_datasets/Oxford Inertial Odometry Dataset/handheld\u001b[39m\u001b[38;5;124m'\u001b[39m\n\u001b[0;32m----> 6\u001b[0m args\u001b[38;5;241m.\u001b[39mtrain_list \u001b[38;5;241m=\u001b[39m \u001b[43mosp\u001b[49m\u001b[38;5;241m.\u001b[39mjoin(args\u001b[38;5;241m.\u001b[39mroot_dir, \u001b[38;5;124m'\u001b[39m\u001b[38;5;124mTrain.txt\u001b[39m\u001b[38;5;124m'\u001b[39m)\n\u001b[1;32m      7\u001b[0m args\u001b[38;5;241m.\u001b[39mval_list \u001b[38;5;241m=\u001b[39m osp\u001b[38;5;241m.\u001b[39mjoin(args\u001b[38;5;241m.\u001b[39mroot_dir, \u001b[38;5;124m'\u001b[39m\u001b[38;5;124mValidation.txt\u001b[39m\u001b[38;5;124m'\u001b[39m)\n\u001b[1;32m      8\u001b[0m args\u001b[38;5;241m.\u001b[39mtest_list \u001b[38;5;241m=\u001b[39m osp\u001b[38;5;241m.\u001b[39mjoin(args\u001b[38;5;241m.\u001b[39mroot_dir, \u001b[38;5;124m'\u001b[39m\u001b[38;5;124mTest.txt\u001b[39m\u001b[38;5;124m'\u001b[39m)\n",
      "\u001b[0;31mNameError\u001b[0m: name 'osp' is not defined"
     ]
    }
   ],
   "source": [
    "import argparse\n",
    "args = argparse.Namespace()\n",
    "\n",
    "#Paths to different files\n",
    "args.root_dir = '/home/jovyan/localisation_datasets/Oxford Inertial Odometry Dataset/handheld'\n",
    "args.train_list = osp.join(args.root_dir, 'Train.txt')\n",
    "args.val_list = osp.join(args.root_dir, 'Validation.txt')\n",
    "args.test_list = osp.join(args.root_dir, 'Test.txt')\n",
    "args.out_dir = osp.join(args.root_dir, 'outputs')\n",
    "args.model_path = osp.join(args.out_dir, 'checkpoints/checkpoint_latest.pt')\n",
    "\n",
    "\n",
    "args.test_path = None\n",
    "args.cache_path = None\n",
    "args.continue_from = None\n",
    "args.transfer_from = None\n",
    "\n",
    "\n",
    "# Params to tune for neural network\n",
    "args.mode = \"train\"\n",
    "args.step_size = 10\n",
    "args.window_size = 200\n",
    "args.lr = 1e-04\n",
    "args.batch_size = 256\n",
    "args.epochs = 80\n",
    "args.freeze_params = False\n",
    "\n",
    "# miscallaneous\n",
    "args.arch = \"resnet18\"\n",
    "args.cpu = False\n",
    "args.run_ekf = False\n",
    "args.fast_test = False\n",
    "\n",
    "# Plots and animation\n",
    "args.show_plot = True\n",
    "args.saveAnim = True\n",
    "\n",
    "# Smoothing feature and targets\n",
    "args.feature_sigma = 2\n",
    "args.target_sigma = 2\n",
    "\n",
    "np.set_printoptions(formatter={'all': lambda x: '{:.6f}'.format(x)})"
   ]
  },
  {
   "cell_type": "code",
   "execution_count": 47,
   "id": "13de013b-54dc-4458-8327-bc980d906243",
   "metadata": {
    "tags": []
   },
   "outputs": [],
   "source": [
    "def get_dataset(root_dir, data_list, args, **kwargs):\n",
    "    mode = kwargs.get('mode', 'train')\n",
    "\n",
    "    random_shift, shuffle, transforms, grv_only = 0, False, None, False\n",
    "    if mode == 'train':\n",
    "        random_shift = args.step_size // 2\n",
    "        shuffle = True\n",
    "        transforms = RandomHoriRotate(math.pi * 2)\n",
    "    elif mode == 'val':\n",
    "        shuffle = True\n",
    "    elif mode == 'test':\n",
    "        shuffle = False\n",
    "        grv_only = True\n",
    "\n",
    "    seq_type = OxfordGlobSpeedSequence\n",
    "    dataset = StridedSequenceDataset(seq_type, root_dir, data_list, args.cache_path, args.step_size, args.window_size, shuffle = shuffle, \n",
    "                                     grv_only=grv_only, transforms = transforms, random_shift = random_shift)\n",
    "    print(f'step_size: {dataset.step_size}, window_size: {dataset.window_size}')\n",
    "    global _input_channel, _output_channel\n",
    "    _input_channel, _output_channel = dataset.feature_dim, dataset.target_dim\n",
    "    return dataset\n",
    "\n",
    "\n",
    "def get_dataset_from_list(root_dir, list_path, args, **kwargs):\n",
    "    with open(list_path) as f:\n",
    "        data_list = [s.strip().split(',' or ' ')[0] for s in f.readlines() if len(s) > 0 and s[0] != '#']\n",
    "    return get_dataset(root_dir, data_list, args, **kwargs)    "
   ]
  },
  {
   "cell_type": "code",
   "execution_count": 48,
   "id": "d5ec3978-e2e4-471c-8e5b-15ac7a26964b",
   "metadata": {
    "tags": []
   },
   "outputs": [],
   "source": [
    "def recon_traj_with_preds(dataset, preds, seq_id=0, **kwargs):\n",
    "    \"\"\"\n",
    "    Reconstruct trajectory with predicted global velocities.\n",
    "    \"\"\"\n",
    "    ts = dataset.ts[seq_id]\n",
    "    ind = np.array([i[1] for i in dataset.index_map if i[0] == seq_id], dtype=np.int32) # Gets an array of frame IDs which correspond to the sequence\n",
    "    #dts = 0.01\n",
    "    dts = np.mean(ts[ind[1:]] - ts[ind[:-1]])\n",
    "\n",
    "    pos = np.zeros([preds.shape[0] + 2, 2])\n",
    "    # initial position using first position value\n",
    "    pos[0] = dataset.gt_pos[seq_id][0, :2]\n",
    "    \n",
    "    # the intermediate positions using the time interval and adding to initial position\n",
    "    pos[1:-1] = np.cumsum(preds[:, :2] * dts, axis=0) + pos[0]\n",
    "    pos[-1] = pos[-2]\n",
    "    \n",
    "    # This does interpolation because we do not have positions for every timestep. [ts[0] +/- 1e-06] corresponds to the end with an additional small value\n",
    "    ts_ext = np.concatenate([[ts[0] - 1e-06], ts[ind], [ts[-1] + 1e-06]], axis=0)\n",
    "    pos = interp1d(ts_ext, pos, axis=0)(ts)\n",
    "    # print(f'pos shape final: {pos}')\n",
    "    return pos"
   ]
  },
  {
   "cell_type": "code",
   "execution_count": 49,
   "id": "c7f2bd46-0b29-4f02-8425-aa2e101a64fa",
   "metadata": {
    "tags": []
   },
   "outputs": [],
   "source": [
    "def showAnimation(video_path):\n",
    "    import ipywidgets as widgets\n",
    "    from IPython.display import display\n",
    "    video_widget = widgets.Video.from_file(video_path)\n",
    "    video_widget.controls = True\n",
    "    video_widget.autoplay = True\n",
    "    display(video_widget)\n",
    "\n",
    "def plotTrajectory(true_x_values, true_y_values, pred_x_values, pred_y_values):    \n",
    "    plt.figure('{}'.format(\"Trajectory\"), figsize=(16, 9))\n",
    "\n",
    "    length = len(true_x_values)\n",
    "    multiplier = 50\n",
    "    # creating a blank window\n",
    "    # for the animation\n",
    "    fig = plt.figure()\n",
    "    min_x_value = np.min([np.min(true_x_values), np.min(pred_x_values)])\n",
    "    max_x_value = np.max([np.max(true_x_values), np.max(pred_x_values)])\n",
    "    min_y_value = np.min([np.min(true_y_values), np.min(pred_y_values)])\n",
    "    max_y_value = np.max([np.max(true_y_values), np.max(pred_y_values)])\n",
    "    \n",
    "    \n",
    "    axis = plt.axes(xlim =(min_x_value, max_x_value), ylim =(min_y_value, max_y_value))\n",
    "    \n",
    "    line1, = axis.plot([], [], 'b', label='Line 1')\n",
    "    line2, = axis.plot([], [], 'r', label='Line 2')\n",
    "\n",
    "    def init():\n",
    "        line1.set_data([], [])\n",
    "        return line1,\n",
    "    def init():\n",
    "        line2.set_data([], [])\n",
    "        return line2,\n",
    "\n",
    "    # initializing empty values\n",
    "    # for x and y co-ordinates\n",
    "    true_xdata, true_ydata, pred_xdata, pred_ydata = [], [], [], []\n",
    "\n",
    "    # animation function\n",
    "    def animate(i):\n",
    "        true_x = true_x_values[i * multiplier]\n",
    "        true_y = true_y_values[i * multiplier]\n",
    "        pred_x = pred_x_values[i * multiplier]\n",
    "        pred_y = pred_y_values[i * multiplier]\n",
    "        \n",
    "        true_xdata.append(true_x)\n",
    "        true_ydata.append(true_y)\n",
    "        pred_xdata.append(pred_x)\n",
    "        pred_ydata.append(pred_y)\n",
    "        \n",
    "        line1.set_data(true_xdata, true_ydata)\n",
    "        line2.set_data(pred_xdata, pred_ydata)\n",
    "\n",
    "        return line1, line2\n",
    "\n",
    "    # calling the animation function\t\n",
    "    anim = animation.FuncAnimation(fig, animate, init_func = init, frames = int(length/multiplier), interval = 0.01, blit = True)\n",
    "    return anim"
   ]
  },
  {
   "cell_type": "markdown",
   "id": "5f8e3b5a-b1d0-4bec-91d7-81c5ad46c40b",
   "metadata": {
    "tags": []
   },
   "source": [
    "## Naive Double Integration (Assuming correct orientations)"
   ]
  },
  {
   "cell_type": "code",
   "execution_count": 50,
   "id": "947f4aaf-9710-4cf8-a4f2-627865892b58",
   "metadata": {
    "tags": []
   },
   "outputs": [
    {
     "name": "stdout",
     "output_type": "stream",
     "text": [
      "Looking in indexes: http://192.168.16.2:8080/root/pypi/+simple/, https://pypi.ngc.nvidia.com\n",
      "Requirement already satisfied: numpy-quaternion in /usr/local/lib/python3.8/dist-packages (2022.4.3)\n",
      "Requirement already satisfied: numpy>=1.13 in /usr/local/lib/python3.8/dist-packages (from numpy-quaternion) (1.22.2)\n",
      "\u001b[33mWARNING: Running pip as the 'root' user can result in broken permissions and conflicting behaviour with the system package manager. It is recommended to use a virtual environment instead: https://pip.pypa.io/warnings/venv\u001b[0m\n",
      "\u001b[33mWARNING: You are using pip version 21.2.4; however, version 23.1.2 is available.\n",
      "You should consider upgrading via the '/usr/bin/python -m pip install --upgrade pip' command.\u001b[0m\n"
     ]
    }
   ],
   "source": [
    "! pip install numpy-quaternion"
   ]
  },
  {
   "cell_type": "code",
   "execution_count": 51,
   "id": "92cc3ddf-cff8-4473-b1c1-a402354d6dba",
   "metadata": {
    "tags": []
   },
   "outputs": [],
   "source": [
    "import os\n",
    "import time\n",
    "from os import path as osp\n",
    "\n",
    "import numpy as np\n",
    "import torch\n",
    "import json\n",
    "\n",
    "import matplotlib.pyplot as plt\n",
    "import matplotlib.animation as animation\n",
    "from scipy.interpolate import interp1d\n",
    "from torch.utils.data import DataLoader\n",
    "\n",
    "from data_Oxiod import *\n",
    "from transformations import *\n",
    "from metric import compute_ate_rte\n",
    "from model_resnet1d import *"
   ]
  },
  {
   "cell_type": "code",
   "execution_count": 52,
   "id": "18ee5b8a-9af9-49a4-b23b-2ab98d680568",
   "metadata": {
    "tags": []
   },
   "outputs": [],
   "source": [
    "def get_dataset(root_dir, data_list):\n",
    "    \n",
    "    sequence = OxfordGlobSpeedSequence(osp.join(root_dir, data_list))\n",
    "    return sequence.features, sequence.targets, sequence.gt_pos\n",
    "\n",
    "\n",
    "def get_dataset_from_list(root_dir, list_path, args, **kwargs):\n",
    "    with open(list_path) as f:\n",
    "        data_list = [s.strip().split(',' or ' ')[0] for s in f.readlines() if len(s) > 0 and s[0] != '#']\n",
    "    return get_dataset(root_dir, data_list)    "
   ]
  },
  {
   "cell_type": "code",
   "execution_count": 53,
   "id": "fd3962b3-0e35-4411-b657-3f982685b8dc",
   "metadata": {
    "tags": []
   },
   "outputs": [],
   "source": [
    "feat, targ, gt_pos = get_dataset('/home/jovyan/localisation_datasets/Oxford Inertial Odometry Dataset/handbag/data1', 'combined3.csv')"
   ]
  },
  {
   "cell_type": "code",
   "execution_count": 55,
   "id": "da5d2c58-7a18-4270-a434-15efe19d431a",
   "metadata": {
    "tags": []
   },
   "outputs": [],
   "source": [
    "import pandas as pd\n",
    "full_data = pd.read_csv('/home/jovyan/localisation_datasets/Oxford Inertial Odometry Dataset/handbag/data1/combined3.csv')"
   ]
  },
  {
   "cell_type": "code",
   "execution_count": 56,
   "id": "bfdbf5b4-82a4-4474-ad3d-2dc6e08bf7c6",
   "metadata": {
    "tags": []
   },
   "outputs": [],
   "source": [
    "gravity_data = pd.read_csv('/home/jovyan/localisation_datasets/Oxford Inertial Odometry Dataset/handbag/data1/syn/imu1.csv')\n",
    "imu_column_names = ['Time', 'attitude_roll(radians)', 'attitude_pitch(radians)', 'attitude_yaw(radians)',\n",
    "                'rotation_rate_x(radians/s)', 'rotation_rate_y(radians/s)', 'rotation_rate_z(radians/s)',\n",
    "                'gravity_x(G)', 'gravity_y(G)', 'gravity_z(G)', 'user_acc_x(G)', 'user_acc_y(G)', 'user_acc_z(G)',\n",
    "                'magnetic_field_x(microteslas)', 'magnetic_field_y(microteslas)', 'magnetic_field_z(microteslas)']\n",
    "gravity_data.columns = imu_column_names\n",
    "gravity_data = gravity_data[['gravity_x(G)', 'gravity_y(G)', 'gravity_z(G)']]"
   ]
  },
  {
   "cell_type": "code",
   "execution_count": 57,
   "id": "b3af9f73-d5a3-41fd-982b-8389b221faef",
   "metadata": {
    "tags": []
   },
   "outputs": [],
   "source": [
    "import numpy as np\n",
    "\n",
    "def quaternion_to_rotation_matrix(q):\n",
    "    # Normalize the quaternion\n",
    "    q = q / np.linalg.norm(q)\n",
    "\n",
    "    # Extract quaternion components\n",
    "    w = q[0]\n",
    "    x = q[1]\n",
    "    y = q[2]\n",
    "    z = q[3]\n",
    "\n",
    "    # Compute rotation matrix\n",
    "    R = np.array([\n",
    "        [1 - 2*y**2 - 2*z**2, 2*x*y - 2*w*z, 2*x*z + 2*w*y],\n",
    "        [2*x*y + 2*w*z, 1 - 2*x**2 - 2*z**2, 2*y*z - 2*w*x],\n",
    "        [2*x*z - 2*w*y, 2*y*z + 2*w*x, 1 - 2*x**2 - 2*y**2]\n",
    "    ])\n",
    "\n",
    "    return R\n"
   ]
  },
  {
   "cell_type": "code",
   "execution_count": 58,
   "id": "80a70714-e54d-48cb-a882-b21ff2ad5269",
   "metadata": {
    "tags": []
   },
   "outputs": [
    {
     "ename": "ValueError",
     "evalue": "Columns must be same length as key",
     "output_type": "error",
     "traceback": [
      "\u001b[0;31m---------------------------------------------------------------------------\u001b[0m",
      "\u001b[0;31mValueError\u001b[0m                                Traceback (most recent call last)",
      "Cell \u001b[0;32mIn[58], line 1\u001b[0m\n\u001b[0;32m----> 1\u001b[0m \u001b[43mfull_data\u001b[49m\u001b[43m[\u001b[49m\u001b[43m[\u001b[49m\u001b[38;5;124;43m'\u001b[39;49m\u001b[38;5;124;43muser_acc_x(G)\u001b[39;49m\u001b[38;5;124;43m'\u001b[39;49m\u001b[43m,\u001b[49m\u001b[43m \u001b[49m\u001b[38;5;124;43m'\u001b[39;49m\u001b[38;5;124;43muser_acc_y(G)\u001b[39;49m\u001b[38;5;124;43m'\u001b[39;49m\u001b[43m,\u001b[49m\u001b[43m \u001b[49m\u001b[38;5;124;43m'\u001b[39;49m\u001b[38;5;124;43muser_acc_z(G)\u001b[39;49m\u001b[38;5;124;43m'\u001b[39;49m\u001b[43m]\u001b[49m\u001b[43m]\u001b[49m \u001b[38;5;241m=\u001b[39m full_data[[\u001b[38;5;124m'\u001b[39m\u001b[38;5;124muser_acc_x(G)\u001b[39m\u001b[38;5;124m'\u001b[39m, \u001b[38;5;124m'\u001b[39m\u001b[38;5;124muser_acc_y(G)\u001b[39m\u001b[38;5;124m'\u001b[39m, \u001b[38;5;124m'\u001b[39m\u001b[38;5;124muser_acc_z(G)\u001b[39m\u001b[38;5;124m'\u001b[39m]] \u001b[38;5;241m-\u001b[39m gravity_data\n",
      "File \u001b[0;32m/usr/local/lib/python3.8/dist-packages/pandas/core/frame.py:3966\u001b[0m, in \u001b[0;36mDataFrame.__setitem__\u001b[0;34m(self, key, value)\u001b[0m\n\u001b[1;32m   3964\u001b[0m     \u001b[38;5;28mself\u001b[39m\u001b[38;5;241m.\u001b[39m_setitem_frame(key, value)\n\u001b[1;32m   3965\u001b[0m \u001b[38;5;28;01melif\u001b[39;00m \u001b[38;5;28misinstance\u001b[39m(key, (Series, np\u001b[38;5;241m.\u001b[39mndarray, \u001b[38;5;28mlist\u001b[39m, Index)):\n\u001b[0;32m-> 3966\u001b[0m     \u001b[38;5;28;43mself\u001b[39;49m\u001b[38;5;241;43m.\u001b[39;49m\u001b[43m_setitem_array\u001b[49m\u001b[43m(\u001b[49m\u001b[43mkey\u001b[49m\u001b[43m,\u001b[49m\u001b[43m \u001b[49m\u001b[43mvalue\u001b[49m\u001b[43m)\u001b[49m\n\u001b[1;32m   3967\u001b[0m \u001b[38;5;28;01melif\u001b[39;00m \u001b[38;5;28misinstance\u001b[39m(value, DataFrame):\n\u001b[1;32m   3968\u001b[0m     \u001b[38;5;28mself\u001b[39m\u001b[38;5;241m.\u001b[39m_set_item_frame_value(key, value)\n",
      "File \u001b[0;32m/usr/local/lib/python3.8/dist-packages/pandas/core/frame.py:4008\u001b[0m, in \u001b[0;36mDataFrame._setitem_array\u001b[0;34m(self, key, value)\u001b[0m\n\u001b[1;32m   4003\u001b[0m \u001b[38;5;28;01melse\u001b[39;00m:\n\u001b[1;32m   4004\u001b[0m     \u001b[38;5;66;03m# Note: unlike self.iloc[:, indexer] = value, this will\u001b[39;00m\n\u001b[1;32m   4005\u001b[0m     \u001b[38;5;66;03m#  never try to overwrite values inplace\u001b[39;00m\n\u001b[1;32m   4007\u001b[0m     \u001b[38;5;28;01mif\u001b[39;00m \u001b[38;5;28misinstance\u001b[39m(value, DataFrame):\n\u001b[0;32m-> 4008\u001b[0m         \u001b[43mcheck_key_length\u001b[49m\u001b[43m(\u001b[49m\u001b[38;5;28;43mself\u001b[39;49m\u001b[38;5;241;43m.\u001b[39;49m\u001b[43mcolumns\u001b[49m\u001b[43m,\u001b[49m\u001b[43m \u001b[49m\u001b[43mkey\u001b[49m\u001b[43m,\u001b[49m\u001b[43m \u001b[49m\u001b[43mvalue\u001b[49m\u001b[43m)\u001b[49m\n\u001b[1;32m   4009\u001b[0m         \u001b[38;5;28;01mfor\u001b[39;00m k1, k2 \u001b[38;5;129;01min\u001b[39;00m \u001b[38;5;28mzip\u001b[39m(key, value\u001b[38;5;241m.\u001b[39mcolumns):\n\u001b[1;32m   4010\u001b[0m             \u001b[38;5;28mself\u001b[39m[k1] \u001b[38;5;241m=\u001b[39m value[k2]\n",
      "File \u001b[0;32m/usr/local/lib/python3.8/dist-packages/pandas/core/indexers/utils.py:401\u001b[0m, in \u001b[0;36mcheck_key_length\u001b[0;34m(columns, key, value)\u001b[0m\n\u001b[1;32m    399\u001b[0m \u001b[38;5;28;01mif\u001b[39;00m columns\u001b[38;5;241m.\u001b[39mis_unique:\n\u001b[1;32m    400\u001b[0m     \u001b[38;5;28;01mif\u001b[39;00m \u001b[38;5;28mlen\u001b[39m(value\u001b[38;5;241m.\u001b[39mcolumns) \u001b[38;5;241m!=\u001b[39m \u001b[38;5;28mlen\u001b[39m(key):\n\u001b[0;32m--> 401\u001b[0m         \u001b[38;5;28;01mraise\u001b[39;00m \u001b[38;5;167;01mValueError\u001b[39;00m(\u001b[38;5;124m\"\u001b[39m\u001b[38;5;124mColumns must be same length as key\u001b[39m\u001b[38;5;124m\"\u001b[39m)\n\u001b[1;32m    402\u001b[0m \u001b[38;5;28;01melse\u001b[39;00m:\n\u001b[1;32m    403\u001b[0m     \u001b[38;5;66;03m# Missing keys in columns are represented as -1\u001b[39;00m\n\u001b[1;32m    404\u001b[0m     \u001b[38;5;28;01mif\u001b[39;00m \u001b[38;5;28mlen\u001b[39m(columns\u001b[38;5;241m.\u001b[39mget_indexer_non_unique(key)[\u001b[38;5;241m0\u001b[39m]) \u001b[38;5;241m!=\u001b[39m \u001b[38;5;28mlen\u001b[39m(value\u001b[38;5;241m.\u001b[39mcolumns):\n",
      "\u001b[0;31mValueError\u001b[0m: Columns must be same length as key"
     ]
    }
   ],
   "source": [
    "full_data[['user_acc_x(G)', 'user_acc_y(G)', 'user_acc_z(G)']] = full_data[['user_acc_x(G)', 'user_acc_y(G)', 'user_acc_z(G)']] - gravity_data"
   ]
  },
  {
   "cell_type": "code",
   "execution_count": 59,
   "id": "0d99468f-76bd-449c-b4c7-9f6dcc2a1ad5",
   "metadata": {
    "tags": []
   },
   "outputs": [],
   "source": [
    "import numpy as np\n",
    "import matplotlib.pyplot as plt\n",
    "glob_acc = []\n",
    "data = full_data.head(20000)\n",
    "for i in range(len(data)):\n",
    "\n",
    "    # Assuming you have the rotation matrix and acceleration vector\n",
    "    rotation_matrix = quaternion_to_rotation_matrix(data[['rotation.w', 'rotation.x', 'rotation.y', 'rotation.z']].values[i,:])  # 3x3 rotation matrix\n",
    "    acceleration_local = data[['user_acc_x(G)', 'user_acc_y(G)', 'user_acc_z(G)']].values[i,:]  # 3x1 acceleration vector in the local coordinate frame\n",
    "\n",
    "    # Perform matrix multiplication\n",
    "    acceleration_global = np.dot(rotation_matrix, acceleration_local)\n",
    "\n",
    "    # Print the transformed acceleration in the global coordinate frame\n",
    "    glob_acc.append(acceleration_global)\n"
   ]
  },
  {
   "cell_type": "code",
   "execution_count": 60,
   "id": "b70ae259-9edb-4f35-b8d8-37603bbdfc2c",
   "metadata": {
    "tags": []
   },
   "outputs": [],
   "source": [
    "# Initial conditions\n",
    "initial_position = [0, 0, 0]  # Initial position [x, y, z]\n",
    "initial_velocity = [0, 0, 0]  # Initial velocity [x_dot, y_dot, z_dot]\n",
    "trajectory = [[0], [0], [0]]\n",
    "velocity_traj = [[0], [0], [0]]\n",
    "\n",
    "# Variables for current state\n",
    "position = initial_position.copy()\n",
    "velocity = initial_velocity.copy()\n",
    "\n",
    "# Variables for previous state\n",
    "prev_timestamp = 0.0\n",
    "prev_acceleration = [0, 0, 0]  # Previous acceleration [x, y, z]\n"
   ]
  },
  {
   "cell_type": "code",
   "execution_count": 61,
   "id": "ed907fbe-4097-4e66-b210-0e93f1f75324",
   "metadata": {
    "tags": []
   },
   "outputs": [],
   "source": [
    "for acceleration in glob_acc:\n",
    "    # Calculate time difference\n",
    "    dt = 0.01\n",
    "\n",
    "    # Double integration for position\n",
    "    position[0] += velocity[0] * dt + 0.5 * acceleration[0] * dt**2\n",
    "    position[1] += velocity[1] * dt + 0.5 * acceleration[1] * dt**2\n",
    "    position[2] += velocity[2] * dt + 0.5 * acceleration[2] * dt**2\n",
    "    trajectory[0].append(position[0])\n",
    "    trajectory[1].append(position[1])\n",
    "    trajectory[2].append(position[2])\n",
    "\n",
    "    # Update velocity\n",
    "    velocity[0] += acceleration[0] * dt\n",
    "    velocity[1] += acceleration[1] * dt\n",
    "    velocity[2] += acceleration[2] * dt\n",
    "    velocity_traj[0].append(velocity[0])\n",
    "    velocity_traj[1].append(velocity[1])\n",
    "    velocity_traj[2].append(velocity[2])\n",
    "\n",
    "    # Store current values as previous values for the next iteration\n",
    "    prev_acceleration = acceleration.copy()\n"
   ]
  },
  {
   "cell_type": "code",
   "execution_count": 62,
   "id": "53f50a0d-063c-4ab6-ae3e-69874d91e88f",
   "metadata": {
    "tags": []
   },
   "outputs": [
    {
     "data": {
      "text/plain": [
       "[<matplotlib.lines.Line2D at 0x7f40226d59a0>]"
      ]
     },
     "execution_count": 62,
     "metadata": {},
     "output_type": "execute_result"
    },
    {
     "data": {
      "image/png": "[encoded data removed]",
      "text/plain": [
       "<Figure size 640x480 with 4 Axes>"
      ]
     },
     "metadata": {},
     "output_type": "display_data"
    }
   ],
   "source": [
    "plt.subplot(2,2,1)\n",
    "plt.plot(velocity_traj[0])\n",
    "#plt.plot(targ[:,0])\n",
    "\n",
    "plt.subplot(2,2,2)\n",
    "plt.plot(velocity_traj[1])\n",
    "#plt.plot(targ[:,0])\n",
    "\n",
    "plt.subplot(2,2,3)\n",
    "plt.plot(trajectory[0])\n",
    "#plt.plot(gt_pos[:,0])\n",
    "\n",
    "plt.subplot(2,2,4)\n",
    "plt.plot(trajectory[1])\n",
    "#plt.plot(gt_pos[:,0])"
   ]
  },
  {
   "cell_type": "markdown",
   "id": "d40827fb-98e1-4576-940e-7474284a6231",
   "metadata": {
    "jp-MarkdownHeadingCollapsed": true,
    "tags": []
   },
   "source": [
    "## Pedestrian Dead Reckoning"
   ]
  },
  {
   "cell_type": "code",
   "execution_count": 1,
   "id": "c992606d-1745-4adc-86a6-526cd79fbf55",
   "metadata": {
    "tags": []
   },
   "outputs": [
    {
     "name": "stdout",
     "output_type": "stream",
     "text": [
      "All done. Average ate:nan, average rte: nan\n"
     ]
    },
    {
     "name": "stderr",
     "output_type": "stream",
     "text": [
      "/usr/local/lib/python3.8/dist-packages/numpy/core/fromnumeric.py:3474: RuntimeWarning: Mean of empty slice.\n",
      "  return _methods._mean(a, axis=axis, dtype=dtype,\n",
      "/usr/local/lib/python3.8/dist-packages/numpy/core/_methods.py:189: RuntimeWarning: invalid value encountered in double_scalars\n",
      "  ret = ret.dtype.type(ret / rcount)\n"
     ]
    }
   ],
   "source": [
    "import argparse\n",
    "import json\n",
    "import os\n",
    "import sys\n",
    "from os import path as osp\n",
    "\n",
    "import h5py\n",
    "import matplotlib.pyplot as plt\n",
    "import numpy as np\n",
    "import quaternion\n",
    "from scipy.interpolate import interp1d\n",
    "\n",
    "#if want to search for packages from the parent file\n",
    "#sys.path.append(osp.join(osp.dirname(osp.abspath(__file__)), '..'))\n",
    "\n",
    "from math_util import *\n",
    "from metric import compute_absolute_trajectory_error, compute_relative_trajectory_error\n",
    "\n"
   ]
  },
  {
   "cell_type": "code",
   "execution_count": null,
   "id": "c6137319-3bc7-4330-a076-c2510cd73e5c",
   "metadata": {},
   "outputs": [],
   "source": [
    "args = argparse.Namespace()\n",
    "args.list = None\n",
    "args.root_dir = None\n",
    "args.align_length = 600\n",
    "args.path = None\n",
    "args.stride = 0.67\n",
    "args.out_dir = None\n",
    "args.show_plot = False\n",
    "\n",
    "\n",
    "\n"
   ]
  },
  {
   "cell_type": "code",
   "execution_count": null,
   "id": "068ba436-6c12-4ae6-91d2-abe3711458e5",
   "metadata": {},
   "outputs": [],
   "source": [
    "root_dir, data_list = '', []\n",
    "if args.path is not None:\n",
    "    if args.path[-1] == '/':\n",
    "        args.path = args.path[:-1]\n",
    "    root_dir = osp.split(args.path)[0]\n",
    "    data_list = [osp.split(args.path)[1]]\n",
    "elif args.list is not None:\n",
    "    root_dir = args.root_dir\n",
    "    with open(args.list) as f:\n",
    "        data_list = [s.strip().split()[0] for s in f.readlines() if len(s) > 0 and s[0] != '#']\n",
    "\n",
    "if args.out_dir is not None and not osp.isdir(args.out_dir):\n",
    "    os.makedirs(args.out_dir)\n",
    "\n",
    "ate_all, rte_all = [], []\n",
    "pred_per_min = 200 * 60\n",
    "\n",
    "for data in data_list:\n",
    "    data_path = osp.join(root_dir, data)\n",
    "    with open(osp.join(data_path, 'info.json')) as f:\n",
    "        info = json.load(f)\n",
    "        device = info['device']\n",
    "        rot_imu_to_tango = quaternion.quaternion(*info['start_calibration'])\n",
    "        ref_time_imu = info['imu_reference_time']\n",
    "        imu_time_offset = info['imu_time_offset']\n",
    "        start_frame = info.get('start_frame', 0)\n",
    "\n",
    "    with h5py.File(osp.join(data_path, 'data.hdf5')) as f:\n",
    "        ori = np.copy(f['synced/game_rv'])\n",
    "        tango_ori_q = quaternion.from_float_array(f['pose/tango_ori'])\n",
    "        ori_q = quaternion.from_float_array(ori)\n",
    "        init_rotor = tango_ori_q[0] * rot_imu_to_tango * ori_q[0].conj()\n",
    "        ori = quaternion.as_float_array(init_rotor * ori_q)[start_frame:]\n",
    "\n",
    "        ts = np.copy(f['synced/time'])[start_frame:]\n",
    "        tango_pos = np.copy(f['pose/tango_pos'])[start_frame:]\n",
    "        step = np.copy(f['raw/imu/step'])\n",
    "\n",
    "    step_ts = step[:, 0] / 1e09 - imu_time_offset\n",
    "    sid, eid = 0, step_ts.shape[0] - 1\n",
    "    while sid < step_ts.shape[0] and ts[0] > step_ts[sid]:\n",
    "        sid += 1\n",
    "    while eid >= 0 and ts[-1] < step_ts[eid]:\n",
    "        eid -= 1\n",
    "    assert sid < step_ts.shape[0] and eid >= 0\n",
    "\n",
    "    step_ts = step_ts[sid:eid + 1]\n",
    "    step = step[sid:eid + 1]\n",
    "\n",
    "    ori_at_step = interpolate_quaternion_linear(ori, ts, step_ts)\n",
    "    yaw_at_step = orientation_to_angles(ori_at_step)[:, 0]\n",
    "\n",
    "    rot_hori = np.stack([np.cos(yaw_at_step), np.sin(yaw_at_step),\n",
    "                         -np.sin(yaw_at_step), np.cos(yaw_at_step)], axis=1).reshape([-1, 2, 2])\n",
    "    step_v = np.stack([np.zeros(step.shape[0]), np.ones(step.shape[0]) * args.stride], axis=1)\n",
    "\n",
    "    step_glob = np.squeeze(np.matmul(rot_hori, np.expand_dims(step_v, axis=2)), axis=2)\n",
    "    pos_pred = np.zeros([step_glob.shape[0] + 1, 2])\n",
    "    step_ts = np.concatenate([[ts[0]], step_ts], axis=0)\n",
    "    pos_pred[0] = tango_pos[0][:2]\n",
    "    pos_pred[1:] = np.cumsum(step_glob, axis=0) + pos_pred[0]\n",
    "\n",
    "    eid = ts.shape[0] - 1\n",
    "    while eid >= 0 and ts[eid] > step_ts[-1]:\n",
    "        eid -= 1\n",
    "    pos_gt = tango_pos[:eid + 1, :2]\n",
    "    pos_pred = interp1d(step_ts, pos_pred, axis=0)(ts[:eid + 1])\n",
    "\n",
    "    if args.align_length is not None and args.align_length > 0:\n",
    "        _, r, t = icp_fit_transformation(pos_pred[:args.align_length], pos_gt[:args.align_length])\n",
    "        pos_pred = np.matmul(r, pos_pred.T).T + t\n",
    "\n",
    "    # For trajectories shorted than 1 min, we scale the RTE value accordingly.\n",
    "    if pos_pred.shape[0] < pred_per_min:\n",
    "        ratio = pred_per_min / pos_pred.shape[0]\n",
    "        rte = compute_relative_trajectory_error(pos_pred, pos_gt, delta=pos_pred.shape[0] - 1) * ratio\n",
    "    else:\n",
    "        rte = compute_relative_trajectory_error(pos_pred, pos_gt, delta=pred_per_min)\n",
    "    rte_all.append(rte)\n",
    "\n",
    "    ate = compute_absolute_trajectory_error(pos_pred, pos_gt)\n",
    "    ate_all.append(ate)\n",
    "    print('Sequence {}, ate {:.6f}, rte {:.6f}'.format(data, ate, rte))\n",
    "\n",
    "    plt.close('all')\n",
    "    plt.figure(data, figsize=(8, 6))\n",
    "    plt.plot(pos_gt[:, 0], pos_gt[:, 1])\n",
    "    plt.plot(pos_pred[:, 0], pos_pred[:, 1])\n",
    "    plt.legend(['Ground truth', 'Estimated'])\n",
    "    plt.axis('equal')\n",
    "    plt.tight_layout()\n",
    "\n",
    "    if args.out_dir is not None and osp.isdir(args.out_dir):\n",
    "        plt.savefig(osp.join(args.out_dir, data + '_pdr.png'))\n",
    "\n",
    "    if args.show_plot:\n",
    "        plt.show()\n",
    "\n",
    "print('All done. Average ate:{:.6f}, average rte: {:.6f}'.format(np.mean(ate_all), np.mean(rte_all)))\n",
    "if args.out_dir is not None and osp.isdir(args.out_dir):\n",
    "    with open(osp.join(args.out_dir, 'result.csv'), 'w') as f:\n",
    "        f.write('seq,ate,rte\\n')\n",
    "        for i in range(len(data_list)):\n",
    "            f.write('{},{:.6f},{:.6f}\\n'.format(data_list[i], ate_all[i], rte_all[i]))"
   ]
  }
 ],
 "metadata": {
  "interpreter": {
   "hash": "aee8b7b246df8f9039afb4144a1f6fd8d2ca17a180786b69acc140d282b71a49"
  },
  "kernelspec": {
   "display_name": "Python 3 (ipykernel)",
   "language": "python",
   "name": "python3"
  },
  "language_info": {
   "codemirror_mode": {
    "name": "ipython",
    "version": 3
   },
   "file_extension": ".py",
   "mimetype": "text/x-python",
   "name": "python",
   "nbconvert_exporter": "python",
   "pygments_lexer": "ipython3",
   "version": "3.8.10"
  }
 },
 "nbformat": 4,
 "nbformat_minor": 5
}
