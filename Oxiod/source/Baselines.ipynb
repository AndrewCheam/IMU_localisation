{
 "cells": [
  {
   "cell_type": "markdown",
   "id": "5de46a68-2da7-4c61-bdca-d3daf264949e",
   "metadata": {},
   "source": [
    "# Baselines"
   ]
  },
  {
   "cell_type": "markdown",
   "id": "13e70dac-3e3e-4b50-aaf3-470ddc933fbd",
   "metadata": {},
   "source": [
    "## Import Dependencies"
   ]
  },
  {
   "cell_type": "code",
   "execution_count": 1,
   "id": "1a40759b-8045-44e1-8814-32e18739fb5d",
   "metadata": {
    "tags": []
   },
   "outputs": [
    {
     "name": "stdout",
     "output_type": "stream",
     "text": [
      "Looking in indexes: http://192.168.16.2:8080/root/pypi/+simple/, https://pypi.ngc.nvidia.com\n",
      "Requirement already satisfied: tensorboardX in /usr/local/lib/python3.8/dist-packages (2.6)\n",
      "Requirement already satisfied: protobuf<4,>=3.8.0 in /usr/local/lib/python3.8/dist-packages (from tensorboardX) (3.20.3)\n",
      "Requirement already satisfied: packaging in /usr/local/lib/python3.8/dist-packages (from tensorboardX) (23.0)\n",
      "Requirement already satisfied: numpy in /usr/local/lib/python3.8/dist-packages (from tensorboardX) (1.22.2)\n",
      "\u001b[33mWARNING: Running pip as the 'root' user can result in broken permissions and conflicting behaviour with the system package manager. It is recommended to use a virtual environment instead: https://pip.pypa.io/warnings/venv\u001b[0m\n",
      "\u001b[33mWARNING: You are using pip version 21.2.4; however, version 23.1.2 is available.\n",
      "You should consider upgrading via the '/usr/bin/python -m pip install --upgrade pip' command.\u001b[0m\n",
      "Looking in indexes: http://192.168.16.2:8080/root/pypi/+simple/, https://pypi.ngc.nvidia.com\n",
      "Requirement already satisfied: numpy-quaternion in /usr/local/lib/python3.8/dist-packages (2022.4.3)\n",
      "Requirement already satisfied: numpy>=1.13 in /usr/local/lib/python3.8/dist-packages (from numpy-quaternion) (1.22.2)\n",
      "\u001b[33mWARNING: Running pip as the 'root' user can result in broken permissions and conflicting behaviour with the system package manager. It is recommended to use a virtual environment instead: https://pip.pypa.io/warnings/venv\u001b[0m\n",
      "\u001b[33mWARNING: You are using pip version 21.2.4; however, version 23.1.2 is available.\n",
      "You should consider upgrading via the '/usr/bin/python -m pip install --upgrade pip' command.\u001b[0m\n"
     ]
    }
   ],
   "source": [
    "#import dependencies\n",
    "! pip install tensorboardX\n",
    "! pip install numpy-quaternion"
   ]
  },
  {
   "cell_type": "code",
   "execution_count": 2,
   "id": "1974ba72-51c3-4537-a72f-4eb3c4dcb7c2",
   "metadata": {
    "tags": []
   },
   "outputs": [
    {
     "ename": "ModuleNotFoundError",
     "evalue": "No module named 'torch'",
     "output_type": "error",
     "traceback": [
      "\u001b[0;31m---------------------------------------------------------------------------\u001b[0m",
      "\u001b[0;31mModuleNotFoundError\u001b[0m                       Traceback (most recent call last)",
      "Cell \u001b[0;32mIn[2], line 6\u001b[0m\n\u001b[1;32m      3\u001b[0m \u001b[38;5;28;01mfrom\u001b[39;00m \u001b[38;5;21;01mos\u001b[39;00m \u001b[38;5;28;01mimport\u001b[39;00m path \u001b[38;5;28;01mas\u001b[39;00m osp\n\u001b[1;32m      5\u001b[0m \u001b[38;5;28;01mimport\u001b[39;00m \u001b[38;5;21;01mnumpy\u001b[39;00m \u001b[38;5;28;01mas\u001b[39;00m \u001b[38;5;21;01mnp\u001b[39;00m\n\u001b[0;32m----> 6\u001b[0m \u001b[38;5;28;01mimport\u001b[39;00m \u001b[38;5;21;01mtorch\u001b[39;00m\n\u001b[1;32m      7\u001b[0m \u001b[38;5;28;01mimport\u001b[39;00m \u001b[38;5;21;01mjson\u001b[39;00m\n\u001b[1;32m      8\u001b[0m \u001b[38;5;28;01mimport\u001b[39;00m \u001b[38;5;21;01mmath\u001b[39;00m\n",
      "\u001b[0;31mModuleNotFoundError\u001b[0m: No module named 'torch'"
     ]
    }
   ],
   "source": [
    "import os\n",
    "import time\n",
    "from os import path as osp\n",
    "\n",
    "import numpy as np\n",
    "import torch\n",
    "import json\n",
    "import math\n",
    "import xgboost as xg\n",
    "\n",
    "\n",
    "import matplotlib.pyplot as plt\n",
    "import matplotlib.animation as animation\n",
    "from scipy.interpolate import interp1d\n",
    "from tensorboardX import SummaryWriter\n",
    "from torch.utils.data import DataLoader\n",
    "\n",
    "from data_Oxiod import *\n",
    "from transformations import *\n",
    "from metric import compute_ate_rte\n",
    "from model_resnet1d import *"
   ]
  },
  {
   "cell_type": "code",
   "execution_count": 3,
   "id": "99aea52b-32e4-4939-ac6c-9cf639683532",
   "metadata": {
    "tags": []
   },
   "outputs": [],
   "source": [
    "import argparse\n",
    "args = argparse.Namespace()\n",
    "\n",
    "#Paths to different files\n",
    "args.root_dir = '/home/jovyan/localisation_datasets/Oxford Inertial Odometry Dataset/handheld'\n",
    "args.train_list = osp.join(args.root_dir, 'Train.txt')\n",
    "args.val_list = osp.join(args.root_dir, 'Validation.txt')\n",
    "args.test_list = osp.join(args.root_dir, 'Test.txt')\n",
    "args.out_dir = osp.join(args.root_dir, 'outputs')\n",
    "args.model_path = osp.join(args.out_dir, 'checkpoints/checkpoint_latest.pt')\n",
    "\n",
    "\n",
    "args.test_path = None\n",
    "args.cache_path = None\n",
    "args.continue_from = None\n",
    "args.transfer_from = None\n",
    "\n",
    "\n",
    "# Params to tune for neural network\n",
    "args.mode = \"train\"\n",
    "args.step_size = 10\n",
    "args.window_size = 200\n",
    "args.lr = 1e-04\n",
    "args.batch_size = 256\n",
    "args.epochs = 80\n",
    "args.freeze_params = False\n",
    "\n",
    "# miscallaneous\n",
    "args.arch = \"resnet18\"\n",
    "args.cpu = False\n",
    "args.run_ekf = False\n",
    "args.fast_test = False\n",
    "\n",
    "# Plots and animation\n",
    "args.show_plot = True\n",
    "args.saveAnim = True\n",
    "\n",
    "# Smoothing feature and targets\n",
    "args.feature_sigma = 2\n",
    "args.target_sigma = 2\n",
    "\n",
    "np.set_printoptions(formatter={'all': lambda x: '{:.6f}'.format(x)})"
   ]
  },
  {
   "cell_type": "code",
   "execution_count": 10,
   "id": "13de013b-54dc-4458-8327-bc980d906243",
   "metadata": {
    "tags": []
   },
   "outputs": [],
   "source": [
    "def get_dataset(root_dir, data_list, args, **kwargs):\n",
    "    mode = kwargs.get('mode', 'train')\n",
    "\n",
    "    random_shift, shuffle, transforms, grv_only = 0, False, None, False\n",
    "    if mode == 'train':\n",
    "        random_shift = args.step_size // 2\n",
    "        shuffle = True\n",
    "        transforms = RandomHoriRotate(math.pi * 2)\n",
    "    elif mode == 'val':\n",
    "        shuffle = True\n",
    "    elif mode == 'test':\n",
    "        shuffle = False\n",
    "        grv_only = True\n",
    "\n",
    "    seq_type = OxfordGlobSpeedSequence\n",
    "    dataset = StridedSequenceDataset(seq_type, root_dir, data_list, args.cache_path, args.step_size, args.window_size, shuffle = shuffle, \n",
    "                                     grv_only=grv_only, transforms = transforms, random_shift = random_shift)\n",
    "    print(f'step_size: {dataset.step_size}, window_size: {dataset.window_size}')\n",
    "    global _input_channel, _output_channel\n",
    "    _input_channel, _output_channel = dataset.feature_dim, dataset.target_dim\n",
    "    return dataset\n",
    "\n",
    "\n",
    "def get_dataset_from_list(root_dir, list_path, args, **kwargs):\n",
    "    with open(list_path) as f:\n",
    "        data_list = [s.strip().split(',' or ' ')[0] for s in f.readlines() if len(s) > 0 and s[0] != '#']\n",
    "    return get_dataset(root_dir, data_list, args, **kwargs)    "
   ]
  },
  {
   "cell_type": "code",
   "execution_count": 11,
   "id": "d5ec3978-e2e4-471c-8e5b-15ac7a26964b",
   "metadata": {
    "tags": []
   },
   "outputs": [],
   "source": [
    "def recon_traj_with_preds(dataset, preds, seq_id=0, **kwargs):\n",
    "    \"\"\"\n",
    "    Reconstruct trajectory with predicted global velocities.\n",
    "    \"\"\"\n",
    "    ts = dataset.ts[seq_id]\n",
    "    ind = np.array([i[1] for i in dataset.index_map if i[0] == seq_id], dtype=np.int32) # Gets an array of frame IDs which correspond to the sequence\n",
    "    #dts = 0.01\n",
    "    dts = np.mean(ts[ind[1:]] - ts[ind[:-1]])\n",
    "\n",
    "    pos = np.zeros([preds.shape[0] + 2, 2])\n",
    "    # initial position using first position value\n",
    "    pos[0] = dataset.gt_pos[seq_id][0, :2]\n",
    "    \n",
    "    # the intermediate positions using the time interval and adding to initial position\n",
    "    pos[1:-1] = np.cumsum(preds[:, :2] * dts, axis=0) + pos[0]\n",
    "    pos[-1] = pos[-2]\n",
    "    \n",
    "    # This does interpolation because we do not have positions for every timestep. [ts[0] +/- 1e-06] corresponds to the end with an additional small value\n",
    "    ts_ext = np.concatenate([[ts[0] - 1e-06], ts[ind], [ts[-1] + 1e-06]], axis=0)\n",
    "    pos = interp1d(ts_ext, pos, axis=0)(ts)\n",
    "    # print(f'pos shape final: {pos}')\n",
    "    return pos"
   ]
  },
  {
   "cell_type": "code",
   "execution_count": 12,
   "id": "c7f2bd46-0b29-4f02-8425-aa2e101a64fa",
   "metadata": {
    "tags": []
   },
   "outputs": [],
   "source": [
    "def showAnimation(video_path):\n",
    "    import ipywidgets as widgets\n",
    "    from IPython.display import display\n",
    "    video_widget = widgets.Video.from_file(video_path)\n",
    "    video_widget.controls = True\n",
    "    video_widget.autoplay = True\n",
    "    display(video_widget)\n",
    "\n",
    "def plotTrajectory(true_x_values, true_y_values, pred_x_values, pred_y_values):    \n",
    "    plt.figure('{}'.format(\"Trajectory\"), figsize=(16, 9))\n",
    "\n",
    "    length = len(true_x_values)\n",
    "    multiplier = 50\n",
    "    # creating a blank window\n",
    "    # for the animation\n",
    "    fig = plt.figure()\n",
    "    min_x_value = np.min([np.min(true_x_values), np.min(pred_x_values)])\n",
    "    max_x_value = np.max([np.max(true_x_values), np.max(pred_x_values)])\n",
    "    min_y_value = np.min([np.min(true_y_values), np.min(pred_y_values)])\n",
    "    max_y_value = np.max([np.max(true_y_values), np.max(pred_y_values)])\n",
    "    \n",
    "    \n",
    "    axis = plt.axes(xlim =(min_x_value, max_x_value), ylim =(min_y_value, max_y_value))\n",
    "    \n",
    "    line1, = axis.plot([], [], 'b', label='Line 1')\n",
    "    line2, = axis.plot([], [], 'r', label='Line 2')\n",
    "\n",
    "    def init():\n",
    "        line1.set_data([], [])\n",
    "        return line1,\n",
    "    def init():\n",
    "        line2.set_data([], [])\n",
    "        return line2,\n",
    "\n",
    "    # initializing empty values\n",
    "    # for x and y co-ordinates\n",
    "    true_xdata, true_ydata, pred_xdata, pred_ydata = [], [], [], []\n",
    "\n",
    "    # animation function\n",
    "    def animate(i):\n",
    "        true_x = true_x_values[i * multiplier]\n",
    "        true_y = true_y_values[i * multiplier]\n",
    "        pred_x = pred_x_values[i * multiplier]\n",
    "        pred_y = pred_y_values[i * multiplier]\n",
    "        \n",
    "        true_xdata.append(true_x)\n",
    "        true_ydata.append(true_y)\n",
    "        pred_xdata.append(pred_x)\n",
    "        pred_ydata.append(pred_y)\n",
    "        \n",
    "        line1.set_data(true_xdata, true_ydata)\n",
    "        line2.set_data(pred_xdata, pred_ydata)\n",
    "\n",
    "        return line1, line2\n",
    "\n",
    "    # calling the animation function\t\n",
    "    anim = animation.FuncAnimation(fig, animate, init_func = init, frames = int(length/multiplier), interval = 0.01, blit = True)\n",
    "    return anim"
   ]
  },
  {
   "cell_type": "markdown",
   "id": "624b5a25-5772-4a2f-b55c-30a230ae14c7",
   "metadata": {},
   "source": [
    "## XGBoost"
   ]
  },
  {
   "cell_type": "code",
   "execution_count": 36,
   "id": "3cacabd4-4a32-417f-aa13-79c1e88837ce",
   "metadata": {
    "tags": []
   },
   "outputs": [
    {
     "name": "stdout",
     "output_type": "stream",
     "text": [
      "step_size: 10, window_size: 200\n",
      "(50184, 6, 200)\n",
      "(50184, 2)\n",
      "Training set loaded. Feature size: 6, target size: 2. Time usage: 9.125s\n"
     ]
    }
   ],
   "source": [
    "# Loading data\n",
    "X_train, y_train = [], []\n",
    "\n",
    "start_t = time.time()\n",
    "train_dataset = get_dataset_from_list(args.root_dir, args.train_list, args,  mode='train')\n",
    "train_loader = DataLoader(train_dataset, batch_size=args.batch_size, shuffle=True)\n",
    "\n",
    "for batch_id, (feat, targ, _, _) in enumerate(train_loader):\n",
    "    X_train.append(feat)\n",
    "    y_train.append(targ)\n",
    "\n",
    "X_train = torch.cat(X_train, dim=0).numpy()\n",
    "y_train = torch.cat(y_train, dim=0).numpy()\n",
    "print(X_train.shape)\n",
    "print(y_train.shape)\n",
    "end_t = time.time()\n",
    "print('Training set loaded. Feature size: {}, target size: {}. Time usage: {:.3f}s'.format(\n",
    "    train_dataset.feature_dim, train_dataset.target_dim, end_t - start_t))\n",
    "\n",
    "\n",
    "xgb_r = xg.XGBRegressor(objective ='reg:linear', n_estimators = 10, seed = 123)\n",
    "#xgb_r.fit(train_X, train_y)"
   ]
  },
  {
   "cell_type": "code",
   "execution_count": 37,
   "id": "87a33c1d-a8ac-412b-9b91-c04820853c95",
   "metadata": {
    "tags": []
   },
   "outputs": [
    {
     "ename": "ValueError",
     "evalue": "Found array with dim 3. SVR expected <= 2.",
     "output_type": "error",
     "traceback": [
      "\u001b[0;31m---------------------------------------------------------------------------\u001b[0m",
      "\u001b[0;31mValueError\u001b[0m                                Traceback (most recent call last)",
      "Cell \u001b[0;32mIn[37], line 3\u001b[0m\n\u001b[1;32m      1\u001b[0m \u001b[38;5;28;01mfrom\u001b[39;00m \u001b[38;5;21;01msklearn\u001b[39;00m\u001b[38;5;21;01m.\u001b[39;00m\u001b[38;5;21;01msvm\u001b[39;00m \u001b[38;5;28;01mimport\u001b[39;00m SVR\n\u001b[1;32m      2\u001b[0m svr \u001b[38;5;241m=\u001b[39m SVR(kernel\u001b[38;5;241m=\u001b[39m\u001b[38;5;124m'\u001b[39m\u001b[38;5;124mrbf\u001b[39m\u001b[38;5;124m'\u001b[39m)  \u001b[38;5;66;03m# You can try different kernels (linear, polynomial, rbf)\u001b[39;00m\n\u001b[0;32m----> 3\u001b[0m \u001b[43msvr\u001b[49m\u001b[38;5;241;43m.\u001b[39;49m\u001b[43mfit\u001b[49m\u001b[43m(\u001b[49m\u001b[43mX_train\u001b[49m\u001b[43m,\u001b[49m\u001b[43m \u001b[49m\u001b[43my_train\u001b[49m\u001b[43m)\u001b[49m\n",
      "File \u001b[0;32m/usr/local/lib/python3.8/dist-packages/sklearn/svm/_base.py:192\u001b[0m, in \u001b[0;36mBaseLibSVM.fit\u001b[0;34m(self, X, y, sample_weight)\u001b[0m\n\u001b[1;32m    190\u001b[0m     check_consistent_length(X, y)\n\u001b[1;32m    191\u001b[0m \u001b[38;5;28;01melse\u001b[39;00m:\n\u001b[0;32m--> 192\u001b[0m     X, y \u001b[38;5;241m=\u001b[39m \u001b[38;5;28;43mself\u001b[39;49m\u001b[38;5;241;43m.\u001b[39;49m\u001b[43m_validate_data\u001b[49m\u001b[43m(\u001b[49m\n\u001b[1;32m    193\u001b[0m \u001b[43m        \u001b[49m\u001b[43mX\u001b[49m\u001b[43m,\u001b[49m\n\u001b[1;32m    194\u001b[0m \u001b[43m        \u001b[49m\u001b[43my\u001b[49m\u001b[43m,\u001b[49m\n\u001b[1;32m    195\u001b[0m \u001b[43m        \u001b[49m\u001b[43mdtype\u001b[49m\u001b[38;5;241;43m=\u001b[39;49m\u001b[43mnp\u001b[49m\u001b[38;5;241;43m.\u001b[39;49m\u001b[43mfloat64\u001b[49m\u001b[43m,\u001b[49m\n\u001b[1;32m    196\u001b[0m \u001b[43m        \u001b[49m\u001b[43morder\u001b[49m\u001b[38;5;241;43m=\u001b[39;49m\u001b[38;5;124;43m\"\u001b[39;49m\u001b[38;5;124;43mC\u001b[39;49m\u001b[38;5;124;43m\"\u001b[39;49m\u001b[43m,\u001b[49m\n\u001b[1;32m    197\u001b[0m \u001b[43m        \u001b[49m\u001b[43maccept_sparse\u001b[49m\u001b[38;5;241;43m=\u001b[39;49m\u001b[38;5;124;43m\"\u001b[39;49m\u001b[38;5;124;43mcsr\u001b[39;49m\u001b[38;5;124;43m\"\u001b[39;49m\u001b[43m,\u001b[49m\n\u001b[1;32m    198\u001b[0m \u001b[43m        \u001b[49m\u001b[43maccept_large_sparse\u001b[49m\u001b[38;5;241;43m=\u001b[39;49m\u001b[38;5;28;43;01mFalse\u001b[39;49;00m\u001b[43m,\u001b[49m\n\u001b[1;32m    199\u001b[0m \u001b[43m    \u001b[49m\u001b[43m)\u001b[49m\n\u001b[1;32m    201\u001b[0m y \u001b[38;5;241m=\u001b[39m \u001b[38;5;28mself\u001b[39m\u001b[38;5;241m.\u001b[39m_validate_targets(y)\n\u001b[1;32m    203\u001b[0m sample_weight \u001b[38;5;241m=\u001b[39m np\u001b[38;5;241m.\u001b[39masarray(\n\u001b[1;32m    204\u001b[0m     [] \u001b[38;5;28;01mif\u001b[39;00m sample_weight \u001b[38;5;129;01mis\u001b[39;00m \u001b[38;5;28;01mNone\u001b[39;00m \u001b[38;5;28;01melse\u001b[39;00m sample_weight, dtype\u001b[38;5;241m=\u001b[39mnp\u001b[38;5;241m.\u001b[39mfloat64\n\u001b[1;32m    205\u001b[0m )\n",
      "File \u001b[0;32m/usr/local/lib/python3.8/dist-packages/sklearn/base.py:554\u001b[0m, in \u001b[0;36mBaseEstimator._validate_data\u001b[0;34m(self, X, y, reset, validate_separately, **check_params)\u001b[0m\n\u001b[1;32m    552\u001b[0m         y \u001b[38;5;241m=\u001b[39m check_array(y, input_name\u001b[38;5;241m=\u001b[39m\u001b[38;5;124m\"\u001b[39m\u001b[38;5;124my\u001b[39m\u001b[38;5;124m\"\u001b[39m, \u001b[38;5;241m*\u001b[39m\u001b[38;5;241m*\u001b[39mcheck_y_params)\n\u001b[1;32m    553\u001b[0m     \u001b[38;5;28;01melse\u001b[39;00m:\n\u001b[0;32m--> 554\u001b[0m         X, y \u001b[38;5;241m=\u001b[39m \u001b[43mcheck_X_y\u001b[49m\u001b[43m(\u001b[49m\u001b[43mX\u001b[49m\u001b[43m,\u001b[49m\u001b[43m \u001b[49m\u001b[43my\u001b[49m\u001b[43m,\u001b[49m\u001b[43m \u001b[49m\u001b[38;5;241;43m*\u001b[39;49m\u001b[38;5;241;43m*\u001b[39;49m\u001b[43mcheck_params\u001b[49m\u001b[43m)\u001b[49m\n\u001b[1;32m    555\u001b[0m     out \u001b[38;5;241m=\u001b[39m X, y\n\u001b[1;32m    557\u001b[0m \u001b[38;5;28;01mif\u001b[39;00m \u001b[38;5;129;01mnot\u001b[39;00m no_val_X \u001b[38;5;129;01mand\u001b[39;00m check_params\u001b[38;5;241m.\u001b[39mget(\u001b[38;5;124m\"\u001b[39m\u001b[38;5;124mensure_2d\u001b[39m\u001b[38;5;124m\"\u001b[39m, \u001b[38;5;28;01mTrue\u001b[39;00m):\n",
      "File \u001b[0;32m/usr/local/lib/python3.8/dist-packages/sklearn/utils/validation.py:1104\u001b[0m, in \u001b[0;36mcheck_X_y\u001b[0;34m(X, y, accept_sparse, accept_large_sparse, dtype, order, copy, force_all_finite, ensure_2d, allow_nd, multi_output, ensure_min_samples, ensure_min_features, y_numeric, estimator)\u001b[0m\n\u001b[1;32m   1099\u001b[0m         estimator_name \u001b[38;5;241m=\u001b[39m _check_estimator_name(estimator)\n\u001b[1;32m   1100\u001b[0m     \u001b[38;5;28;01mraise\u001b[39;00m \u001b[38;5;167;01mValueError\u001b[39;00m(\n\u001b[1;32m   1101\u001b[0m         \u001b[38;5;124mf\u001b[39m\u001b[38;5;124m\"\u001b[39m\u001b[38;5;132;01m{\u001b[39;00mestimator_name\u001b[38;5;132;01m}\u001b[39;00m\u001b[38;5;124m requires y to be passed, but the target y is None\u001b[39m\u001b[38;5;124m\"\u001b[39m\n\u001b[1;32m   1102\u001b[0m     )\n\u001b[0;32m-> 1104\u001b[0m X \u001b[38;5;241m=\u001b[39m \u001b[43mcheck_array\u001b[49m\u001b[43m(\u001b[49m\n\u001b[1;32m   1105\u001b[0m \u001b[43m    \u001b[49m\u001b[43mX\u001b[49m\u001b[43m,\u001b[49m\n\u001b[1;32m   1106\u001b[0m \u001b[43m    \u001b[49m\u001b[43maccept_sparse\u001b[49m\u001b[38;5;241;43m=\u001b[39;49m\u001b[43maccept_sparse\u001b[49m\u001b[43m,\u001b[49m\n\u001b[1;32m   1107\u001b[0m \u001b[43m    \u001b[49m\u001b[43maccept_large_sparse\u001b[49m\u001b[38;5;241;43m=\u001b[39;49m\u001b[43maccept_large_sparse\u001b[49m\u001b[43m,\u001b[49m\n\u001b[1;32m   1108\u001b[0m \u001b[43m    \u001b[49m\u001b[43mdtype\u001b[49m\u001b[38;5;241;43m=\u001b[39;49m\u001b[43mdtype\u001b[49m\u001b[43m,\u001b[49m\n\u001b[1;32m   1109\u001b[0m \u001b[43m    \u001b[49m\u001b[43morder\u001b[49m\u001b[38;5;241;43m=\u001b[39;49m\u001b[43morder\u001b[49m\u001b[43m,\u001b[49m\n\u001b[1;32m   1110\u001b[0m \u001b[43m    \u001b[49m\u001b[43mcopy\u001b[49m\u001b[38;5;241;43m=\u001b[39;49m\u001b[43mcopy\u001b[49m\u001b[43m,\u001b[49m\n\u001b[1;32m   1111\u001b[0m \u001b[43m    \u001b[49m\u001b[43mforce_all_finite\u001b[49m\u001b[38;5;241;43m=\u001b[39;49m\u001b[43mforce_all_finite\u001b[49m\u001b[43m,\u001b[49m\n\u001b[1;32m   1112\u001b[0m \u001b[43m    \u001b[49m\u001b[43mensure_2d\u001b[49m\u001b[38;5;241;43m=\u001b[39;49m\u001b[43mensure_2d\u001b[49m\u001b[43m,\u001b[49m\n\u001b[1;32m   1113\u001b[0m \u001b[43m    \u001b[49m\u001b[43mallow_nd\u001b[49m\u001b[38;5;241;43m=\u001b[39;49m\u001b[43mallow_nd\u001b[49m\u001b[43m,\u001b[49m\n\u001b[1;32m   1114\u001b[0m \u001b[43m    \u001b[49m\u001b[43mensure_min_samples\u001b[49m\u001b[38;5;241;43m=\u001b[39;49m\u001b[43mensure_min_samples\u001b[49m\u001b[43m,\u001b[49m\n\u001b[1;32m   1115\u001b[0m \u001b[43m    \u001b[49m\u001b[43mensure_min_features\u001b[49m\u001b[38;5;241;43m=\u001b[39;49m\u001b[43mensure_min_features\u001b[49m\u001b[43m,\u001b[49m\n\u001b[1;32m   1116\u001b[0m \u001b[43m    \u001b[49m\u001b[43mestimator\u001b[49m\u001b[38;5;241;43m=\u001b[39;49m\u001b[43mestimator\u001b[49m\u001b[43m,\u001b[49m\n\u001b[1;32m   1117\u001b[0m \u001b[43m    \u001b[49m\u001b[43minput_name\u001b[49m\u001b[38;5;241;43m=\u001b[39;49m\u001b[38;5;124;43m\"\u001b[39;49m\u001b[38;5;124;43mX\u001b[39;49m\u001b[38;5;124;43m\"\u001b[39;49m\u001b[43m,\u001b[49m\n\u001b[1;32m   1118\u001b[0m \u001b[43m\u001b[49m\u001b[43m)\u001b[49m\n\u001b[1;32m   1120\u001b[0m y \u001b[38;5;241m=\u001b[39m _check_y(y, multi_output\u001b[38;5;241m=\u001b[39mmulti_output, y_numeric\u001b[38;5;241m=\u001b[39my_numeric, estimator\u001b[38;5;241m=\u001b[39mestimator)\n\u001b[1;32m   1122\u001b[0m check_consistent_length(X, y)\n",
      "File \u001b[0;32m/usr/local/lib/python3.8/dist-packages/sklearn/utils/validation.py:913\u001b[0m, in \u001b[0;36mcheck_array\u001b[0;34m(array, accept_sparse, accept_large_sparse, dtype, order, copy, force_all_finite, ensure_2d, allow_nd, ensure_min_samples, ensure_min_features, estimator, input_name)\u001b[0m\n\u001b[1;32m    908\u001b[0m     \u001b[38;5;28;01mraise\u001b[39;00m \u001b[38;5;167;01mValueError\u001b[39;00m(\n\u001b[1;32m    909\u001b[0m         \u001b[38;5;124m\"\u001b[39m\u001b[38;5;124mdtype=\u001b[39m\u001b[38;5;124m'\u001b[39m\u001b[38;5;124mnumeric\u001b[39m\u001b[38;5;124m'\u001b[39m\u001b[38;5;124m is not compatible with arrays of bytes/strings.\u001b[39m\u001b[38;5;124m\"\u001b[39m\n\u001b[1;32m    910\u001b[0m         \u001b[38;5;124m\"\u001b[39m\u001b[38;5;124mConvert your data to numeric values explicitly instead.\u001b[39m\u001b[38;5;124m\"\u001b[39m\n\u001b[1;32m    911\u001b[0m     )\n\u001b[1;32m    912\u001b[0m \u001b[38;5;28;01mif\u001b[39;00m \u001b[38;5;129;01mnot\u001b[39;00m allow_nd \u001b[38;5;129;01mand\u001b[39;00m array\u001b[38;5;241m.\u001b[39mndim \u001b[38;5;241m>\u001b[39m\u001b[38;5;241m=\u001b[39m \u001b[38;5;241m3\u001b[39m:\n\u001b[0;32m--> 913\u001b[0m     \u001b[38;5;28;01mraise\u001b[39;00m \u001b[38;5;167;01mValueError\u001b[39;00m(\n\u001b[1;32m    914\u001b[0m         \u001b[38;5;124m\"\u001b[39m\u001b[38;5;124mFound array with dim \u001b[39m\u001b[38;5;132;01m%d\u001b[39;00m\u001b[38;5;124m. \u001b[39m\u001b[38;5;132;01m%s\u001b[39;00m\u001b[38;5;124m expected <= 2.\u001b[39m\u001b[38;5;124m\"\u001b[39m\n\u001b[1;32m    915\u001b[0m         \u001b[38;5;241m%\u001b[39m (array\u001b[38;5;241m.\u001b[39mndim, estimator_name)\n\u001b[1;32m    916\u001b[0m     )\n\u001b[1;32m    918\u001b[0m \u001b[38;5;28;01mif\u001b[39;00m force_all_finite:\n\u001b[1;32m    919\u001b[0m     _assert_all_finite(\n\u001b[1;32m    920\u001b[0m         array,\n\u001b[1;32m    921\u001b[0m         input_name\u001b[38;5;241m=\u001b[39minput_name,\n\u001b[1;32m    922\u001b[0m         estimator_name\u001b[38;5;241m=\u001b[39mestimator_name,\n\u001b[1;32m    923\u001b[0m         allow_nan\u001b[38;5;241m=\u001b[39mforce_all_finite \u001b[38;5;241m==\u001b[39m \u001b[38;5;124m\"\u001b[39m\u001b[38;5;124mallow-nan\u001b[39m\u001b[38;5;124m\"\u001b[39m,\n\u001b[1;32m    924\u001b[0m     )\n",
      "\u001b[0;31mValueError\u001b[0m: Found array with dim 3. SVR expected <= 2."
     ]
    }
   ],
   "source": [
    "from sklearn.svm import SVR\n",
    "svr = SVR(kernel='rbf')  # You can try different kernels (linear, polynomial, rbf)\n",
    "svr.fit(X_train, y_train)\n"
   ]
  },
  {
   "cell_type": "markdown",
   "id": "5f8e3b5a-b1d0-4bec-91d7-81c5ad46c40b",
   "metadata": {
    "jp-MarkdownHeadingCollapsed": true,
    "tags": []
   },
   "source": [
    "## Naive Double Integration (Assuming correct orientations)"
   ]
  },
  {
   "cell_type": "code",
   "execution_count": 40,
   "id": "947f4aaf-9710-4cf8-a4f2-627865892b58",
   "metadata": {
    "tags": []
   },
   "outputs": [
    {
     "name": "stdout",
     "output_type": "stream",
     "text": [
      "Looking in indexes: http://192.168.16.2:8080/root/pypi/+simple/, https://pypi.ngc.nvidia.com\n",
      "Requirement already satisfied: numpy-quaternion in /usr/local/lib/python3.8/dist-packages (2022.4.3)\n",
      "Requirement already satisfied: numpy>=1.13 in /usr/local/lib/python3.8/dist-packages (from numpy-quaternion) (1.22.2)\n",
      "\u001b[33mWARNING: Running pip as the 'root' user can result in broken permissions and conflicting behaviour with the system package manager. It is recommended to use a virtual environment instead: https://pip.pypa.io/warnings/venv\u001b[0m\n",
      "\u001b[33mWARNING: You are using pip version 21.2.4; however, version 23.1.2 is available.\n",
      "You should consider upgrading via the '/usr/bin/python -m pip install --upgrade pip' command.\u001b[0m\n"
     ]
    }
   ],
   "source": [
    "! pip install numpy-quaternion"
   ]
  },
  {
   "cell_type": "code",
   "execution_count": 41,
   "id": "92cc3ddf-cff8-4473-b1c1-a402354d6dba",
   "metadata": {
    "tags": []
   },
   "outputs": [],
   "source": [
    "import os\n",
    "import time\n",
    "from os import path as osp\n",
    "\n",
    "import numpy as np\n",
    "import torch\n",
    "import json\n",
    "\n",
    "import matplotlib.pyplot as plt\n",
    "import matplotlib.animation as animation\n",
    "from scipy.interpolate import interp1d\n",
    "from torch.utils.data import DataLoader\n",
    "\n",
    "from data_Oxiod import *\n",
    "from transformations import *\n",
    "from metric import compute_ate_rte\n",
    "from model_resnet1d import *"
   ]
  },
  {
   "cell_type": "code",
   "execution_count": 42,
   "id": "18ee5b8a-9af9-49a4-b23b-2ab98d680568",
   "metadata": {
    "tags": []
   },
   "outputs": [],
   "source": [
    "def get_dataset(root_dir, data_list):\n",
    "    \n",
    "    sequence = OxfordGlobSpeedSequence(osp.join(root_dir, data_list))\n",
    "    return sequence.features, sequence.targets, sequence.gt_pos\n",
    "\n",
    "\n",
    "def get_dataset_from_list(root_dir, list_path, args, **kwargs):\n",
    "    with open(list_path) as f:\n",
    "        data_list = [s.strip().split(',' or ' ')[0] for s in f.readlines() if len(s) > 0 and s[0] != '#']\n",
    "    return get_dataset(root_dir, data_list)    "
   ]
  },
  {
   "cell_type": "code",
   "execution_count": 75,
   "id": "fd3962b3-0e35-4411-b657-3f982685b8dc",
   "metadata": {
    "tags": []
   },
   "outputs": [],
   "source": [
    "feat, targ, gt_pos = get_dataset('/home/jovyan/localisation_datasets/Oxford Inertial Odometry Dataset/handbag/data1', 'combined3.csv')\n",
    "acc_data = feat[:,3:]"
   ]
  },
  {
   "cell_type": "code",
   "execution_count": 76,
   "id": "1d47b525-6246-475b-adb5-b072d74845aa",
   "metadata": {
    "tags": []
   },
   "outputs": [
    {
     "data": {
      "text/plain": [
       "(57999, 3)"
      ]
     },
     "execution_count": 76,
     "metadata": {},
     "output_type": "execute_result"
    }
   ],
   "source": [
    "gt_pos.shape"
   ]
  },
  {
   "cell_type": "code",
   "execution_count": 77,
   "id": "8fc7fbdd-30fe-4a55-a30f-a7cbff816edd",
   "metadata": {
    "tags": []
   },
   "outputs": [
    {
     "data": {
      "text/plain": [
       "(57998, 2)"
      ]
     },
     "execution_count": 77,
     "metadata": {},
     "output_type": "execute_result"
    }
   ],
   "source": [
    "targ.shape"
   ]
  },
  {
   "cell_type": "code",
   "execution_count": 78,
   "id": "d1ca5c8f-39e4-4009-8712-54211a6d712f",
   "metadata": {
    "tags": []
   },
   "outputs": [
    {
     "data": {
      "text/plain": [
       "(57998, 3)"
      ]
     },
     "execution_count": 78,
     "metadata": {},
     "output_type": "execute_result"
    }
   ],
   "source": [
    "acc_data.shape"
   ]
  },
  {
   "cell_type": "code",
   "execution_count": 79,
   "id": "b70ae259-9edb-4f35-b8d8-37603bbdfc2c",
   "metadata": {
    "tags": []
   },
   "outputs": [],
   "source": [
    "# Initial conditions\n",
    "initial_position = [0, 0, 0]  # Initial position [x, y, z]\n",
    "initial_velocity = [0, 0, 0]  # Initial velocity [x_dot, y_dot, z_dot]\n",
    "trajectory = [[0], [0], [0]]\n",
    "velocity_traj = [[0], [0], [0]]\n",
    "\n",
    "# Variables for current state\n",
    "position = initial_position.copy()\n",
    "velocity = initial_velocity.copy()\n",
    "\n",
    "# Variables for previous state\n",
    "prev_timestamp = 0.0\n",
    "prev_acceleration = [0, 0, 0]  # Previous acceleration [x, y, z]\n"
   ]
  },
  {
   "cell_type": "code",
   "execution_count": 80,
   "id": "ed907fbe-4097-4e66-b210-0e93f1f75324",
   "metadata": {
    "tags": []
   },
   "outputs": [],
   "source": [
    "for acceleration in acc_data:\n",
    "    # Calculate time difference\n",
    "    dt = 0.01\n",
    "\n",
    "    # Double integration for position\n",
    "    position[0] += velocity[0] * dt + 0.5 * acceleration[0] * dt**2\n",
    "    position[1] += velocity[1] * dt + 0.5 * acceleration[1] * dt**2\n",
    "    position[2] += velocity[2] * dt + 0.5 * acceleration[2] * dt**2\n",
    "    trajectory[0].append(position[0])\n",
    "    trajectory[1].append(position[1])\n",
    "    trajectory[2].append(position[2])\n",
    "\n",
    "    # Update velocity\n",
    "    velocity[0] += acceleration[0] * dt\n",
    "    velocity[1] += acceleration[1] * dt\n",
    "    velocity[2] += acceleration[2] * dt\n",
    "    velocity_traj[0].append(velocity[0])\n",
    "    velocity_traj[1].append(velocity[1])\n",
    "    velocity_traj[2].append(velocity[2])\n",
    "\n",
    "    # Store current values as previous values for the next iteration\n",
    "    prev_acceleration = acceleration.copy()\n"
   ]
  },
  {
   "cell_type": "code",
   "execution_count": 81,
   "id": "53f50a0d-063c-4ab6-ae3e-69874d91e88f",
   "metadata": {
    "tags": []
   },
   "outputs": [
    {
     "data": {
      "text/plain": [
       "[<matplotlib.lines.Line2D at 0x7fe7329cd700>]"
      ]
     },
     "execution_count": 81,
     "metadata": {},
     "output_type": "execute_result"
    },
    {
     "data": {
      "image/png": "[encoded data removed]",
      "text/plain": [
       "<Figure size 640x480 with 4 Axes>"
      ]
     },
     "metadata": {},
     "output_type": "display_data"
    }
   ],
   "source": [
    "plt.subplot(2,2,1)\n",
    "plt.plot(velocity_traj[0])\n",
    "plt.plot(targ[:,0])\n",
    "\n",
    "plt.subplot(2,2,2)\n",
    "plt.plot(velocity_traj[1])\n",
    "plt.plot(targ[:,0])\n",
    "\n",
    "plt.subplot(2,2,3)\n",
    "plt.plot(trajectory[0])\n",
    "plt.plot(gt_pos[:,0])\n",
    "\n",
    "plt.subplot(2,2,4)\n",
    "plt.plot(trajectory[1])\n",
    "plt.plot(gt_pos[:,0])"
   ]
  },
  {
   "cell_type": "markdown",
   "id": "d40827fb-98e1-4576-940e-7474284a6231",
   "metadata": {
    "jp-MarkdownHeadingCollapsed": true,
    "tags": []
   },
   "source": [
    "## Pedestrian Dead Reckoning"
   ]
  },
  {
   "cell_type": "code",
   "execution_count": 1,
   "id": "c992606d-1745-4adc-86a6-526cd79fbf55",
   "metadata": {
    "tags": []
   },
   "outputs": [
    {
     "name": "stdout",
     "output_type": "stream",
     "text": [
      "All done. Average ate:nan, average rte: nan\n"
     ]
    },
    {
     "name": "stderr",
     "output_type": "stream",
     "text": [
      "/usr/local/lib/python3.8/dist-packages/numpy/core/fromnumeric.py:3474: RuntimeWarning: Mean of empty slice.\n",
      "  return _methods._mean(a, axis=axis, dtype=dtype,\n",
      "/usr/local/lib/python3.8/dist-packages/numpy/core/_methods.py:189: RuntimeWarning: invalid value encountered in double_scalars\n",
      "  ret = ret.dtype.type(ret / rcount)\n"
     ]
    }
   ],
   "source": [
    "import argparse\n",
    "import json\n",
    "import os\n",
    "import sys\n",
    "from os import path as osp\n",
    "\n",
    "import h5py\n",
    "import matplotlib.pyplot as plt\n",
    "import numpy as np\n",
    "import quaternion\n",
    "from scipy.interpolate import interp1d\n",
    "\n",
    "#if want to search for packages from the parent file\n",
    "#sys.path.append(osp.join(osp.dirname(osp.abspath(__file__)), '..'))\n",
    "\n",
    "from math_util import *\n",
    "from metric import compute_absolute_trajectory_error, compute_relative_trajectory_error\n",
    "\n"
   ]
  },
  {
   "cell_type": "code",
   "execution_count": null,
   "id": "c6137319-3bc7-4330-a076-c2510cd73e5c",
   "metadata": {},
   "outputs": [],
   "source": [
    "args = argparse.Namespace()\n",
    "args.list = None\n",
    "args.root_dir = None\n",
    "args.align_length = 600\n",
    "args.path = None\n",
    "args.stride = 0.67\n",
    "args.out_dir = None\n",
    "args.show_plot = False\n",
    "\n",
    "\n",
    "\n"
   ]
  },
  {
   "cell_type": "code",
   "execution_count": null,
   "id": "068ba436-6c12-4ae6-91d2-abe3711458e5",
   "metadata": {},
   "outputs": [],
   "source": [
    "root_dir, data_list = '', []\n",
    "if args.path is not None:\n",
    "    if args.path[-1] == '/':\n",
    "        args.path = args.path[:-1]\n",
    "    root_dir = osp.split(args.path)[0]\n",
    "    data_list = [osp.split(args.path)[1]]\n",
    "elif args.list is not None:\n",
    "    root_dir = args.root_dir\n",
    "    with open(args.list) as f:\n",
    "        data_list = [s.strip().split()[0] for s in f.readlines() if len(s) > 0 and s[0] != '#']\n",
    "\n",
    "if args.out_dir is not None and not osp.isdir(args.out_dir):\n",
    "    os.makedirs(args.out_dir)\n",
    "\n",
    "ate_all, rte_all = [], []\n",
    "pred_per_min = 200 * 60\n",
    "\n",
    "for data in data_list:\n",
    "    data_path = osp.join(root_dir, data)\n",
    "    with open(osp.join(data_path, 'info.json')) as f:\n",
    "        info = json.load(f)\n",
    "        device = info['device']\n",
    "        rot_imu_to_tango = quaternion.quaternion(*info['start_calibration'])\n",
    "        ref_time_imu = info['imu_reference_time']\n",
    "        imu_time_offset = info['imu_time_offset']\n",
    "        start_frame = info.get('start_frame', 0)\n",
    "\n",
    "    with h5py.File(osp.join(data_path, 'data.hdf5')) as f:\n",
    "        ori = np.copy(f['synced/game_rv'])\n",
    "        tango_ori_q = quaternion.from_float_array(f['pose/tango_ori'])\n",
    "        ori_q = quaternion.from_float_array(ori)\n",
    "        init_rotor = tango_ori_q[0] * rot_imu_to_tango * ori_q[0].conj()\n",
    "        ori = quaternion.as_float_array(init_rotor * ori_q)[start_frame:]\n",
    "\n",
    "        ts = np.copy(f['synced/time'])[start_frame:]\n",
    "        tango_pos = np.copy(f['pose/tango_pos'])[start_frame:]\n",
    "        step = np.copy(f['raw/imu/step'])\n",
    "\n",
    "    step_ts = step[:, 0] / 1e09 - imu_time_offset\n",
    "    sid, eid = 0, step_ts.shape[0] - 1\n",
    "    while sid < step_ts.shape[0] and ts[0] > step_ts[sid]:\n",
    "        sid += 1\n",
    "    while eid >= 0 and ts[-1] < step_ts[eid]:\n",
    "        eid -= 1\n",
    "    assert sid < step_ts.shape[0] and eid >= 0\n",
    "\n",
    "    step_ts = step_ts[sid:eid + 1]\n",
    "    step = step[sid:eid + 1]\n",
    "\n",
    "    ori_at_step = interpolate_quaternion_linear(ori, ts, step_ts)\n",
    "    yaw_at_step = orientation_to_angles(ori_at_step)[:, 0]\n",
    "\n",
    "    rot_hori = np.stack([np.cos(yaw_at_step), np.sin(yaw_at_step),\n",
    "                         -np.sin(yaw_at_step), np.cos(yaw_at_step)], axis=1).reshape([-1, 2, 2])\n",
    "    step_v = np.stack([np.zeros(step.shape[0]), np.ones(step.shape[0]) * args.stride], axis=1)\n",
    "\n",
    "    step_glob = np.squeeze(np.matmul(rot_hori, np.expand_dims(step_v, axis=2)), axis=2)\n",
    "    pos_pred = np.zeros([step_glob.shape[0] + 1, 2])\n",
    "    step_ts = np.concatenate([[ts[0]], step_ts], axis=0)\n",
    "    pos_pred[0] = tango_pos[0][:2]\n",
    "    pos_pred[1:] = np.cumsum(step_glob, axis=0) + pos_pred[0]\n",
    "\n",
    "    eid = ts.shape[0] - 1\n",
    "    while eid >= 0 and ts[eid] > step_ts[-1]:\n",
    "        eid -= 1\n",
    "    pos_gt = tango_pos[:eid + 1, :2]\n",
    "    pos_pred = interp1d(step_ts, pos_pred, axis=0)(ts[:eid + 1])\n",
    "\n",
    "    if args.align_length is not None and args.align_length > 0:\n",
    "        _, r, t = icp_fit_transformation(pos_pred[:args.align_length], pos_gt[:args.align_length])\n",
    "        pos_pred = np.matmul(r, pos_pred.T).T + t\n",
    "\n",
    "    # For trajectories shorted than 1 min, we scale the RTE value accordingly.\n",
    "    if pos_pred.shape[0] < pred_per_min:\n",
    "        ratio = pred_per_min / pos_pred.shape[0]\n",
    "        rte = compute_relative_trajectory_error(pos_pred, pos_gt, delta=pos_pred.shape[0] - 1) * ratio\n",
    "    else:\n",
    "        rte = compute_relative_trajectory_error(pos_pred, pos_gt, delta=pred_per_min)\n",
    "    rte_all.append(rte)\n",
    "\n",
    "    ate = compute_absolute_trajectory_error(pos_pred, pos_gt)\n",
    "    ate_all.append(ate)\n",
    "    print('Sequence {}, ate {:.6f}, rte {:.6f}'.format(data, ate, rte))\n",
    "\n",
    "    plt.close('all')\n",
    "    plt.figure(data, figsize=(8, 6))\n",
    "    plt.plot(pos_gt[:, 0], pos_gt[:, 1])\n",
    "    plt.plot(pos_pred[:, 0], pos_pred[:, 1])\n",
    "    plt.legend(['Ground truth', 'Estimated'])\n",
    "    plt.axis('equal')\n",
    "    plt.tight_layout()\n",
    "\n",
    "    if args.out_dir is not None and osp.isdir(args.out_dir):\n",
    "        plt.savefig(osp.join(args.out_dir, data + '_pdr.png'))\n",
    "\n",
    "    if args.show_plot:\n",
    "        plt.show()\n",
    "\n",
    "print('All done. Average ate:{:.6f}, average rte: {:.6f}'.format(np.mean(ate_all), np.mean(rte_all)))\n",
    "if args.out_dir is not None and osp.isdir(args.out_dir):\n",
    "    with open(osp.join(args.out_dir, 'result.csv'), 'w') as f:\n",
    "        f.write('seq,ate,rte\\n')\n",
    "        for i in range(len(data_list)):\n",
    "            f.write('{},{:.6f},{:.6f}\\n'.format(data_list[i], ate_all[i], rte_all[i]))"
   ]
  }
 ],
 "metadata": {
  "interpreter": {
   "hash": "aee8b7b246df8f9039afb4144a1f6fd8d2ca17a180786b69acc140d282b71a49"
  },
  "kernelspec": {
   "display_name": "Python 3 (ipykernel)",
   "language": "python",
   "name": "python3"
  },
  "language_info": {
   "codemirror_mode": {
    "name": "ipython",
    "version": 3
   },
   "file_extension": ".py",
   "mimetype": "text/x-python",
   "name": "python",
   "nbconvert_exporter": "python",
   "pygments_lexer": "ipython3",
   "version": "3.8.10"
  }
 },
 "nbformat": 4,
 "nbformat_minor": 5
}
