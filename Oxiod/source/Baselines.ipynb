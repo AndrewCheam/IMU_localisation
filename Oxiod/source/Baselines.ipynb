{
 "cells": [
  {
   "cell_type": "markdown",
   "id": "5de46a68-2da7-4c61-bdca-d3daf264949e",
   "metadata": {
    "tags": []
   },
   "source": [
    "# Baselines"
   ]
  },
  {
   "cell_type": "markdown",
   "id": "13e70dac-3e3e-4b50-aaf3-470ddc933fbd",
   "metadata": {
    "tags": []
   },
   "source": [
    "## Import Dependencies"
   ]
  },
  {
   "cell_type": "code",
   "execution_count": 1,
   "id": "1a40759b-8045-44e1-8814-32e18739fb5d",
   "metadata": {
    "tags": []
   },
   "outputs": [
    {
     "name": "stdout",
     "output_type": "stream",
     "text": [
      "Looking in indexes: http://192.168.16.2:8080/root/pypi/+simple/, https://pypi.ngc.nvidia.com\n",
      "Requirement already satisfied: tensorboardX in /usr/local/lib/python3.8/dist-packages (2.6)\n",
      "Requirement already satisfied: protobuf<4,>=3.8.0 in /usr/local/lib/python3.8/dist-packages (from tensorboardX) (3.20.3)\n",
      "Requirement already satisfied: packaging in /usr/local/lib/python3.8/dist-packages (from tensorboardX) (23.0)\n",
      "Requirement already satisfied: numpy in /usr/local/lib/python3.8/dist-packages (from tensorboardX) (1.22.2)\n",
      "\u001b[33mWARNING: Running pip as the 'root' user can result in broken permissions and conflicting behaviour with the system package manager. It is recommended to use a virtual environment instead: https://pip.pypa.io/warnings/venv\u001b[0m\n",
      "\u001b[33mWARNING: You are using pip version 21.2.4; however, version 23.1.2 is available.\n",
      "You should consider upgrading via the '/usr/bin/python -m pip install --upgrade pip' command.\u001b[0m\n",
      "Looking in indexes: http://192.168.16.2:8080/root/pypi/+simple/, https://pypi.ngc.nvidia.com\n",
      "Requirement already satisfied: numpy-quaternion in /usr/local/lib/python3.8/dist-packages (2022.4.3)\n",
      "Requirement already satisfied: numpy>=1.13 in /usr/local/lib/python3.8/dist-packages (from numpy-quaternion) (1.22.2)\n",
      "\u001b[33mWARNING: Running pip as the 'root' user can result in broken permissions and conflicting behaviour with the system package manager. It is recommended to use a virtual environment instead: https://pip.pypa.io/warnings/venv\u001b[0m\n",
      "\u001b[33mWARNING: You are using pip version 21.2.4; however, version 23.1.2 is available.\n",
      "You should consider upgrading via the '/usr/bin/python -m pip install --upgrade pip' command.\u001b[0m\n"
     ]
    }
   ],
   "source": [
    "#import dependencies\n",
    "! pip install tensorboardX\n",
    "! pip install numpy-quaternion"
   ]
  },
  {
   "cell_type": "code",
   "execution_count": 2,
   "id": "1974ba72-51c3-4537-a72f-4eb3c4dcb7c2",
   "metadata": {
    "tags": []
   },
   "outputs": [
    {
     "ename": "ModuleNotFoundError",
     "evalue": "No module named 'torch'",
     "output_type": "error",
     "traceback": [
      "\u001b[0;31m---------------------------------------------------------------------------\u001b[0m",
      "\u001b[0;31mModuleNotFoundError\u001b[0m                       Traceback (most recent call last)",
      "Cell \u001b[0;32mIn[2], line 6\u001b[0m\n\u001b[1;32m      3\u001b[0m \u001b[38;5;28;01mfrom\u001b[39;00m \u001b[38;5;21;01mos\u001b[39;00m \u001b[38;5;28;01mimport\u001b[39;00m path \u001b[38;5;28;01mas\u001b[39;00m osp\n\u001b[1;32m      5\u001b[0m \u001b[38;5;28;01mimport\u001b[39;00m \u001b[38;5;21;01mnumpy\u001b[39;00m \u001b[38;5;28;01mas\u001b[39;00m \u001b[38;5;21;01mnp\u001b[39;00m\n\u001b[0;32m----> 6\u001b[0m \u001b[38;5;28;01mimport\u001b[39;00m \u001b[38;5;21;01mtorch\u001b[39;00m\n\u001b[1;32m      7\u001b[0m \u001b[38;5;28;01mimport\u001b[39;00m \u001b[38;5;21;01mjson\u001b[39;00m\n\u001b[1;32m      8\u001b[0m \u001b[38;5;28;01mimport\u001b[39;00m \u001b[38;5;21;01mmath\u001b[39;00m\n",
      "\u001b[0;31mModuleNotFoundError\u001b[0m: No module named 'torch'"
     ]
    }
   ],
   "source": [
    "import os\n",
    "import time\n",
    "from os import path as osp\n",
    "\n",
    "import numpy as np\n",
    "import torch\n",
    "import json\n",
    "import math\n",
    "import xgboost as xg\n",
    "\n",
    "\n",
    "import matplotlib.pyplot as plt\n",
    "import matplotlib.animation as animation\n",
    "from scipy.interpolate import interp1d\n",
    "from tensorboardX import SummaryWriter\n",
    "from torch.utils.data import DataLoader\n",
    "\n",
    "from data_Oxiod import *\n",
    "from transformations import *\n",
    "from metric import compute_ate_rte\n",
    "from model_resnet1d import *"
   ]
  },
  {
   "cell_type": "markdown",
   "id": "bf9a12c0-7561-41fb-8da9-702b6d9c78e5",
   "metadata": {},
   "source": [
    "## Extended Kalman Filter"
   ]
  },
  {
   "cell_type": "code",
   "execution_count": 93,
   "id": "3909e43b-1979-4202-9344-6e7d72421c30",
   "metadata": {
    "tags": []
   },
   "outputs": [],
   "source": [
    "import pandas as pd\n",
    "data = pd.read_csv('/home/jovyan/localisation_datasets/Oxford Inertial Odometry Dataset/handbag/data1/combined1.csv')\n",
    "\n",
    "sample_data = data.iloc[10:5000,:]\n",
    "\n",
    "time_arr = np.linspace(0, len(sample_data)*0.01, num = len(sample_data))"
   ]
  },
  {
   "cell_type": "code",
   "execution_count": 94,
   "id": "df3e84e3-4290-4701-945c-b64d04ecf5fc",
   "metadata": {
    "tags": []
   },
   "outputs": [
    {
     "data": {
      "text/html": [
       "<div>\n",
       "<style scoped>\n",
       "    .dataframe tbody tr th:only-of-type {\n",
       "        vertical-align: middle;\n",
       "    }\n",
       "\n",
       "    .dataframe tbody tr th {\n",
       "        vertical-align: top;\n",
       "    }\n",
       "\n",
       "    .dataframe thead th {\n",
       "        text-align: right;\n",
       "    }\n",
       "</style>\n",
       "<table border=\"1\" class=\"dataframe\">\n",
       "  <thead>\n",
       "    <tr style=\"text-align: right;\">\n",
       "      <th></th>\n",
       "      <th>rotation_rate_x(radians/s)</th>\n",
       "      <th>rotation_rate_y(radians/s)</th>\n",
       "      <th>rotation_rate_z(radians/s)</th>\n",
       "      <th>user_acc_x(G)</th>\n",
       "      <th>user_acc_y(G)</th>\n",
       "      <th>user_acc_z(G)</th>\n",
       "      <th>gravity_x(G)</th>\n",
       "      <th>gravity_y(G)</th>\n",
       "      <th>gravity_z(G)</th>\n",
       "      <th>translation.x</th>\n",
       "      <th>translation.y</th>\n",
       "      <th>translation.z</th>\n",
       "      <th>rotation.x</th>\n",
       "      <th>rotation.y</th>\n",
       "      <th>rotation.z</th>\n",
       "      <th>rotation.w</th>\n",
       "    </tr>\n",
       "  </thead>\n",
       "  <tbody>\n",
       "    <tr>\n",
       "      <th>10</th>\n",
       "      <td>-0.016464</td>\n",
       "      <td>0.015319</td>\n",
       "      <td>-0.044016</td>\n",
       "      <td>-0.011286</td>\n",
       "      <td>-0.008852</td>\n",
       "      <td>-0.007657</td>\n",
       "      <td>-0.12453</td>\n",
       "      <td>-0.99035</td>\n",
       "      <td>0.060742</td>\n",
       "      <td>-0.35163</td>\n",
       "      <td>1.9363</td>\n",
       "      <td>0.64038</td>\n",
       "      <td>-0.60429</td>\n",
       "      <td>0.35596</td>\n",
       "      <td>-0.35007</td>\n",
       "      <td>0.62095</td>\n",
       "    </tr>\n",
       "    <tr>\n",
       "      <th>11</th>\n",
       "      <td>-0.015388</td>\n",
       "      <td>0.017441</td>\n",
       "      <td>-0.042946</td>\n",
       "      <td>-0.010073</td>\n",
       "      <td>-0.006983</td>\n",
       "      <td>-0.007556</td>\n",
       "      <td>-0.12427</td>\n",
       "      <td>-0.99041</td>\n",
       "      <td>0.060427</td>\n",
       "      <td>-0.35154</td>\n",
       "      <td>1.9364</td>\n",
       "      <td>0.64044</td>\n",
       "      <td>-0.60430</td>\n",
       "      <td>0.35583</td>\n",
       "      <td>-0.35014</td>\n",
       "      <td>0.62097</td>\n",
       "    </tr>\n",
       "    <tr>\n",
       "      <th>12</th>\n",
       "      <td>-0.014309</td>\n",
       "      <td>0.020628</td>\n",
       "      <td>-0.040811</td>\n",
       "      <td>-0.007513</td>\n",
       "      <td>-0.001192</td>\n",
       "      <td>-0.008374</td>\n",
       "      <td>-0.12399</td>\n",
       "      <td>-0.99046</td>\n",
       "      <td>0.060116</td>\n",
       "      <td>-0.35145</td>\n",
       "      <td>1.9365</td>\n",
       "      <td>0.64050</td>\n",
       "      <td>-0.60434</td>\n",
       "      <td>0.35567</td>\n",
       "      <td>-0.35016</td>\n",
       "      <td>0.62102</td>\n",
       "    </tr>\n",
       "    <tr>\n",
       "      <th>13</th>\n",
       "      <td>-0.012180</td>\n",
       "      <td>0.019547</td>\n",
       "      <td>-0.041869</td>\n",
       "      <td>-0.006479</td>\n",
       "      <td>0.004534</td>\n",
       "      <td>-0.006395</td>\n",
       "      <td>-0.12371</td>\n",
       "      <td>-0.99051</td>\n",
       "      <td>0.059861</td>\n",
       "      <td>-0.35134</td>\n",
       "      <td>1.9366</td>\n",
       "      <td>0.64055</td>\n",
       "      <td>-0.60422</td>\n",
       "      <td>0.35547</td>\n",
       "      <td>-0.35029</td>\n",
       "      <td>0.62117</td>\n",
       "    </tr>\n",
       "    <tr>\n",
       "      <th>14</th>\n",
       "      <td>-0.015360</td>\n",
       "      <td>0.021706</td>\n",
       "      <td>-0.042942</td>\n",
       "      <td>-0.006634</td>\n",
       "      <td>0.008476</td>\n",
       "      <td>-0.006090</td>\n",
       "      <td>-0.12343</td>\n",
       "      <td>-0.99056</td>\n",
       "      <td>0.059587</td>\n",
       "      <td>-0.35121</td>\n",
       "      <td>1.9367</td>\n",
       "      <td>0.64061</td>\n",
       "      <td>-0.60423</td>\n",
       "      <td>0.35529</td>\n",
       "      <td>-0.35033</td>\n",
       "      <td>0.62124</td>\n",
       "    </tr>\n",
       "    <tr>\n",
       "      <th>...</th>\n",
       "      <td>...</td>\n",
       "      <td>...</td>\n",
       "      <td>...</td>\n",
       "      <td>...</td>\n",
       "      <td>...</td>\n",
       "      <td>...</td>\n",
       "      <td>...</td>\n",
       "      <td>...</td>\n",
       "      <td>...</td>\n",
       "      <td>...</td>\n",
       "      <td>...</td>\n",
       "      <td>...</td>\n",
       "      <td>...</td>\n",
       "      <td>...</td>\n",
       "      <td>...</td>\n",
       "      <td>...</td>\n",
       "    </tr>\n",
       "    <tr>\n",
       "      <th>4995</th>\n",
       "      <td>0.116610</td>\n",
       "      <td>0.379750</td>\n",
       "      <td>-0.772170</td>\n",
       "      <td>0.020143</td>\n",
       "      <td>0.077439</td>\n",
       "      <td>-0.037035</td>\n",
       "      <td>-0.15529</td>\n",
       "      <td>-0.97969</td>\n",
       "      <td>0.126850</td>\n",
       "      <td>0.96046</td>\n",
       "      <td>1.3351</td>\n",
       "      <td>0.64641</td>\n",
       "      <td>0.34742</td>\n",
       "      <td>0.63941</td>\n",
       "      <td>-0.61256</td>\n",
       "      <td>-0.30861</td>\n",
       "    </tr>\n",
       "    <tr>\n",
       "      <th>4996</th>\n",
       "      <td>0.151670</td>\n",
       "      <td>0.369860</td>\n",
       "      <td>-0.758210</td>\n",
       "      <td>0.015050</td>\n",
       "      <td>0.093612</td>\n",
       "      <td>-0.036654</td>\n",
       "      <td>-0.14829</td>\n",
       "      <td>-0.98067</td>\n",
       "      <td>0.127690</td>\n",
       "      <td>0.95578</td>\n",
       "      <td>1.3420</td>\n",
       "      <td>0.64761</td>\n",
       "      <td>0.34500</td>\n",
       "      <td>0.64520</td>\n",
       "      <td>-0.61113</td>\n",
       "      <td>-0.30201</td>\n",
       "    </tr>\n",
       "    <tr>\n",
       "      <th>4997</th>\n",
       "      <td>0.177150</td>\n",
       "      <td>0.360050</td>\n",
       "      <td>-0.749610</td>\n",
       "      <td>0.009507</td>\n",
       "      <td>0.112920</td>\n",
       "      <td>-0.040475</td>\n",
       "      <td>-0.14137</td>\n",
       "      <td>-0.98154</td>\n",
       "      <td>0.128840</td>\n",
       "      <td>0.95066</td>\n",
       "      <td>1.3492</td>\n",
       "      <td>0.64842</td>\n",
       "      <td>0.34216</td>\n",
       "      <td>0.64704</td>\n",
       "      <td>-0.61042</td>\n",
       "      <td>-0.30274</td>\n",
       "    </tr>\n",
       "    <tr>\n",
       "      <th>4998</th>\n",
       "      <td>0.199460</td>\n",
       "      <td>0.349210</td>\n",
       "      <td>-0.747420</td>\n",
       "      <td>0.003457</td>\n",
       "      <td>0.134460</td>\n",
       "      <td>-0.044308</td>\n",
       "      <td>-0.13448</td>\n",
       "      <td>-0.98232</td>\n",
       "      <td>0.130260</td>\n",
       "      <td>0.94551</td>\n",
       "      <td>1.3561</td>\n",
       "      <td>0.64925</td>\n",
       "      <td>0.33776</td>\n",
       "      <td>0.64954</td>\n",
       "      <td>-0.60963</td>\n",
       "      <td>-0.30392</td>\n",
       "    </tr>\n",
       "    <tr>\n",
       "      <th>4999</th>\n",
       "      <td>0.217510</td>\n",
       "      <td>0.337340</td>\n",
       "      <td>-0.749500</td>\n",
       "      <td>-0.004078</td>\n",
       "      <td>0.149720</td>\n",
       "      <td>-0.046112</td>\n",
       "      <td>-0.12756</td>\n",
       "      <td>-0.98302</td>\n",
       "      <td>0.131910</td>\n",
       "      <td>0.94005</td>\n",
       "      <td>1.3628</td>\n",
       "      <td>0.64987</td>\n",
       "      <td>0.33434</td>\n",
       "      <td>0.65264</td>\n",
       "      <td>-0.60797</td>\n",
       "      <td>-0.30438</td>\n",
       "    </tr>\n",
       "  </tbody>\n",
       "</table>\n",
       "<p>4990 rows × 16 columns</p>\n",
       "</div>"
      ],
      "text/plain": [
       "      rotation_rate_x(radians/s)  rotation_rate_y(radians/s)  \\\n",
       "10                     -0.016464                    0.015319   \n",
       "11                     -0.015388                    0.017441   \n",
       "12                     -0.014309                    0.020628   \n",
       "13                     -0.012180                    0.019547   \n",
       "14                     -0.015360                    0.021706   \n",
       "...                          ...                         ...   \n",
       "4995                    0.116610                    0.379750   \n",
       "4996                    0.151670                    0.369860   \n",
       "4997                    0.177150                    0.360050   \n",
       "4998                    0.199460                    0.349210   \n",
       "4999                    0.217510                    0.337340   \n",
       "\n",
       "      rotation_rate_z(radians/s)  user_acc_x(G)  user_acc_y(G)  user_acc_z(G)  \\\n",
       "10                     -0.044016      -0.011286      -0.008852      -0.007657   \n",
       "11                     -0.042946      -0.010073      -0.006983      -0.007556   \n",
       "12                     -0.040811      -0.007513      -0.001192      -0.008374   \n",
       "13                     -0.041869      -0.006479       0.004534      -0.006395   \n",
       "14                     -0.042942      -0.006634       0.008476      -0.006090   \n",
       "...                          ...            ...            ...            ...   \n",
       "4995                   -0.772170       0.020143       0.077439      -0.037035   \n",
       "4996                   -0.758210       0.015050       0.093612      -0.036654   \n",
       "4997                   -0.749610       0.009507       0.112920      -0.040475   \n",
       "4998                   -0.747420       0.003457       0.134460      -0.044308   \n",
       "4999                   -0.749500      -0.004078       0.149720      -0.046112   \n",
       "\n",
       "      gravity_x(G)  gravity_y(G)  gravity_z(G)  translation.x  translation.y  \\\n",
       "10        -0.12453      -0.99035      0.060742       -0.35163         1.9363   \n",
       "11        -0.12427      -0.99041      0.060427       -0.35154         1.9364   \n",
       "12        -0.12399      -0.99046      0.060116       -0.35145         1.9365   \n",
       "13        -0.12371      -0.99051      0.059861       -0.35134         1.9366   \n",
       "14        -0.12343      -0.99056      0.059587       -0.35121         1.9367   \n",
       "...            ...           ...           ...            ...            ...   \n",
       "4995      -0.15529      -0.97969      0.126850        0.96046         1.3351   \n",
       "4996      -0.14829      -0.98067      0.127690        0.95578         1.3420   \n",
       "4997      -0.14137      -0.98154      0.128840        0.95066         1.3492   \n",
       "4998      -0.13448      -0.98232      0.130260        0.94551         1.3561   \n",
       "4999      -0.12756      -0.98302      0.131910        0.94005         1.3628   \n",
       "\n",
       "      translation.z  rotation.x  rotation.y  rotation.z  rotation.w  \n",
       "10          0.64038    -0.60429     0.35596    -0.35007     0.62095  \n",
       "11          0.64044    -0.60430     0.35583    -0.35014     0.62097  \n",
       "12          0.64050    -0.60434     0.35567    -0.35016     0.62102  \n",
       "13          0.64055    -0.60422     0.35547    -0.35029     0.62117  \n",
       "14          0.64061    -0.60423     0.35529    -0.35033     0.62124  \n",
       "...             ...         ...         ...         ...         ...  \n",
       "4995        0.64641     0.34742     0.63941    -0.61256    -0.30861  \n",
       "4996        0.64761     0.34500     0.64520    -0.61113    -0.30201  \n",
       "4997        0.64842     0.34216     0.64704    -0.61042    -0.30274  \n",
       "4998        0.64925     0.33776     0.64954    -0.60963    -0.30392  \n",
       "4999        0.64987     0.33434     0.65264    -0.60797    -0.30438  \n",
       "\n",
       "[4990 rows x 16 columns]"
      ]
     },
     "execution_count": 94,
     "metadata": {},
     "output_type": "execute_result"
    }
   ],
   "source": [
    "sample_data"
   ]
  },
  {
   "cell_type": "code",
   "execution_count": 95,
   "id": "0a3604cf-2ac9-439b-beb5-2b347a2bafde",
   "metadata": {
    "tags": []
   },
   "outputs": [],
   "source": [
    "import numpy as np\n",
    "from scipy.spatial.transform import Rotation\n",
    "\n",
    "\n",
    "class ExtendedKalmanFilter:\n",
    "    \"\"\"Extended Kalman Filter for tracking a human with IMU measurements\"\"\"\n",
    "\n",
    "    def __init__(self, x, P):\n",
    "        \"\"\"Initialize the Kalman Filter\n",
    "\n",
    "        Args:\n",
    "            x (numpy.array): Initial state estimate\n",
    "            P (numpy.array): Initial error covariance matrix\n",
    "        \"\"\"\n",
    "        self.x = x  # State estimate\n",
    "        self.P = P  # Error covariance matrix\n",
    "\n",
    "    def update(self, z, R):\n",
    "        \"\"\"Update the state estimate based on sensor measurements\n",
    "\n",
    "        Args:\n",
    "            z (numpy.array): Measurement vector - [position_x, position_y, roll, pitch, yaw]\n",
    "            R (numpy.array): Measurement noise covariance matrix\n",
    "        \"\"\"\n",
    "        # Compute Kalman gain\n",
    "        H = np.eye(5)  # Jacobian of observation function\n",
    "\n",
    "        K = self.P @ H.T @ np.linalg.inv(H @ self.P @ H.T + R)\n",
    "\n",
    "        # Update state estimate\n",
    "        self.x = self.x + K @ (z - self.x)\n",
    "\n",
    "        # Update error covariance matrix\n",
    "        self.P = self.P - K @ H @ self.P\n",
    "\n",
    "    def propagate(self, u, dt, Q):\n",
    "        \"\"\"Propagate the state estimate based on the motion model\n",
    "\n",
    "        Args:\n",
    "            u (numpy.array): Control input vector - [acceleration_x, acceleration_y, acceleration_z, roll_rate, pitch_rate, yaw_rate]\n",
    "            dt (float): Time interval in seconds\n",
    "            Q (numpy.array): Process noise covariance matrix\n",
    "        \"\"\"\n",
    "        # Propagate state estimate\n",
    "        position_x, position_y, roll, pitch, yaw = self.x[:5]\n",
    "\n",
    "        # Update roll, pitch, and yaw angles\n",
    "        old_rotation = Rotation.from_euler('xyz', [roll, pitch, yaw], degrees=False)\n",
    "        updated_rotation = old_rotation * Rotation.from_euler('xyz', u[3:], degrees=False)\n",
    "        roll, pitch, yaw = updated_rotation.as_euler('xyz')\n",
    "\n",
    "        # Rotate acceleration to the global frame\n",
    "        acceleration_body = u[:3]\n",
    "        acceleration_global = updated_rotation.apply(acceleration_body)\n",
    "        acceleration_x, acceleration_y, acceleration_z = acceleration_global\n",
    "\n",
    "        # Update velocity\n",
    "        velocity_x, velocity_y = self.x[5:7]\n",
    "        velocity_x += acceleration_x * dt\n",
    "        velocity_y += acceleration_y * dt\n",
    "\n",
    "        # Update position\n",
    "        displacement_x = velocity_x * dt\n",
    "        displacement_y = velocity_y * dt\n",
    "\n",
    "        position_x += displacement_x\n",
    "        position_y += displacement_y\n",
    "\n",
    "        # Update state estimate\n",
    "        self.x[:5] = np.array([position_x, position_y, roll, pitch, yaw])\n",
    "        self.x[5:7] = np.array([velocity_x, velocity_y])\n",
    "\n",
    "        # Propagate error covariance matrix DONT UNDERSTAND THIS PART YET\n",
    "        G = np.eye(7)  # Jacobian of state transition function\n",
    "\n",
    "        G[:2, 5:7] = dt * np.eye(2)\n",
    "        G[2:5, 2:5] = updated_rotation.as_matrix()\n",
    "        G[5:7, 2:5] = np.array([[0, -u[5] * dt], [u[5] * dt, 0]])\n",
    "\n",
    "        self.P = G @ self.P @ G.T + Q\n"
   ]
  },
  {
   "cell_type": "markdown",
   "id": "7029f838-4494-4c11-bcd9-b6cefa417403",
   "metadata": {},
   "source": [
    "### Preprocessing\n",
    "- Convert quaternion data into euler orientation (ground truth data)\n",
    "- Convert acceleration (G) to acceleration (m/s^2)"
   ]
  },
  {
   "cell_type": "code",
   "execution_count": 100,
   "id": "1b755910-08a4-41ea-adff-5b60cdd2571f",
   "metadata": {
    "tags": []
   },
   "outputs": [],
   "source": [
    "from scipy.spatial.transform import Rotation\n",
    "\n",
    "quaternion = sample_data[['rotation.w', 'rotation.x', 'rotation.y', 'rotation.z']].values\n",
    "\n",
    "# Create a rotation object from the quaternion\n",
    "rotation = Rotation.from_quat(quaternion)\n",
    "\n",
    "# Convert the quaternion to Euler angles\n",
    "euler_orientations = rotation.as_euler('xyz', degrees= False)"
   ]
  },
  {
   "cell_type": "code",
   "execution_count": 113,
   "id": "e503e171-e6fc-4f90-8b5e-d0e6b1590338",
   "metadata": {
    "tags": []
   },
   "outputs": [],
   "source": [
    "acc = sample_data[['user_acc_x(G)', 'user_acc_y(G)', 'user_acc_z(G)']].values\n",
    "acc = acc * 9.81\n",
    "\n",
    "gyro = sample_data[['rotation_rate_x(radians/s)', 'rotation_rate_y(radians/s)', 'rotation_rate_z(radians/s)']].values"
   ]
  },
  {
   "cell_type": "markdown",
   "id": "07a6e732-fd5a-4be7-af17-d0f0952d7dfc",
   "metadata": {},
   "source": [
    "### Add noise to ground truth coordinate and orientation data"
   ]
  },
  {
   "cell_type": "code",
   "execution_count": 105,
   "id": "71936731-a82f-434c-8340-442f931d6f0d",
   "metadata": {
    "tags": []
   },
   "outputs": [
    {
     "name": "stdout",
     "output_type": "stream",
     "text": [
      "(4990, 2)\n"
     ]
    }
   ],
   "source": [
    "import random\n",
    "import numpy as np\n",
    "import matplotlib.pyplot as plt\n",
    "\n",
    "noise = 0.05  # standard deviation of observation noise of x and y in meter\n",
    "N = len(sample_data)\n",
    "\n",
    "xy_obs_noise = np.random.normal(0.0, noise, (N, 2))  # gen gaussian noise\n",
    "gt_trajectory_xy = sample_data[['translation.x','translation.y']].values\n",
    "obs_trajectory_xy = gt_trajectory_xy.copy()\n",
    "\n",
    "print(obs_trajectory_xy.shape)\n",
    "obs_trajectory_xy += xy_obs_noise  # add the noise to ground-truth positions\n",
    "# fig, ax = plt.subplots(1, 1, figsize=(12, 9))\n",
    "\n",
    "# xs, ys = gt_trajectory_xy[:, 0], gt_trajectory_xy[:, 1]\n",
    "# ax.plot(xs, ys, lw=2, label='ground-truth trajectory')\n",
    "\n",
    "# xs, ys = obs_trajectory_xy[:, 0], obs_trajectory_xy[:, 1]\n",
    "# ax.plot(xs, ys, lw=0, marker='.', markersize=5, alpha=0.4, label='noisy trajectory')\n",
    "\n",
    "# ax.set_xlabel('X [m]')\n",
    "# ax.set_ylabel('Y [m]')\n",
    "# ax.legend()\n",
    "# ax.grid();"
   ]
  },
  {
   "cell_type": "code",
   "execution_count": 106,
   "id": "ff9e1c00-e0dc-4711-b2ed-2531c43d7d93",
   "metadata": {
    "tags": []
   },
   "outputs": [],
   "source": [
    "noise = 0.05  # standard deviation of observation noise of x and y in meter\n",
    "N = len(sample_data)\n",
    "\n",
    "orientation_obs_noise = np.random.normal(0.0, noise, (N, 3))  # gen gaussian noise\n",
    "gt_orientation = euler_orientations\n",
    "obs_orientation = euler_orientations.copy()\n",
    "\n",
    "obs_orientation += orientation_obs_noise  # add the noise to ground-truth positions\n",
    "# fig, ax = plt.subplots(1, 1, figsize=(12, 9))\n",
    "\n",
    "# roll, pitch, yaw = gt_orientation[:, 0], gt_orientation[:, 1], gt_orientation[:,2]\n",
    "# ax.plot(roll, lw=2, label='ground-truth roll')\n",
    "# ax.plot(pitch, lw=2, label= 'ground truth pitch')\n",
    "# ax.plot(yaw, lw=2, label= 'ground truth yaw')\n",
    "\n",
    "# roll, pitch, yaw = obs_orientation[:, 0], obs_orientation[:, 1], obs_orientation[:,2]\n",
    "# ax.plot(roll, lw=0, marker='.', markersize=2, alpha=0.4, label='noisy roll')\n",
    "# ax.plot(pitch, lw=0, marker='.', markersize=2, alpha=0.4,label= 'noisy pitch')\n",
    "# ax.plot(yaw, lw=0, marker='.', markersize=2, alpha=0.4,label= 'noisy yaw')\n",
    "\n",
    "# ax.set_xlabel('X [m]')\n",
    "# ax.set_ylabel('Y [m]')\n",
    "# ax.legend()\n",
    "# ax.grid();"
   ]
  },
  {
   "cell_type": "code",
   "execution_count": 107,
   "id": "aacd645c-af59-4a59-bd67-1bc08212396a",
   "metadata": {
    "tags": []
   },
   "outputs": [
    {
     "name": "stderr",
     "output_type": "stream",
     "text": [
      "/tmp/ipykernel_528/3385653188.py:4: VisibleDeprecationWarning: Creating an ndarray from ragged nested sequences (which is a list-or-tuple of lists-or-tuples-or ndarrays with different lengths or shapes) is deprecated. If you meant to do this, you must specify 'dtype=object' when creating the ndarray.\n",
      "  x = np.array([obs_trajectory_xy[0], obs_trajectory_xy[1], obs_orientation[0], obs_orientation[1], obs_orientation[2], 0, 0])\n"
     ]
    }
   ],
   "source": [
    "# initial state x_0\n",
    "# State: [x position, y position, roll, pitch, yaw, velocity_x, velocity_y]; Assume velocity start at 0\n",
    "\n",
    "x = np.array([obs_trajectory_xy[0], obs_trajectory_xy[1], obs_orientation[0], obs_orientation[1], obs_orientation[2], 0, 0])"
   ]
  },
  {
   "cell_type": "code",
   "execution_count": 108,
   "id": "742ea361-b396-4283-bdbe-144e2cc76be3",
   "metadata": {
    "tags": []
   },
   "outputs": [
    {
     "name": "stderr",
     "output_type": "stream",
     "text": [
      "/tmp/ipykernel_528/3975373148.py:3: VisibleDeprecationWarning: Creating an ndarray from ragged nested sequences (which is a list-or-tuple of lists-or-tuples-or ndarrays with different lengths or shapes) is deprecated. If you meant to do this, you must specify 'dtype=object' when creating the ndarray.\n",
      "  P = np.array([\n"
     ]
    }
   ],
   "source": [
    "# covariance for initial state estimation error (Sigma_0)\n",
    "\n",
    "P = np.array([\n",
    "    [xy_obs_noise ** 2, 0, 0, 0, 0, 0, 0],\n",
    "    [0, xy_obs_noise ** 2, 0, 0, 0, 0, 0],\n",
    "    [0, 0, orientation_obs_noise ** 2, 0, 0, 0, 0],\n",
    "    [0, 0, 0,orientation_obs_noise ** 2 , 0, 0, 0],\n",
    "    [0, 0, 0, 0, orientation_obs_noise ** 2, 0, 0],\n",
    "    [0, 0, 0, 0, 0, 0, 0],\n",
    "    [0, 0, 0, 0, 0, 0, 0]\n",
    "])"
   ]
  },
  {
   "cell_type": "code",
   "execution_count": 109,
   "id": "1ce15358-1375-4fdb-823a-627e5b1950c3",
   "metadata": {
    "tags": []
   },
   "outputs": [
    {
     "name": "stderr",
     "output_type": "stream",
     "text": [
      "/tmp/ipykernel_528/461299297.py:1: VisibleDeprecationWarning: Creating an ndarray from ragged nested sequences (which is a list-or-tuple of lists-or-tuples-or ndarrays with different lengths or shapes) is deprecated. If you meant to do this, you must specify 'dtype=object' when creating the ndarray.\n",
      "  Q = np.array([\n"
     ]
    }
   ],
   "source": [
    "Q = np.array([\n",
    "    [xy_obs_noise ** 2, 0, 0, 0, 0],\n",
    "    [0, xy_obs_noise ** 2, 0, 0, 0],\n",
    "    [0, 0, orientation_obs_noise ** 2, 0, 0],\n",
    "    [0, 0, 0,orientation_obs_noise ** 2 , 0],\n",
    "    [0, 0, 0, 0, orientation_obs_noise ** 2]\n",
    "])"
   ]
  },
  {
   "cell_type": "code",
   "execution_count": 110,
   "id": "abb1cb95-dd45-4fbe-9959-cf58a425a789",
   "metadata": {
    "tags": []
   },
   "outputs": [],
   "source": [
    "# State transition noise covariance will depend on how noisy is my acceleration and gyroscope data. For now lets assume a normal std of 0.01\n",
    "\n",
    "std_dev = 0.01\n",
    "\n",
    "# Create a diagonal matrix with the square of the standard deviation as the diagonal elements\n",
    "R = np.eye(6) * (std_dev ** 2)"
   ]
  },
  {
   "cell_type": "code",
   "execution_count": 114,
   "id": "117ce3f7-8e44-49dd-95eb-2a10858ec7bd",
   "metadata": {
    "tags": []
   },
   "outputs": [
    {
     "ename": "ValueError",
     "evalue": "operands could not be broadcast together with shapes (2,) (3,) (2,) ",
     "output_type": "error",
     "traceback": [
      "\u001b[0;31m---------------------------------------------------------------------------\u001b[0m",
      "\u001b[0;31mValueError\u001b[0m                                Traceback (most recent call last)",
      "Cell \u001b[0;32mIn[114], line 38\u001b[0m\n\u001b[1;32m     25\u001b[0m u \u001b[38;5;241m=\u001b[39m np\u001b[38;5;241m.\u001b[39marray([\n\u001b[1;32m     26\u001b[0m     acc[t_idx, \u001b[38;5;241m0\u001b[39m],\n\u001b[1;32m     27\u001b[0m     acc[t_idx, \u001b[38;5;241m1\u001b[39m],\n\u001b[0;32m   (...)\u001b[0m\n\u001b[1;32m     31\u001b[0m     gyro[t_idx, \u001b[38;5;241m2\u001b[39m]\n\u001b[1;32m     32\u001b[0m ])\n\u001b[1;32m     34\u001b[0m \u001b[38;5;66;03m# Because the acceleration and angular rates are already in the global frame,\u001b[39;00m\n\u001b[1;32m     35\u001b[0m \u001b[38;5;66;03m# we can directly use them in the propagation step\u001b[39;00m\n\u001b[1;32m     36\u001b[0m \n\u001b[1;32m     37\u001b[0m \u001b[38;5;66;03m# Propagate!\u001b[39;00m\n\u001b[0;32m---> 38\u001b[0m \u001b[43mkf\u001b[49m\u001b[38;5;241;43m.\u001b[39;49m\u001b[43mpropagate\u001b[49m\u001b[43m(\u001b[49m\u001b[43mu\u001b[49m\u001b[43m,\u001b[49m\u001b[43m \u001b[49m\u001b[43mdt\u001b[49m\u001b[43m,\u001b[49m\u001b[43m \u001b[49m\u001b[43mQ\u001b[49m\u001b[43m)\u001b[49m\n\u001b[1;32m     40\u001b[0m \u001b[38;5;66;03m# Get measurement `z = [position_x, position_y, roll, pitch, yaw]`\u001b[39;00m\n\u001b[1;32m     41\u001b[0m z \u001b[38;5;241m=\u001b[39m np\u001b[38;5;241m.\u001b[39marray([\n\u001b[1;32m     42\u001b[0m     obs_trajectory_xy[t_idx, \u001b[38;5;241m0\u001b[39m],\n\u001b[1;32m     43\u001b[0m     obs_trajectory_xy[t_idx, \u001b[38;5;241m1\u001b[39m],\n\u001b[0;32m   (...)\u001b[0m\n\u001b[1;32m     46\u001b[0m     obs_orientation[t_idx, \u001b[38;5;241m2\u001b[39m]\n\u001b[1;32m     47\u001b[0m ])\n",
      "Cell \u001b[0;32mIn[95], line 66\u001b[0m, in \u001b[0;36mExtendedKalmanFilter.propagate\u001b[0;34m(self, u, dt, Q)\u001b[0m\n\u001b[1;32m     63\u001b[0m displacement_x \u001b[38;5;241m=\u001b[39m velocity_x \u001b[38;5;241m*\u001b[39m dt\n\u001b[1;32m     64\u001b[0m displacement_y \u001b[38;5;241m=\u001b[39m velocity_y \u001b[38;5;241m*\u001b[39m dt\n\u001b[0;32m---> 66\u001b[0m position_x \u001b[38;5;241m+\u001b[39m\u001b[38;5;241m=\u001b[39m displacement_x\n\u001b[1;32m     67\u001b[0m position_y \u001b[38;5;241m+\u001b[39m\u001b[38;5;241m=\u001b[39m displacement_y\n\u001b[1;32m     69\u001b[0m \u001b[38;5;66;03m# Update state estimate\u001b[39;00m\n",
      "\u001b[0;31mValueError\u001b[0m: operands could not be broadcast together with shapes (2,) (3,) (2,) "
     ]
    }
   ],
   "source": [
    "# Initialize Kalman filter\n",
    "kf = ExtendedKalmanFilter(x, P)\n",
    "\n",
    "# Arrays to store estimated 2D pose [x, y, roll, pitch, yaw]\n",
    "mu_x = [x[0]]\n",
    "mu_y = [x[1]]\n",
    "mu_roll = [x[2]]\n",
    "mu_pitch = [x[3]]\n",
    "mu_yaw = [x[4]]\n",
    "\n",
    "# Arrays to store estimated error variance of 2D pose\n",
    "var_x = [P[0, 0]]\n",
    "var_y = [P[1, 1]]\n",
    "var_roll = [P[2, 2]]\n",
    "var_pitch = [P[3, 3]]\n",
    "var_yaw = [P[4, 4]]\n",
    "\n",
    "t_last = time_arr[0]\n",
    "\n",
    "for t_idx in range(1, N):\n",
    "    t = time_arr[t_idx]\n",
    "    dt = t - t_last\n",
    "    \n",
    "    # Get control input `u = [acceleration_x, acceleration_y, acceleration_z, roll_rate, pitch_rate, yaw_rate]`\n",
    "    u = np.array([\n",
    "        acc[t_idx, 0],\n",
    "        acc[t_idx, 1],\n",
    "        acc[t_idx, 2],\n",
    "        gyro[t_idx, 0],\n",
    "        gyro[t_idx, 1],\n",
    "        gyro[t_idx, 2]\n",
    "    ])\n",
    "    \n",
    "    # Because the acceleration and angular rates are already in the global frame,\n",
    "    # we can directly use them in the propagation step\n",
    "    \n",
    "    # Propagate!\n",
    "    kf.propagate(u, dt, Q)\n",
    "    \n",
    "    # Get measurement `z = [position_x, position_y, roll, pitch, yaw]`\n",
    "    z = np.array([\n",
    "        obs_trajectory_xy[t_idx, 0],\n",
    "        obs_trajectory_xy[t_idx, 1],\n",
    "        obs_orientation[t_idx, 0],\n",
    "        obs_orientation[t_idx, 1],\n",
    "        obs_orientation[t_idx, 2]\n",
    "    ])\n",
    "    \n",
    "    # Update!\n",
    "    kf.update(z, R)\n",
    "    \n",
    "    # Save estimated state to analyze later\n",
    "    mu_x.append(kf.x[0])\n",
    "    mu_y.append(kf.x[1])\n",
    "    mu_roll.append(kf.x[2])\n",
    "    mu_pitch.append(kf.x[3])\n",
    "    mu_yaw.append(kf.x[4])\n",
    "    \n",
    "    # Save estimated variance to analyze later\n",
    "    var_x.append(kf.P[0, 0])\n",
    "    var_y.append(kf.P[1, 1])\n",
    "    var_roll.append(kf.P[2, 2])\n",
    "    var_pitch.append(kf.P[3, 3])\n",
    "    var_yaw.append(kf.P[4, 4])\n",
    "    \n",
    "    t_last = t\n",
    "\n",
    "mu_x = np.array(mu_x)\n",
    "mu_y = np.array(mu_y)\n",
    "mu_roll = np.array(mu_roll)\n",
    "mu_pitch = np.array(mu_pitch)\n",
    "mu_yaw = np.array(mu_yaw)\n",
    "\n",
    "var_x = np.array(var_x)\n",
    "var_y = np.array(var_y)\n",
    "var_roll = np.array(var_roll)\n",
    "var_pitch = np.array(var_pitch)\n",
    "var_yaw = np.array(var_yaw)\n"
   ]
  },
  {
   "cell_type": "markdown",
   "id": "5f8e3b5a-b1d0-4bec-91d7-81c5ad46c40b",
   "metadata": {
    "jp-MarkdownHeadingCollapsed": true,
    "tags": []
   },
   "source": [
    "## Naive Double Integration (Assuming correct orientations)"
   ]
  },
  {
   "cell_type": "code",
   "execution_count": 50,
   "id": "947f4aaf-9710-4cf8-a4f2-627865892b58",
   "metadata": {
    "tags": []
   },
   "outputs": [
    {
     "name": "stdout",
     "output_type": "stream",
     "text": [
      "Looking in indexes: http://192.168.16.2:8080/root/pypi/+simple/, https://pypi.ngc.nvidia.com\n",
      "Requirement already satisfied: numpy-quaternion in /usr/local/lib/python3.8/dist-packages (2022.4.3)\n",
      "Requirement already satisfied: numpy>=1.13 in /usr/local/lib/python3.8/dist-packages (from numpy-quaternion) (1.22.2)\n",
      "\u001b[33mWARNING: Running pip as the 'root' user can result in broken permissions and conflicting behaviour with the system package manager. It is recommended to use a virtual environment instead: https://pip.pypa.io/warnings/venv\u001b[0m\n",
      "\u001b[33mWARNING: You are using pip version 21.2.4; however, version 23.1.2 is available.\n",
      "You should consider upgrading via the '/usr/bin/python -m pip install --upgrade pip' command.\u001b[0m\n"
     ]
    }
   ],
   "source": [
    "! pip install numpy-quaternion"
   ]
  },
  {
   "cell_type": "code",
   "execution_count": 51,
   "id": "92cc3ddf-cff8-4473-b1c1-a402354d6dba",
   "metadata": {
    "tags": []
   },
   "outputs": [],
   "source": [
    "import os\n",
    "import time\n",
    "from os import path as osp\n",
    "\n",
    "import numpy as np\n",
    "import torch\n",
    "import json\n",
    "\n",
    "import matplotlib.pyplot as plt\n",
    "import matplotlib.animation as animation\n",
    "from scipy.interpolate import interp1d\n",
    "from torch.utils.data import DataLoader\n",
    "\n",
    "from data_Oxiod import *\n",
    "from transformations import *\n",
    "from metric import compute_ate_rte\n",
    "from model_resnet1d import *"
   ]
  },
  {
   "cell_type": "code",
   "execution_count": 52,
   "id": "18ee5b8a-9af9-49a4-b23b-2ab98d680568",
   "metadata": {
    "tags": []
   },
   "outputs": [],
   "source": [
    "def get_dataset(root_dir, data_list):\n",
    "    \n",
    "    sequence = OxfordGlobSpeedSequence(osp.join(root_dir, data_list))\n",
    "    return sequence.features, sequence.targets, sequence.gt_pos\n",
    "\n",
    "\n",
    "def get_dataset_from_list(root_dir, list_path, args, **kwargs):\n",
    "    with open(list_path) as f:\n",
    "        data_list = [s.strip().split(',' or ' ')[0] for s in f.readlines() if len(s) > 0 and s[0] != '#']\n",
    "    return get_dataset(root_dir, data_list)    "
   ]
  },
  {
   "cell_type": "code",
   "execution_count": 53,
   "id": "fd3962b3-0e35-4411-b657-3f982685b8dc",
   "metadata": {
    "tags": []
   },
   "outputs": [],
   "source": [
    "feat, targ, gt_pos = get_dataset('/home/jovyan/localisation_datasets/Oxford Inertial Odometry Dataset/handbag/data1', 'combined3.csv')"
   ]
  },
  {
   "cell_type": "code",
   "execution_count": 55,
   "id": "da5d2c58-7a18-4270-a434-15efe19d431a",
   "metadata": {
    "tags": []
   },
   "outputs": [],
   "source": [
    "import pandas as pd\n",
    "full_data = pd.read_csv('/home/jovyan/localisation_datasets/Oxford Inertial Odometry Dataset/handbag/data1/combined3.csv')"
   ]
  },
  {
   "cell_type": "code",
   "execution_count": 56,
   "id": "bfdbf5b4-82a4-4474-ad3d-2dc6e08bf7c6",
   "metadata": {
    "tags": []
   },
   "outputs": [],
   "source": [
    "gravity_data = pd.read_csv('/home/jovyan/localisation_datasets/Oxford Inertial Odometry Dataset/handbag/data1/syn/imu1.csv')\n",
    "imu_column_names = ['Time', 'attitude_roll(radians)', 'attitude_pitch(radians)', 'attitude_yaw(radians)',\n",
    "                'rotation_rate_x(radians/s)', 'rotation_rate_y(radians/s)', 'rotation_rate_z(radians/s)',\n",
    "                'gravity_x(G)', 'gravity_y(G)', 'gravity_z(G)', 'user_acc_x(G)', 'user_acc_y(G)', 'user_acc_z(G)',\n",
    "                'magnetic_field_x(microteslas)', 'magnetic_field_y(microteslas)', 'magnetic_field_z(microteslas)']\n",
    "gravity_data.columns = imu_column_names\n",
    "gravity_data = gravity_data[['gravity_x(G)', 'gravity_y(G)', 'gravity_z(G)']]"
   ]
  },
  {
   "cell_type": "code",
   "execution_count": 57,
   "id": "b3af9f73-d5a3-41fd-982b-8389b221faef",
   "metadata": {
    "tags": []
   },
   "outputs": [],
   "source": [
    "import numpy as np\n",
    "\n",
    "def quaternion_to_rotation_matrix(q):\n",
    "    # Normalize the quaternion\n",
    "    q = q / np.linalg.norm(q)\n",
    "\n",
    "    # Extract quaternion components\n",
    "    w = q[0]\n",
    "    x = q[1]\n",
    "    y = q[2]\n",
    "    z = q[3]\n",
    "\n",
    "    # Compute rotation matrix\n",
    "    R = np.array([\n",
    "        [1 - 2*y**2 - 2*z**2, 2*x*y - 2*w*z, 2*x*z + 2*w*y],\n",
    "        [2*x*y + 2*w*z, 1 - 2*x**2 - 2*z**2, 2*y*z - 2*w*x],\n",
    "        [2*x*z - 2*w*y, 2*y*z + 2*w*x, 1 - 2*x**2 - 2*y**2]\n",
    "    ])\n",
    "\n",
    "    return R\n"
   ]
  },
  {
   "cell_type": "code",
   "execution_count": 58,
   "id": "80a70714-e54d-48cb-a882-b21ff2ad5269",
   "metadata": {
    "tags": []
   },
   "outputs": [
    {
     "ename": "ValueError",
     "evalue": "Columns must be same length as key",
     "output_type": "error",
     "traceback": [
      "\u001b[0;31m---------------------------------------------------------------------------\u001b[0m",
      "\u001b[0;31mValueError\u001b[0m                                Traceback (most recent call last)",
      "Cell \u001b[0;32mIn[58], line 1\u001b[0m\n\u001b[0;32m----> 1\u001b[0m \u001b[43mfull_data\u001b[49m\u001b[43m[\u001b[49m\u001b[43m[\u001b[49m\u001b[38;5;124;43m'\u001b[39;49m\u001b[38;5;124;43muser_acc_x(G)\u001b[39;49m\u001b[38;5;124;43m'\u001b[39;49m\u001b[43m,\u001b[49m\u001b[43m \u001b[49m\u001b[38;5;124;43m'\u001b[39;49m\u001b[38;5;124;43muser_acc_y(G)\u001b[39;49m\u001b[38;5;124;43m'\u001b[39;49m\u001b[43m,\u001b[49m\u001b[43m \u001b[49m\u001b[38;5;124;43m'\u001b[39;49m\u001b[38;5;124;43muser_acc_z(G)\u001b[39;49m\u001b[38;5;124;43m'\u001b[39;49m\u001b[43m]\u001b[49m\u001b[43m]\u001b[49m \u001b[38;5;241m=\u001b[39m full_data[[\u001b[38;5;124m'\u001b[39m\u001b[38;5;124muser_acc_x(G)\u001b[39m\u001b[38;5;124m'\u001b[39m, \u001b[38;5;124m'\u001b[39m\u001b[38;5;124muser_acc_y(G)\u001b[39m\u001b[38;5;124m'\u001b[39m, \u001b[38;5;124m'\u001b[39m\u001b[38;5;124muser_acc_z(G)\u001b[39m\u001b[38;5;124m'\u001b[39m]] \u001b[38;5;241m-\u001b[39m gravity_data\n",
      "File \u001b[0;32m/usr/local/lib/python3.8/dist-packages/pandas/core/frame.py:3966\u001b[0m, in \u001b[0;36mDataFrame.__setitem__\u001b[0;34m(self, key, value)\u001b[0m\n\u001b[1;32m   3964\u001b[0m     \u001b[38;5;28mself\u001b[39m\u001b[38;5;241m.\u001b[39m_setitem_frame(key, value)\n\u001b[1;32m   3965\u001b[0m \u001b[38;5;28;01melif\u001b[39;00m \u001b[38;5;28misinstance\u001b[39m(key, (Series, np\u001b[38;5;241m.\u001b[39mndarray, \u001b[38;5;28mlist\u001b[39m, Index)):\n\u001b[0;32m-> 3966\u001b[0m     \u001b[38;5;28;43mself\u001b[39;49m\u001b[38;5;241;43m.\u001b[39;49m\u001b[43m_setitem_array\u001b[49m\u001b[43m(\u001b[49m\u001b[43mkey\u001b[49m\u001b[43m,\u001b[49m\u001b[43m \u001b[49m\u001b[43mvalue\u001b[49m\u001b[43m)\u001b[49m\n\u001b[1;32m   3967\u001b[0m \u001b[38;5;28;01melif\u001b[39;00m \u001b[38;5;28misinstance\u001b[39m(value, DataFrame):\n\u001b[1;32m   3968\u001b[0m     \u001b[38;5;28mself\u001b[39m\u001b[38;5;241m.\u001b[39m_set_item_frame_value(key, value)\n",
      "File \u001b[0;32m/usr/local/lib/python3.8/dist-packages/pandas/core/frame.py:4008\u001b[0m, in \u001b[0;36mDataFrame._setitem_array\u001b[0;34m(self, key, value)\u001b[0m\n\u001b[1;32m   4003\u001b[0m \u001b[38;5;28;01melse\u001b[39;00m:\n\u001b[1;32m   4004\u001b[0m     \u001b[38;5;66;03m# Note: unlike self.iloc[:, indexer] = value, this will\u001b[39;00m\n\u001b[1;32m   4005\u001b[0m     \u001b[38;5;66;03m#  never try to overwrite values inplace\u001b[39;00m\n\u001b[1;32m   4007\u001b[0m     \u001b[38;5;28;01mif\u001b[39;00m \u001b[38;5;28misinstance\u001b[39m(value, DataFrame):\n\u001b[0;32m-> 4008\u001b[0m         \u001b[43mcheck_key_length\u001b[49m\u001b[43m(\u001b[49m\u001b[38;5;28;43mself\u001b[39;49m\u001b[38;5;241;43m.\u001b[39;49m\u001b[43mcolumns\u001b[49m\u001b[43m,\u001b[49m\u001b[43m \u001b[49m\u001b[43mkey\u001b[49m\u001b[43m,\u001b[49m\u001b[43m \u001b[49m\u001b[43mvalue\u001b[49m\u001b[43m)\u001b[49m\n\u001b[1;32m   4009\u001b[0m         \u001b[38;5;28;01mfor\u001b[39;00m k1, k2 \u001b[38;5;129;01min\u001b[39;00m \u001b[38;5;28mzip\u001b[39m(key, value\u001b[38;5;241m.\u001b[39mcolumns):\n\u001b[1;32m   4010\u001b[0m             \u001b[38;5;28mself\u001b[39m[k1] \u001b[38;5;241m=\u001b[39m value[k2]\n",
      "File \u001b[0;32m/usr/local/lib/python3.8/dist-packages/pandas/core/indexers/utils.py:401\u001b[0m, in \u001b[0;36mcheck_key_length\u001b[0;34m(columns, key, value)\u001b[0m\n\u001b[1;32m    399\u001b[0m \u001b[38;5;28;01mif\u001b[39;00m columns\u001b[38;5;241m.\u001b[39mis_unique:\n\u001b[1;32m    400\u001b[0m     \u001b[38;5;28;01mif\u001b[39;00m \u001b[38;5;28mlen\u001b[39m(value\u001b[38;5;241m.\u001b[39mcolumns) \u001b[38;5;241m!=\u001b[39m \u001b[38;5;28mlen\u001b[39m(key):\n\u001b[0;32m--> 401\u001b[0m         \u001b[38;5;28;01mraise\u001b[39;00m \u001b[38;5;167;01mValueError\u001b[39;00m(\u001b[38;5;124m\"\u001b[39m\u001b[38;5;124mColumns must be same length as key\u001b[39m\u001b[38;5;124m\"\u001b[39m)\n\u001b[1;32m    402\u001b[0m \u001b[38;5;28;01melse\u001b[39;00m:\n\u001b[1;32m    403\u001b[0m     \u001b[38;5;66;03m# Missing keys in columns are represented as -1\u001b[39;00m\n\u001b[1;32m    404\u001b[0m     \u001b[38;5;28;01mif\u001b[39;00m \u001b[38;5;28mlen\u001b[39m(columns\u001b[38;5;241m.\u001b[39mget_indexer_non_unique(key)[\u001b[38;5;241m0\u001b[39m]) \u001b[38;5;241m!=\u001b[39m \u001b[38;5;28mlen\u001b[39m(value\u001b[38;5;241m.\u001b[39mcolumns):\n",
      "\u001b[0;31mValueError\u001b[0m: Columns must be same length as key"
     ]
    }
   ],
   "source": [
    "full_data[['user_acc_x(G)', 'user_acc_y(G)', 'user_acc_z(G)']] = full_data[['user_acc_x(G)', 'user_acc_y(G)', 'user_acc_z(G)']] - gravity_data"
   ]
  },
  {
   "cell_type": "code",
   "execution_count": 59,
   "id": "0d99468f-76bd-449c-b4c7-9f6dcc2a1ad5",
   "metadata": {
    "tags": []
   },
   "outputs": [],
   "source": [
    "import numpy as np\n",
    "import matplotlib.pyplot as plt\n",
    "glob_acc = []\n",
    "data = full_data.head(20000)\n",
    "for i in range(len(data)):\n",
    "\n",
    "    # Assuming you have the rotation matrix and acceleration vector\n",
    "    rotation_matrix = quaternion_to_rotation_matrix(data[['rotation.w', 'rotation.x', 'rotation.y', 'rotation.z']].values[i,:])  # 3x3 rotation matrix\n",
    "    acceleration_local = data[['user_acc_x(G)', 'user_acc_y(G)', 'user_acc_z(G)']].values[i,:]  # 3x1 acceleration vector in the local coordinate frame\n",
    "\n",
    "    # Perform matrix multiplication\n",
    "    acceleration_global = np.dot(rotation_matrix, acceleration_local)\n",
    "\n",
    "    # Print the transformed acceleration in the global coordinate frame\n",
    "    glob_acc.append(acceleration_global)\n"
   ]
  },
  {
   "cell_type": "code",
   "execution_count": 60,
   "id": "b70ae259-9edb-4f35-b8d8-37603bbdfc2c",
   "metadata": {
    "tags": []
   },
   "outputs": [],
   "source": [
    "# Initial conditions\n",
    "initial_position = [0, 0, 0]  # Initial position [x, y, z]\n",
    "initial_velocity = [0, 0, 0]  # Initial velocity [x_dot, y_dot, z_dot]\n",
    "trajectory = [[0], [0], [0]]\n",
    "velocity_traj = [[0], [0], [0]]\n",
    "\n",
    "# Variables for current state\n",
    "position = initial_position.copy()\n",
    "velocity = initial_velocity.copy()\n",
    "\n",
    "# Variables for previous state\n",
    "prev_timestamp = 0.0\n",
    "prev_acceleration = [0, 0, 0]  # Previous acceleration [x, y, z]\n"
   ]
  },
  {
   "cell_type": "code",
   "execution_count": 61,
   "id": "ed907fbe-4097-4e66-b210-0e93f1f75324",
   "metadata": {
    "tags": []
   },
   "outputs": [],
   "source": [
    "for acceleration in glob_acc:\n",
    "    # Calculate time difference\n",
    "    dt = 0.01\n",
    "\n",
    "    # Double integration for position\n",
    "    position[0] += velocity[0] * dt + 0.5 * acceleration[0] * dt**2\n",
    "    position[1] += velocity[1] * dt + 0.5 * acceleration[1] * dt**2\n",
    "    position[2] += velocity[2] * dt + 0.5 * acceleration[2] * dt**2\n",
    "    trajectory[0].append(position[0])\n",
    "    trajectory[1].append(position[1])\n",
    "    trajectory[2].append(position[2])\n",
    "\n",
    "    # Update velocity\n",
    "    velocity[0] += acceleration[0] * dt\n",
    "    velocity[1] += acceleration[1] * dt\n",
    "    velocity[2] += acceleration[2] * dt\n",
    "    velocity_traj[0].append(velocity[0])\n",
    "    velocity_traj[1].append(velocity[1])\n",
    "    velocity_traj[2].append(velocity[2])\n",
    "\n",
    "    # Store current values as previous values for the next iteration\n",
    "    prev_acceleration = acceleration.copy()\n"
   ]
  },
  {
   "cell_type": "code",
   "execution_count": 62,
   "id": "53f50a0d-063c-4ab6-ae3e-69874d91e88f",
   "metadata": {
    "tags": []
   },
   "outputs": [
    {
     "data": {
      "text/plain": [
       "[<matplotlib.lines.Line2D at 0x7f40226d59a0>]"
      ]
     },
     "execution_count": 62,
     "metadata": {},
     "output_type": "execute_result"
    },
    {
     "data": {
      "image/png": "[encoded data removed]",
      "text/plain": [
       "<Figure size 640x480 with 4 Axes>"
      ]
     },
     "metadata": {},
     "output_type": "display_data"
    }
   ],
   "source": [
    "plt.subplot(2,2,1)\n",
    "plt.plot(velocity_traj[0])\n",
    "#plt.plot(targ[:,0])\n",
    "\n",
    "plt.subplot(2,2,2)\n",
    "plt.plot(velocity_traj[1])\n",
    "#plt.plot(targ[:,0])\n",
    "\n",
    "plt.subplot(2,2,3)\n",
    "plt.plot(trajectory[0])\n",
    "#plt.plot(gt_pos[:,0])\n",
    "\n",
    "plt.subplot(2,2,4)\n",
    "plt.plot(trajectory[1])\n",
    "#plt.plot(gt_pos[:,0])"
   ]
  },
  {
   "cell_type": "markdown",
   "id": "d40827fb-98e1-4576-940e-7474284a6231",
   "metadata": {
    "jp-MarkdownHeadingCollapsed": true,
    "tags": []
   },
   "source": [
    "## Pedestrian Dead Reckoning"
   ]
  },
  {
   "cell_type": "code",
   "execution_count": 1,
   "id": "c992606d-1745-4adc-86a6-526cd79fbf55",
   "metadata": {
    "tags": []
   },
   "outputs": [
    {
     "name": "stdout",
     "output_type": "stream",
     "text": [
      "All done. Average ate:nan, average rte: nan\n"
     ]
    },
    {
     "name": "stderr",
     "output_type": "stream",
     "text": [
      "/usr/local/lib/python3.8/dist-packages/numpy/core/fromnumeric.py:3474: RuntimeWarning: Mean of empty slice.\n",
      "  return _methods._mean(a, axis=axis, dtype=dtype,\n",
      "/usr/local/lib/python3.8/dist-packages/numpy/core/_methods.py:189: RuntimeWarning: invalid value encountered in double_scalars\n",
      "  ret = ret.dtype.type(ret / rcount)\n"
     ]
    }
   ],
   "source": [
    "import argparse\n",
    "import json\n",
    "import os\n",
    "import sys\n",
    "from os import path as osp\n",
    "\n",
    "import h5py\n",
    "import matplotlib.pyplot as plt\n",
    "import numpy as np\n",
    "import quaternion\n",
    "from scipy.interpolate import interp1d\n",
    "\n",
    "#if want to search for packages from the parent file\n",
    "#sys.path.append(osp.join(osp.dirname(osp.abspath(__file__)), '..'))\n",
    "\n",
    "from math_util import *\n",
    "from metric import compute_absolute_trajectory_error, compute_relative_trajectory_error\n",
    "\n"
   ]
  },
  {
   "cell_type": "code",
   "execution_count": null,
   "id": "c6137319-3bc7-4330-a076-c2510cd73e5c",
   "metadata": {},
   "outputs": [],
   "source": [
    "args = argparse.Namespace()\n",
    "args.list = None\n",
    "args.root_dir = None\n",
    "args.align_length = 600\n",
    "args.path = None\n",
    "args.stride = 0.67\n",
    "args.out_dir = None\n",
    "args.show_plot = False\n",
    "\n",
    "\n",
    "\n"
   ]
  },
  {
   "cell_type": "code",
   "execution_count": null,
   "id": "068ba436-6c12-4ae6-91d2-abe3711458e5",
   "metadata": {},
   "outputs": [],
   "source": [
    "root_dir, data_list = '', []\n",
    "if args.path is not None:\n",
    "    if args.path[-1] == '/':\n",
    "        args.path = args.path[:-1]\n",
    "    root_dir = osp.split(args.path)[0]\n",
    "    data_list = [osp.split(args.path)[1]]\n",
    "elif args.list is not None:\n",
    "    root_dir = args.root_dir\n",
    "    with open(args.list) as f:\n",
    "        data_list = [s.strip().split()[0] for s in f.readlines() if len(s) > 0 and s[0] != '#']\n",
    "\n",
    "if args.out_dir is not None and not osp.isdir(args.out_dir):\n",
    "    os.makedirs(args.out_dir)\n",
    "\n",
    "ate_all, rte_all = [], []\n",
    "pred_per_min = 200 * 60\n",
    "\n",
    "for data in data_list:\n",
    "    data_path = osp.join(root_dir, data)\n",
    "    with open(osp.join(data_path, 'info.json')) as f:\n",
    "        info = json.load(f)\n",
    "        device = info['device']\n",
    "        rot_imu_to_tango = quaternion.quaternion(*info['start_calibration'])\n",
    "        ref_time_imu = info['imu_reference_time']\n",
    "        imu_time_offset = info['imu_time_offset']\n",
    "        start_frame = info.get('start_frame', 0)\n",
    "\n",
    "    with h5py.File(osp.join(data_path, 'data.hdf5')) as f:\n",
    "        ori = np.copy(f['synced/game_rv'])\n",
    "        tango_ori_q = quaternion.from_float_array(f['pose/tango_ori'])\n",
    "        ori_q = quaternion.from_float_array(ori)\n",
    "        init_rotor = tango_ori_q[0] * rot_imu_to_tango * ori_q[0].conj()\n",
    "        ori = quaternion.as_float_array(init_rotor * ori_q)[start_frame:]\n",
    "\n",
    "        ts = np.copy(f['synced/time'])[start_frame:]\n",
    "        tango_pos = np.copy(f['pose/tango_pos'])[start_frame:]\n",
    "        step = np.copy(f['raw/imu/step'])\n",
    "\n",
    "    step_ts = step[:, 0] / 1e09 - imu_time_offset\n",
    "    sid, eid = 0, step_ts.shape[0] - 1\n",
    "    while sid < step_ts.shape[0] and ts[0] > step_ts[sid]:\n",
    "        sid += 1\n",
    "    while eid >= 0 and ts[-1] < step_ts[eid]:\n",
    "        eid -= 1\n",
    "    assert sid < step_ts.shape[0] and eid >= 0\n",
    "\n",
    "    step_ts = step_ts[sid:eid + 1]\n",
    "    step = step[sid:eid + 1]\n",
    "\n",
    "    ori_at_step = interpolate_quaternion_linear(ori, ts, step_ts)\n",
    "    yaw_at_step = orientation_to_angles(ori_at_step)[:, 0]\n",
    "\n",
    "    rot_hori = np.stack([np.cos(yaw_at_step), np.sin(yaw_at_step),\n",
    "                         -np.sin(yaw_at_step), np.cos(yaw_at_step)], axis=1).reshape([-1, 2, 2])\n",
    "    step_v = np.stack([np.zeros(step.shape[0]), np.ones(step.shape[0]) * args.stride], axis=1)\n",
    "\n",
    "    step_glob = np.squeeze(np.matmul(rot_hori, np.expand_dims(step_v, axis=2)), axis=2)\n",
    "    pos_pred = np.zeros([step_glob.shape[0] + 1, 2])\n",
    "    step_ts = np.concatenate([[ts[0]], step_ts], axis=0)\n",
    "    pos_pred[0] = tango_pos[0][:2]\n",
    "    pos_pred[1:] = np.cumsum(step_glob, axis=0) + pos_pred[0]\n",
    "\n",
    "    eid = ts.shape[0] - 1\n",
    "    while eid >= 0 and ts[eid] > step_ts[-1]:\n",
    "        eid -= 1\n",
    "    pos_gt = tango_pos[:eid + 1, :2]\n",
    "    pos_pred = interp1d(step_ts, pos_pred, axis=0)(ts[:eid + 1])\n",
    "\n",
    "    if args.align_length is not None and args.align_length > 0:\n",
    "        _, r, t = icp_fit_transformation(pos_pred[:args.align_length], pos_gt[:args.align_length])\n",
    "        pos_pred = np.matmul(r, pos_pred.T).T + t\n",
    "\n",
    "    # For trajectories shorted than 1 min, we scale the RTE value accordingly.\n",
    "    if pos_pred.shape[0] < pred_per_min:\n",
    "        ratio = pred_per_min / pos_pred.shape[0]\n",
    "        rte = compute_relative_trajectory_error(pos_pred, pos_gt, delta=pos_pred.shape[0] - 1) * ratio\n",
    "    else:\n",
    "        rte = compute_relative_trajectory_error(pos_pred, pos_gt, delta=pred_per_min)\n",
    "    rte_all.append(rte)\n",
    "\n",
    "    ate = compute_absolute_trajectory_error(pos_pred, pos_gt)\n",
    "    ate_all.append(ate)\n",
    "    print('Sequence {}, ate {:.6f}, rte {:.6f}'.format(data, ate, rte))\n",
    "\n",
    "    plt.close('all')\n",
    "    plt.figure(data, figsize=(8, 6))\n",
    "    plt.plot(pos_gt[:, 0], pos_gt[:, 1])\n",
    "    plt.plot(pos_pred[:, 0], pos_pred[:, 1])\n",
    "    plt.legend(['Ground truth', 'Estimated'])\n",
    "    plt.axis('equal')\n",
    "    plt.tight_layout()\n",
    "\n",
    "    if args.out_dir is not None and osp.isdir(args.out_dir):\n",
    "        plt.savefig(osp.join(args.out_dir, data + '_pdr.png'))\n",
    "\n",
    "    if args.show_plot:\n",
    "        plt.show()\n",
    "\n",
    "print('All done. Average ate:{:.6f}, average rte: {:.6f}'.format(np.mean(ate_all), np.mean(rte_all)))\n",
    "if args.out_dir is not None and osp.isdir(args.out_dir):\n",
    "    with open(osp.join(args.out_dir, 'result.csv'), 'w') as f:\n",
    "        f.write('seq,ate,rte\\n')\n",
    "        for i in range(len(data_list)):\n",
    "            f.write('{},{:.6f},{:.6f}\\n'.format(data_list[i], ate_all[i], rte_all[i]))"
   ]
  }
 ],
 "metadata": {
  "interpreter": {
   "hash": "aee8b7b246df8f9039afb4144a1f6fd8d2ca17a180786b69acc140d282b71a49"
  },
  "kernelspec": {
   "display_name": "Python 3 (ipykernel)",
   "language": "python",
   "name": "python3"
  },
  "language_info": {
   "codemirror_mode": {
    "name": "ipython",
    "version": 3
   },
   "file_extension": ".py",
   "mimetype": "text/x-python",
   "name": "python",
   "nbconvert_exporter": "python",
   "pygments_lexer": "ipython3",
   "version": "3.8.10"
  }
 },
 "nbformat": 4,
 "nbformat_minor": 5
}
