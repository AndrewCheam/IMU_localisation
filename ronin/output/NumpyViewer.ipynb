{
 "cells": [
  {
   "cell_type": "code",
   "execution_count": 3,
   "id": "433181c4-cdc7-4607-aef5-cee52411fa05",
   "metadata": {
    "tags": []
   },
   "outputs": [
    {
     "name": "stdout",
     "output_type": "stream",
     "text": [
      "(167570, 4)\n",
      "[[-0.69660214  1.22432237 -0.69660073  1.22432393]\n",
      " [-0.69660229  1.22432222 -0.69658948  1.22437271]\n",
      " [-0.69660243  1.22432206 -0.69657525  1.22442856]\n",
      " ...\n",
      " [-3.17213946  4.98853892  0.99359451  0.7390105 ]\n",
      " [-3.17213946  4.98853892  0.99359451  0.7390105 ]\n",
      " [-3.17213946  4.98853892  0.99359458  0.73901055]]\n"
     ]
    }
   ],
   "source": [
    "import numpy as np\n",
    "\n",
    "# Load the NPY file\n",
    "data = np.load('a006_2_gsn.npy')\n",
    "\n",
    "# View the loaded data\n",
    "print(data.shape)\n",
    "print(data)"
   ]
  },
  {
   "cell_type": "code",
   "execution_count": null,
   "id": "a6654012-5348-4c98-8042-04d7b723b037",
   "metadata": {},
   "outputs": [],
   "source": []
  }
 ],
 "metadata": {
  "kernelspec": {
   "display_name": "Python 3 (ipykernel)",
   "language": "python",
   "name": "python3"
  },
  "language_info": {
   "codemirror_mode": {
    "name": "ipython",
    "version": 3
   },
   "file_extension": ".py",
   "mimetype": "text/x-python",
   "name": "python",
   "nbconvert_exporter": "python",
   "pygments_lexer": "ipython3",
   "version": "3.8.10"
  }
 },
 "nbformat": 4,
 "nbformat_minor": 5
}
